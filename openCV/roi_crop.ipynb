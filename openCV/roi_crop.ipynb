{
 "cells": [
  {
   "cell_type": "code",
   "execution_count": 7,
   "metadata": {},
   "outputs": [],
   "source": [
    "import cv2\n",
    "import numpy as np"
   ]
  },
  {
   "cell_type": "code",
   "execution_count": 8,
   "metadata": {},
   "outputs": [],
   "source": [
    "is_dragging = False\n",
    "x0, y0, w, h = -1, -1, -1, -1\n",
    "blue, red = (255, 0, 0), (0, 0, 255)"
   ]
  },
  {
   "cell_type": "code",
   "execution_count": 9,
   "metadata": {},
   "outputs": [],
   "source": [
    "def on_mouse(event, x, y, flags, param):\n",
    "    global is_dragging, x0, y0, img\n",
    "    if event == cv2.EVENT_LBUTTONDOWN:\n",
    "        is_dragging = True\n",
    "        x0 = x\n",
    "        y0 = y\n",
    "    elif event == cv2.EVENT_MOUSEMOVE:\n",
    "        img_draw = img.copy()\n",
    "        cv2.rectangle(img_draw, (x0, y0), (x, y), blue, 2)\n",
    "        cv2.imshow('img', img_draw)\n",
    "    elif event == cv2.EVENT_LBUTTONUP:\n",
    "        if is_dragging:\n",
    "            is_dragging = False\n",
    "            w = x - x0\n",
    "            h = y - y0\n",
    "            print(f'x:{x0}, y:{y0}, w:{w}, h:{h}')\n",
    "            if w > 0 and h > 0:\n",
    "                img_draw = img.copy()\n",
    "                cv2.rectangle(img_draw, (x0, y0), (x, y), red, 2)\n",
    "                cv2.imshow('img', img_draw)\n",
    "                roi = img[y0:y0+h, x0:x0+w]\n",
    "                cv2.imshow('cropped', roi)\n",
    "                cv2.moveWindow('cropped', 0, 0)\n",
    "                cv2.imwrite('./cropped.jpg', roi)\n",
    "                print('cropped')\n",
    "            else:\n",
    "                cv2.imshow('img', img)\n"
   ]
  },
  {
   "cell_type": "code",
   "execution_count": 10,
   "metadata": {},
   "outputs": [
    {
     "name": "stdout",
     "output_type": "stream",
     "text": [
      "x:179, y:118, w:0, h:0\n",
      "x:124, y:69, w:0, h:0\n",
      "x:151, y:57, w:0, h:0\n",
      "x:265, y:166, w:0, h:0\n",
      "x:132, y:66, w:0, h:0\n",
      "x:132, y:66, w:131, h:133\n",
      "cropped\n",
      "x:269, y:202, w:0, h:0\n"
     ]
    }
   ],
   "source": [
    "img = cv2.imread('Image/ray.jpg')\n",
    "cv2.imshow('img', img)\n",
    "cv2.setMouseCallback('img', on_mouse)\n",
    "cv2.waitKey()\n",
    "cv2.destroyAllWindows()"
   ]
  },
  {
   "cell_type": "code",
   "execution_count": null,
   "metadata": {},
   "outputs": [],
   "source": []
  }
 ],
 "metadata": {
  "kernelspec": {
   "display_name": "Python 3",
   "language": "python",
   "name": "python3"
  },
  "language_info": {
   "codemirror_mode": {
    "name": "ipython",
    "version": 3
   },
   "file_extension": ".py",
   "mimetype": "text/x-python",
   "name": "python",
   "nbconvert_exporter": "python",
   "pygments_lexer": "ipython3",
   "version": "3.8.3"
  }
 },
 "nbformat": 4,
 "nbformat_minor": 4
}
