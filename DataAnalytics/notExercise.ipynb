{
  "nbformat": 4,
  "nbformat_minor": 0,
  "metadata": {
    "colab": {
      "name": "notExercise.ipynb",
      "provenance": [],
      "authorship_tag": "ABX9TyOxwG0Y5NYnIgnQtogvLHWV",
      "include_colab_link": true
    },
    "kernelspec": {
      "name": "python3",
      "display_name": "Python 3"
    }
  },
  "cells": [
    {
      "cell_type": "markdown",
      "metadata": {
        "id": "view-in-github",
        "colab_type": "text"
      },
      "source": [
        "<a href=\"https://colab.research.google.com/github/hijinkim/TIL/blob/master/notExercise.ipynb\" target=\"_parent\"><img src=\"https://colab.research.google.com/assets/colab-badge.svg\" alt=\"Open In Colab\"/></a>"
      ]
    },
    {
      "cell_type": "code",
      "metadata": {
        "colab": {
          "base_uri": "https://localhost:8080/"
        },
        "id": "HKHuQBd-1p6t",
        "outputId": "79deafea-368b-40c4-b8fa-d3b78bd6b2d8"
      },
      "source": [
        "!apt-get update\r\n",
        "!apt-get install -y fonts-nanum\r\n",
        "!fc=cache -fv\r\n",
        "!rm ~/.cache/matplotlib -rf"
      ],
      "execution_count": 1,
      "outputs": [
        {
          "output_type": "stream",
          "text": [
            "Ign:1 https://developer.download.nvidia.com/compute/cuda/repos/ubuntu1804/x86_64  InRelease\n",
            "Get:2 https://cloud.r-project.org/bin/linux/ubuntu bionic-cran40/ InRelease [3,626 B]\n",
            "Ign:3 https://developer.download.nvidia.com/compute/machine-learning/repos/ubuntu1804/x86_64  InRelease\n",
            "Get:4 http://security.ubuntu.com/ubuntu bionic-security InRelease [88.7 kB]\n",
            "Hit:5 https://developer.download.nvidia.com/compute/cuda/repos/ubuntu1804/x86_64  Release\n",
            "Hit:6 https://developer.download.nvidia.com/compute/machine-learning/repos/ubuntu1804/x86_64  Release\n",
            "Hit:7 http://archive.ubuntu.com/ubuntu bionic InRelease\n",
            "Get:8 http://ppa.launchpad.net/c2d4u.team/c2d4u4.0+/ubuntu bionic InRelease [15.9 kB]\n",
            "Get:9 http://archive.ubuntu.com/ubuntu bionic-updates InRelease [88.7 kB]\n",
            "Hit:11 http://ppa.launchpad.net/cran/libgit2/ubuntu bionic InRelease\n",
            "Get:13 http://archive.ubuntu.com/ubuntu bionic-backports InRelease [74.6 kB]\n",
            "Hit:14 http://ppa.launchpad.net/graphics-drivers/ppa/ubuntu bionic InRelease\n",
            "Get:15 http://security.ubuntu.com/ubuntu bionic-security/main amd64 Packages [1,929 kB]\n",
            "Get:16 http://security.ubuntu.com/ubuntu bionic-security/universe amd64 Packages [1,391 kB]\n",
            "Get:17 http://ppa.launchpad.net/c2d4u.team/c2d4u4.0+/ubuntu bionic/main Sources [1,733 kB]\n",
            "Get:18 http://archive.ubuntu.com/ubuntu bionic-updates/universe amd64 Packages [2,163 kB]\n",
            "Get:19 http://archive.ubuntu.com/ubuntu bionic-updates/main amd64 Packages [2,360 kB]\n",
            "Get:20 http://ppa.launchpad.net/c2d4u.team/c2d4u4.0+/ubuntu bionic/main amd64 Packages [887 kB]\n",
            "Fetched 10.7 MB in 4s (2,716 kB/s)\n",
            "Reading package lists... Done\n",
            "Reading package lists... Done\n",
            "Building dependency tree       \n",
            "Reading state information... Done\n",
            "The following NEW packages will be installed:\n",
            "  fonts-nanum\n",
            "0 upgraded, 1 newly installed, 0 to remove and 31 not upgraded.\n",
            "Need to get 9,604 kB of archives.\n",
            "After this operation, 29.5 MB of additional disk space will be used.\n",
            "Get:1 http://archive.ubuntu.com/ubuntu bionic/universe amd64 fonts-nanum all 20170925-1 [9,604 kB]\n",
            "Fetched 9,604 kB in 2s (5,117 kB/s)\n",
            "Selecting previously unselected package fonts-nanum.\n",
            "(Reading database ... 146442 files and directories currently installed.)\n",
            "Preparing to unpack .../fonts-nanum_20170925-1_all.deb ...\n",
            "Unpacking fonts-nanum (20170925-1) ...\n",
            "Setting up fonts-nanum (20170925-1) ...\n",
            "Processing triggers for fontconfig (2.12.6-0ubuntu2) ...\n",
            "/bin/bash: -fv: command not found\n"
          ],
          "name": "stdout"
        }
      ]
    },
    {
      "cell_type": "code",
      "metadata": {
        "id": "eriVTOUf2GKW"
      },
      "source": [
        "import matplotlib as mpl\r\n",
        "import matplotlib.pyplot as plt\r\n",
        "\r\n",
        "mpl.rcParams['axes.unicode_minus'] = False\r\n",
        "plt.rc('font', family='NanumBarunGothic')"
      ],
      "execution_count": 1,
      "outputs": []
    },
    {
      "cell_type": "code",
      "metadata": {
        "id": "SabdY1Gv2YTm"
      },
      "source": [
        "import warnings\r\n",
        "warnings.filterwarnings('ignore')"
      ],
      "execution_count": 2,
      "outputs": []
    },
    {
      "cell_type": "code",
      "metadata": {
        "colab": {
          "base_uri": "https://localhost:8080/"
        },
        "id": "gbbTk5B-2cIn",
        "outputId": "17346e2d-ea3a-4ae4-a2d4-dd52161c526e"
      },
      "source": [
        "!ls -l"
      ],
      "execution_count": 3,
      "outputs": [
        {
          "output_type": "stream",
          "text": [
            "total 20\n",
            "-rw-r--r-- 1 root root 16384 Feb 23 07:43 notExercise.xls\n",
            "drwxr-xr-x 1 root root  4096 Feb 16 16:35 sample_data\n"
          ],
          "name": "stdout"
        }
      ]
    },
    {
      "cell_type": "code",
      "metadata": {
        "colab": {
          "base_uri": "https://localhost:8080/",
          "height": 374
        },
        "id": "PXMHqyAK2eDF",
        "outputId": "15d224f9-5774-4968-f9e9-6df7cd0c8c49"
      },
      "source": [
        "import pandas as pd\r\n",
        "\r\n",
        "DF = pd.read_excel('notExercise.xls')\r\n",
        "DF.head()"
      ],
      "execution_count": 5,
      "outputs": [
        {
          "output_type": "execute_result",
          "data": {
            "text/html": [
              "<div>\n",
              "<style scoped>\n",
              "    .dataframe tbody tr th:only-of-type {\n",
              "        vertical-align: middle;\n",
              "    }\n",
              "\n",
              "    .dataframe tbody tr th {\n",
              "        vertical-align: top;\n",
              "    }\n",
              "\n",
              "    .dataframe thead th {\n",
              "        text-align: right;\n",
              "    }\n",
              "</style>\n",
              "<table border=\"1\" class=\"dataframe\">\n",
              "  <thead>\n",
              "    <tr style=\"text-align: right;\">\n",
              "      <th></th>\n",
              "      <th>기간</th>\n",
              "      <th>대분류</th>\n",
              "      <th>분류</th>\n",
              "      <th>운동을 할 충분한 시간이 없어서</th>\n",
              "      <th>함께 운동을 할 사람이 없어서</th>\n",
              "      <th>운동을 할 만한 장소가 없어서</th>\n",
              "      <th>운동을 싫어해서</th>\n",
              "      <th>기타</th>\n",
              "    </tr>\n",
              "  </thead>\n",
              "  <tbody>\n",
              "    <tr>\n",
              "      <th>0</th>\n",
              "      <td>2017</td>\n",
              "      <td>서울시</td>\n",
              "      <td>서울시</td>\n",
              "      <td>49.7</td>\n",
              "      <td>8.1</td>\n",
              "      <td>5.8</td>\n",
              "      <td>34.7</td>\n",
              "      <td>1.7</td>\n",
              "    </tr>\n",
              "    <tr>\n",
              "      <th>1</th>\n",
              "      <td>2017</td>\n",
              "      <td>성별</td>\n",
              "      <td>남자</td>\n",
              "      <td>55.2</td>\n",
              "      <td>7.9</td>\n",
              "      <td>5.5</td>\n",
              "      <td>29.8</td>\n",
              "      <td>1.6</td>\n",
              "    </tr>\n",
              "    <tr>\n",
              "      <th>2</th>\n",
              "      <td>2017</td>\n",
              "      <td>성별</td>\n",
              "      <td>여자</td>\n",
              "      <td>45.0</td>\n",
              "      <td>8.3</td>\n",
              "      <td>6.0</td>\n",
              "      <td>38.8</td>\n",
              "      <td>1.8</td>\n",
              "    </tr>\n",
              "    <tr>\n",
              "      <th>3</th>\n",
              "      <td>2017</td>\n",
              "      <td>연령별</td>\n",
              "      <td>10대</td>\n",
              "      <td>55.7</td>\n",
              "      <td>6.1</td>\n",
              "      <td>5.6</td>\n",
              "      <td>32.2</td>\n",
              "      <td>0.3</td>\n",
              "    </tr>\n",
              "    <tr>\n",
              "      <th>4</th>\n",
              "      <td>2017</td>\n",
              "      <td>연령별</td>\n",
              "      <td>20대</td>\n",
              "      <td>54.8</td>\n",
              "      <td>6.9</td>\n",
              "      <td>5.2</td>\n",
              "      <td>32.9</td>\n",
              "      <td>0.1</td>\n",
              "    </tr>\n",
              "  </tbody>\n",
              "</table>\n",
              "</div>"
            ],
            "text/plain": [
              "     기간  대분류   분류  ...  운동을 할 만한 장소가 없어서 운동을 싫어해서   기타\n",
              "0  2017  서울시  서울시  ...               5.8     34.7  1.7\n",
              "1  2017   성별   남자  ...               5.5     29.8  1.6\n",
              "2  2017   성별   여자  ...               6.0     38.8  1.8\n",
              "3  2017  연령별  10대  ...               5.6     32.2  0.3\n",
              "4  2017  연령별  20대  ...               5.2     32.9  0.1\n",
              "\n",
              "[5 rows x 8 columns]"
            ]
          },
          "metadata": {
            "tags": []
          },
          "execution_count": 5
        }
      ]
    },
    {
      "cell_type": "code",
      "metadata": {
        "colab": {
          "base_uri": "https://localhost:8080/",
          "height": 306
        },
        "id": "mxrbNzPa2ryB",
        "outputId": "b9ad919b-7351-4343-c98a-98856eee84ef"
      },
      "source": [
        "DF.drop(columns='기간', inplace=True)\r\n",
        "\r\n",
        "DF.tail()"
      ],
      "execution_count": 6,
      "outputs": [
        {
          "output_type": "execute_result",
          "data": {
            "text/html": [
              "<div>\n",
              "<style scoped>\n",
              "    .dataframe tbody tr th:only-of-type {\n",
              "        vertical-align: middle;\n",
              "    }\n",
              "\n",
              "    .dataframe tbody tr th {\n",
              "        vertical-align: top;\n",
              "    }\n",
              "\n",
              "    .dataframe thead th {\n",
              "        text-align: right;\n",
              "    }\n",
              "</style>\n",
              "<table border=\"1\" class=\"dataframe\">\n",
              "  <thead>\n",
              "    <tr style=\"text-align: right;\">\n",
              "      <th></th>\n",
              "      <th>대분류</th>\n",
              "      <th>분류</th>\n",
              "      <th>운동을 할 충분한 시간이 없어서</th>\n",
              "      <th>함께 운동을 할 사람이 없어서</th>\n",
              "      <th>운동을 할 만한 장소가 없어서</th>\n",
              "      <th>운동을 싫어해서</th>\n",
              "      <th>기타</th>\n",
              "    </tr>\n",
              "  </thead>\n",
              "  <tbody>\n",
              "    <tr>\n",
              "      <th>48</th>\n",
              "      <td>관악구</td>\n",
              "      <td>관악구</td>\n",
              "      <td>50.7</td>\n",
              "      <td>7.1</td>\n",
              "      <td>6.9</td>\n",
              "      <td>33.6</td>\n",
              "      <td>1.7</td>\n",
              "    </tr>\n",
              "    <tr>\n",
              "      <th>49</th>\n",
              "      <td>서초구</td>\n",
              "      <td>서초구</td>\n",
              "      <td>59.8</td>\n",
              "      <td>3.4</td>\n",
              "      <td>3.2</td>\n",
              "      <td>32.0</td>\n",
              "      <td>1.5</td>\n",
              "    </tr>\n",
              "    <tr>\n",
              "      <th>50</th>\n",
              "      <td>강남구</td>\n",
              "      <td>강남구</td>\n",
              "      <td>59.1</td>\n",
              "      <td>5.5</td>\n",
              "      <td>2.6</td>\n",
              "      <td>31.5</td>\n",
              "      <td>1.3</td>\n",
              "    </tr>\n",
              "    <tr>\n",
              "      <th>51</th>\n",
              "      <td>송파구</td>\n",
              "      <td>송파구</td>\n",
              "      <td>42.6</td>\n",
              "      <td>7.2</td>\n",
              "      <td>5.8</td>\n",
              "      <td>44.3</td>\n",
              "      <td>0.1</td>\n",
              "    </tr>\n",
              "    <tr>\n",
              "      <th>52</th>\n",
              "      <td>강동구</td>\n",
              "      <td>강동구</td>\n",
              "      <td>53.1</td>\n",
              "      <td>9.6</td>\n",
              "      <td>6.8</td>\n",
              "      <td>30.4</td>\n",
              "      <td>0.1</td>\n",
              "    </tr>\n",
              "  </tbody>\n",
              "</table>\n",
              "</div>"
            ],
            "text/plain": [
              "    대분류   분류  운동을 할 충분한 시간이 없어서  ... 운동을 할 만한 장소가 없어서  운동을 싫어해서   기타\n",
              "48  관악구  관악구               50.7  ...              6.9      33.6  1.7\n",
              "49  서초구  서초구               59.8  ...              3.2      32.0  1.5\n",
              "50  강남구  강남구               59.1  ...              2.6      31.5  1.3\n",
              "51  송파구  송파구               42.6  ...              5.8      44.3  0.1\n",
              "52  강동구  강동구               53.1  ...              6.8      30.4  0.1\n",
              "\n",
              "[5 rows x 7 columns]"
            ]
          },
          "metadata": {
            "tags": []
          },
          "execution_count": 6
        }
      ]
    },
    {
      "cell_type": "code",
      "metadata": {
        "colab": {
          "base_uri": "https://localhost:8080/"
        },
        "id": "avN4X6P82sZG",
        "outputId": "c0cd604b-4ddf-4c4f-fc34-a665d1f997e1"
      },
      "source": [
        "DF['대분류'][23:]"
      ],
      "execution_count": 7,
      "outputs": [
        {
          "output_type": "execute_result",
          "data": {
            "text/plain": [
              "23    지역대분류\n",
              "24    지역대분류\n",
              "25    지역대분류\n",
              "26    지역대분류\n",
              "27    지역대분류\n",
              "28      종로구\n",
              "29       중구\n",
              "30      용산구\n",
              "31      성동구\n",
              "32      광진구\n",
              "33     동대문구\n",
              "34      중랑구\n",
              "35      성북구\n",
              "36      강북구\n",
              "37      도봉구\n",
              "38      노원구\n",
              "39      은평구\n",
              "40     서대문구\n",
              "41      마포구\n",
              "42      양천구\n",
              "43      강서구\n",
              "44      구로구\n",
              "45      금천구\n",
              "46     영등포구\n",
              "47      동작구\n",
              "48      관악구\n",
              "49      서초구\n",
              "50      강남구\n",
              "51      송파구\n",
              "52      강동구\n",
              "Name: 대분류, dtype: object"
            ]
          },
          "metadata": {
            "tags": []
          },
          "execution_count": 7
        }
      ]
    },
    {
      "cell_type": "code",
      "metadata": {
        "colab": {
          "base_uri": "https://localhost:8080/",
          "height": 966
        },
        "id": "nF8_iVFI26Cv",
        "outputId": "1c534b34-0a1d-40bd-a509-457d73bac987"
      },
      "source": [
        "DF.drop(index=range(23, 53), inplace=True)\r\n",
        "DF"
      ],
      "execution_count": 8,
      "outputs": [
        {
          "output_type": "execute_result",
          "data": {
            "text/html": [
              "<div>\n",
              "<style scoped>\n",
              "    .dataframe tbody tr th:only-of-type {\n",
              "        vertical-align: middle;\n",
              "    }\n",
              "\n",
              "    .dataframe tbody tr th {\n",
              "        vertical-align: top;\n",
              "    }\n",
              "\n",
              "    .dataframe thead th {\n",
              "        text-align: right;\n",
              "    }\n",
              "</style>\n",
              "<table border=\"1\" class=\"dataframe\">\n",
              "  <thead>\n",
              "    <tr style=\"text-align: right;\">\n",
              "      <th></th>\n",
              "      <th>대분류</th>\n",
              "      <th>분류</th>\n",
              "      <th>운동을 할 충분한 시간이 없어서</th>\n",
              "      <th>함께 운동을 할 사람이 없어서</th>\n",
              "      <th>운동을 할 만한 장소가 없어서</th>\n",
              "      <th>운동을 싫어해서</th>\n",
              "      <th>기타</th>\n",
              "    </tr>\n",
              "  </thead>\n",
              "  <tbody>\n",
              "    <tr>\n",
              "      <th>0</th>\n",
              "      <td>서울시</td>\n",
              "      <td>서울시</td>\n",
              "      <td>49.7</td>\n",
              "      <td>8.1</td>\n",
              "      <td>5.8</td>\n",
              "      <td>34.7</td>\n",
              "      <td>1.7</td>\n",
              "    </tr>\n",
              "    <tr>\n",
              "      <th>1</th>\n",
              "      <td>성별</td>\n",
              "      <td>남자</td>\n",
              "      <td>55.2</td>\n",
              "      <td>7.9</td>\n",
              "      <td>5.5</td>\n",
              "      <td>29.8</td>\n",
              "      <td>1.6</td>\n",
              "    </tr>\n",
              "    <tr>\n",
              "      <th>2</th>\n",
              "      <td>성별</td>\n",
              "      <td>여자</td>\n",
              "      <td>45.0</td>\n",
              "      <td>8.3</td>\n",
              "      <td>6.0</td>\n",
              "      <td>38.8</td>\n",
              "      <td>1.8</td>\n",
              "    </tr>\n",
              "    <tr>\n",
              "      <th>3</th>\n",
              "      <td>연령별</td>\n",
              "      <td>10대</td>\n",
              "      <td>55.7</td>\n",
              "      <td>6.1</td>\n",
              "      <td>5.6</td>\n",
              "      <td>32.2</td>\n",
              "      <td>0.3</td>\n",
              "    </tr>\n",
              "    <tr>\n",
              "      <th>4</th>\n",
              "      <td>연령별</td>\n",
              "      <td>20대</td>\n",
              "      <td>54.8</td>\n",
              "      <td>6.9</td>\n",
              "      <td>5.2</td>\n",
              "      <td>32.9</td>\n",
              "      <td>0.1</td>\n",
              "    </tr>\n",
              "    <tr>\n",
              "      <th>5</th>\n",
              "      <td>연령별</td>\n",
              "      <td>30대</td>\n",
              "      <td>58.1</td>\n",
              "      <td>5.5</td>\n",
              "      <td>4.6</td>\n",
              "      <td>31.6</td>\n",
              "      <td>0.2</td>\n",
              "    </tr>\n",
              "    <tr>\n",
              "      <th>6</th>\n",
              "      <td>연령별</td>\n",
              "      <td>40대</td>\n",
              "      <td>57.7</td>\n",
              "      <td>6.8</td>\n",
              "      <td>5.2</td>\n",
              "      <td>29.4</td>\n",
              "      <td>1</td>\n",
              "    </tr>\n",
              "    <tr>\n",
              "      <th>7</th>\n",
              "      <td>연령별</td>\n",
              "      <td>50대</td>\n",
              "      <td>50.1</td>\n",
              "      <td>9.2</td>\n",
              "      <td>7.2</td>\n",
              "      <td>32.2</td>\n",
              "      <td>1.4</td>\n",
              "    </tr>\n",
              "    <tr>\n",
              "      <th>8</th>\n",
              "      <td>연령별</td>\n",
              "      <td>60대 이상</td>\n",
              "      <td>27.5</td>\n",
              "      <td>12.8</td>\n",
              "      <td>6.9</td>\n",
              "      <td>46.8</td>\n",
              "      <td>6</td>\n",
              "    </tr>\n",
              "    <tr>\n",
              "      <th>9</th>\n",
              "      <td>학력별</td>\n",
              "      <td>중졸 이하</td>\n",
              "      <td>26.1</td>\n",
              "      <td>13.7</td>\n",
              "      <td>6.6</td>\n",
              "      <td>46.2</td>\n",
              "      <td>7.4</td>\n",
              "    </tr>\n",
              "    <tr>\n",
              "      <th>10</th>\n",
              "      <td>학력별</td>\n",
              "      <td>고졸 이하</td>\n",
              "      <td>46.3</td>\n",
              "      <td>8.5</td>\n",
              "      <td>6.9</td>\n",
              "      <td>36.5</td>\n",
              "      <td>1.7</td>\n",
              "    </tr>\n",
              "    <tr>\n",
              "      <th>11</th>\n",
              "      <td>학력별</td>\n",
              "      <td>대졸 이하</td>\n",
              "      <td>57.4</td>\n",
              "      <td>6.6</td>\n",
              "      <td>4.9</td>\n",
              "      <td>30.7</td>\n",
              "      <td>0.4</td>\n",
              "    </tr>\n",
              "    <tr>\n",
              "      <th>12</th>\n",
              "      <td>학력별</td>\n",
              "      <td>대학원 이상</td>\n",
              "      <td>65.3</td>\n",
              "      <td>3.8</td>\n",
              "      <td>0.6</td>\n",
              "      <td>29.6</td>\n",
              "      <td>0.6</td>\n",
              "    </tr>\n",
              "    <tr>\n",
              "      <th>13</th>\n",
              "      <td>소득별</td>\n",
              "      <td>100만원 미만</td>\n",
              "      <td>22.7</td>\n",
              "      <td>10.3</td>\n",
              "      <td>3.6</td>\n",
              "      <td>50.7</td>\n",
              "      <td>12.7</td>\n",
              "    </tr>\n",
              "    <tr>\n",
              "      <th>14</th>\n",
              "      <td>소득별</td>\n",
              "      <td>100-200만원 미만</td>\n",
              "      <td>34.3</td>\n",
              "      <td>11.5</td>\n",
              "      <td>7.1</td>\n",
              "      <td>41.5</td>\n",
              "      <td>5.6</td>\n",
              "    </tr>\n",
              "    <tr>\n",
              "      <th>15</th>\n",
              "      <td>소득별</td>\n",
              "      <td>200-300만원 미만</td>\n",
              "      <td>48.8</td>\n",
              "      <td>12.3</td>\n",
              "      <td>6.8</td>\n",
              "      <td>30.7</td>\n",
              "      <td>1.4</td>\n",
              "    </tr>\n",
              "    <tr>\n",
              "      <th>16</th>\n",
              "      <td>소득별</td>\n",
              "      <td>300-400만원 미만</td>\n",
              "      <td>54.9</td>\n",
              "      <td>7.1</td>\n",
              "      <td>6.5</td>\n",
              "      <td>31.2</td>\n",
              "      <td>0.3</td>\n",
              "    </tr>\n",
              "    <tr>\n",
              "      <th>17</th>\n",
              "      <td>소득별</td>\n",
              "      <td>400-500만원 미만</td>\n",
              "      <td>56.1</td>\n",
              "      <td>5</td>\n",
              "      <td>5.3</td>\n",
              "      <td>33.0</td>\n",
              "      <td>0.6</td>\n",
              "    </tr>\n",
              "    <tr>\n",
              "      <th>18</th>\n",
              "      <td>소득별</td>\n",
              "      <td>500만원 이상</td>\n",
              "      <td>52.3</td>\n",
              "      <td>7.1</td>\n",
              "      <td>5.1</td>\n",
              "      <td>34.9</td>\n",
              "      <td>0.6</td>\n",
              "    </tr>\n",
              "    <tr>\n",
              "      <th>19</th>\n",
              "      <td>혼인상태별</td>\n",
              "      <td>기혼</td>\n",
              "      <td>50.7</td>\n",
              "      <td>7.8</td>\n",
              "      <td>5.4</td>\n",
              "      <td>34.9</td>\n",
              "      <td>1.2</td>\n",
              "    </tr>\n",
              "    <tr>\n",
              "      <th>20</th>\n",
              "      <td>혼인상태별</td>\n",
              "      <td>미혼</td>\n",
              "      <td>54.3</td>\n",
              "      <td>7.1</td>\n",
              "      <td>5.4</td>\n",
              "      <td>32.2</td>\n",
              "      <td>1</td>\n",
              "    </tr>\n",
              "    <tr>\n",
              "      <th>21</th>\n",
              "      <td>혼인상태별</td>\n",
              "      <td>이혼/별거</td>\n",
              "      <td>47.4</td>\n",
              "      <td>8.3</td>\n",
              "      <td>6.8</td>\n",
              "      <td>34.9</td>\n",
              "      <td>2.7</td>\n",
              "    </tr>\n",
              "    <tr>\n",
              "      <th>22</th>\n",
              "      <td>혼인상태별</td>\n",
              "      <td>사별</td>\n",
              "      <td>25.2</td>\n",
              "      <td>14.9</td>\n",
              "      <td>8.9</td>\n",
              "      <td>42.9</td>\n",
              "      <td>8</td>\n",
              "    </tr>\n",
              "  </tbody>\n",
              "</table>\n",
              "</div>"
            ],
            "text/plain": [
              "      대분류            분류  운동을 할 충분한 시간이 없어서  ... 운동을 할 만한 장소가 없어서  운동을 싫어해서    기타\n",
              "0     서울시           서울시               49.7  ...              5.8      34.7   1.7\n",
              "1      성별            남자               55.2  ...              5.5      29.8   1.6\n",
              "2      성별            여자               45.0  ...              6.0      38.8   1.8\n",
              "3     연령별           10대               55.7  ...              5.6      32.2   0.3\n",
              "4     연령별           20대               54.8  ...              5.2      32.9   0.1\n",
              "5     연령별           30대               58.1  ...              4.6      31.6   0.2\n",
              "6     연령별           40대               57.7  ...              5.2      29.4     1\n",
              "7     연령별           50대               50.1  ...              7.2      32.2   1.4\n",
              "8     연령별        60대 이상               27.5  ...              6.9      46.8     6\n",
              "9     학력별         중졸 이하               26.1  ...              6.6      46.2   7.4\n",
              "10    학력별         고졸 이하               46.3  ...              6.9      36.5   1.7\n",
              "11    학력별         대졸 이하               57.4  ...              4.9      30.7   0.4\n",
              "12    학력별        대학원 이상               65.3  ...              0.6      29.6   0.6\n",
              "13    소득별      100만원 미만               22.7  ...              3.6      50.7  12.7\n",
              "14    소득별  100-200만원 미만               34.3  ...              7.1      41.5   5.6\n",
              "15    소득별  200-300만원 미만               48.8  ...              6.8      30.7   1.4\n",
              "16    소득별  300-400만원 미만               54.9  ...              6.5      31.2   0.3\n",
              "17    소득별  400-500만원 미만               56.1  ...              5.3      33.0   0.6\n",
              "18    소득별      500만원 이상               52.3  ...              5.1      34.9   0.6\n",
              "19  혼인상태별            기혼               50.7  ...              5.4      34.9   1.2\n",
              "20  혼인상태별            미혼               54.3  ...              5.4      32.2     1\n",
              "21  혼인상태별         이혼/별거               47.4  ...              6.8      34.9   2.7\n",
              "22  혼인상태별            사별               25.2  ...              8.9      42.9     8\n",
              "\n",
              "[23 rows x 7 columns]"
            ]
          },
          "metadata": {
            "tags": []
          },
          "execution_count": 8
        }
      ]
    },
    {
      "cell_type": "code",
      "metadata": {
        "colab": {
          "base_uri": "https://localhost:8080/",
          "height": 162
        },
        "id": "mI5VSkPc3HBl",
        "outputId": "78e99b98-fe28-46b9-ce18-b4a1258dc06d"
      },
      "source": [
        "DF_G = DF[DF['대분류'] == '성별'].copy()\r\n",
        "\r\n",
        "DF_G"
      ],
      "execution_count": 10,
      "outputs": [
        {
          "output_type": "execute_result",
          "data": {
            "text/html": [
              "<div>\n",
              "<style scoped>\n",
              "    .dataframe tbody tr th:only-of-type {\n",
              "        vertical-align: middle;\n",
              "    }\n",
              "\n",
              "    .dataframe tbody tr th {\n",
              "        vertical-align: top;\n",
              "    }\n",
              "\n",
              "    .dataframe thead th {\n",
              "        text-align: right;\n",
              "    }\n",
              "</style>\n",
              "<table border=\"1\" class=\"dataframe\">\n",
              "  <thead>\n",
              "    <tr style=\"text-align: right;\">\n",
              "      <th></th>\n",
              "      <th>대분류</th>\n",
              "      <th>분류</th>\n",
              "      <th>운동을 할 충분한 시간이 없어서</th>\n",
              "      <th>함께 운동을 할 사람이 없어서</th>\n",
              "      <th>운동을 할 만한 장소가 없어서</th>\n",
              "      <th>운동을 싫어해서</th>\n",
              "      <th>기타</th>\n",
              "    </tr>\n",
              "  </thead>\n",
              "  <tbody>\n",
              "    <tr>\n",
              "      <th>1</th>\n",
              "      <td>성별</td>\n",
              "      <td>남자</td>\n",
              "      <td>55.2</td>\n",
              "      <td>7.9</td>\n",
              "      <td>5.5</td>\n",
              "      <td>29.8</td>\n",
              "      <td>1.6</td>\n",
              "    </tr>\n",
              "    <tr>\n",
              "      <th>2</th>\n",
              "      <td>성별</td>\n",
              "      <td>여자</td>\n",
              "      <td>45.0</td>\n",
              "      <td>8.3</td>\n",
              "      <td>6.0</td>\n",
              "      <td>38.8</td>\n",
              "      <td>1.8</td>\n",
              "    </tr>\n",
              "  </tbody>\n",
              "</table>\n",
              "</div>"
            ],
            "text/plain": [
              "  대분류  분류  운동을 할 충분한 시간이 없어서 함께 운동을 할 사람이 없어서  운동을 할 만한 장소가 없어서  운동을 싫어해서   기타\n",
              "1  성별  남자               55.2              7.9               5.5      29.8  1.6\n",
              "2  성별  여자               45.0              8.3               6.0      38.8  1.8"
            ]
          },
          "metadata": {
            "tags": []
          },
          "execution_count": 10
        }
      ]
    },
    {
      "cell_type": "code",
      "metadata": {
        "colab": {
          "base_uri": "https://localhost:8080/",
          "height": 162
        },
        "id": "DIopJLwe3dTM",
        "outputId": "77755dfe-9402-4dce-abc7-22061311a65e"
      },
      "source": [
        "DF_G.drop(columns='대분류', inplace=True)\r\n",
        "DF_G"
      ],
      "execution_count": 11,
      "outputs": [
        {
          "output_type": "execute_result",
          "data": {
            "text/html": [
              "<div>\n",
              "<style scoped>\n",
              "    .dataframe tbody tr th:only-of-type {\n",
              "        vertical-align: middle;\n",
              "    }\n",
              "\n",
              "    .dataframe tbody tr th {\n",
              "        vertical-align: top;\n",
              "    }\n",
              "\n",
              "    .dataframe thead th {\n",
              "        text-align: right;\n",
              "    }\n",
              "</style>\n",
              "<table border=\"1\" class=\"dataframe\">\n",
              "  <thead>\n",
              "    <tr style=\"text-align: right;\">\n",
              "      <th></th>\n",
              "      <th>분류</th>\n",
              "      <th>운동을 할 충분한 시간이 없어서</th>\n",
              "      <th>함께 운동을 할 사람이 없어서</th>\n",
              "      <th>운동을 할 만한 장소가 없어서</th>\n",
              "      <th>운동을 싫어해서</th>\n",
              "      <th>기타</th>\n",
              "    </tr>\n",
              "  </thead>\n",
              "  <tbody>\n",
              "    <tr>\n",
              "      <th>1</th>\n",
              "      <td>남자</td>\n",
              "      <td>55.2</td>\n",
              "      <td>7.9</td>\n",
              "      <td>5.5</td>\n",
              "      <td>29.8</td>\n",
              "      <td>1.6</td>\n",
              "    </tr>\n",
              "    <tr>\n",
              "      <th>2</th>\n",
              "      <td>여자</td>\n",
              "      <td>45.0</td>\n",
              "      <td>8.3</td>\n",
              "      <td>6.0</td>\n",
              "      <td>38.8</td>\n",
              "      <td>1.8</td>\n",
              "    </tr>\n",
              "  </tbody>\n",
              "</table>\n",
              "</div>"
            ],
            "text/plain": [
              "   분류  운동을 할 충분한 시간이 없어서 함께 운동을 할 사람이 없어서  운동을 할 만한 장소가 없어서  운동을 싫어해서   기타\n",
              "1  남자               55.2              7.9               5.5      29.8  1.6\n",
              "2  여자               45.0              8.3               6.0      38.8  1.8"
            ]
          },
          "metadata": {
            "tags": []
          },
          "execution_count": 11
        }
      ]
    },
    {
      "cell_type": "code",
      "metadata": {
        "colab": {
          "base_uri": "https://localhost:8080/",
          "height": 210
        },
        "id": "mPIiSfZA3j_s",
        "outputId": "49cf3a99-cb64-4928-f18a-f65a047bdc29"
      },
      "source": [
        "DF_G.set_index('분류', inplace=True)\r\n",
        "DF_G"
      ],
      "execution_count": 13,
      "outputs": [
        {
          "output_type": "execute_result",
          "data": {
            "text/html": [
              "<div>\n",
              "<style scoped>\n",
              "    .dataframe tbody tr th:only-of-type {\n",
              "        vertical-align: middle;\n",
              "    }\n",
              "\n",
              "    .dataframe tbody tr th {\n",
              "        vertical-align: top;\n",
              "    }\n",
              "\n",
              "    .dataframe thead th {\n",
              "        text-align: right;\n",
              "    }\n",
              "</style>\n",
              "<table border=\"1\" class=\"dataframe\">\n",
              "  <thead>\n",
              "    <tr style=\"text-align: right;\">\n",
              "      <th></th>\n",
              "      <th>운동을 할 충분한 시간이 없어서</th>\n",
              "      <th>함께 운동을 할 사람이 없어서</th>\n",
              "      <th>운동을 할 만한 장소가 없어서</th>\n",
              "      <th>운동을 싫어해서</th>\n",
              "      <th>기타</th>\n",
              "    </tr>\n",
              "    <tr>\n",
              "      <th>분류</th>\n",
              "      <th></th>\n",
              "      <th></th>\n",
              "      <th></th>\n",
              "      <th></th>\n",
              "      <th></th>\n",
              "    </tr>\n",
              "  </thead>\n",
              "  <tbody>\n",
              "    <tr>\n",
              "      <th>남자</th>\n",
              "      <td>55.2</td>\n",
              "      <td>7.9</td>\n",
              "      <td>5.5</td>\n",
              "      <td>29.8</td>\n",
              "      <td>1.6</td>\n",
              "    </tr>\n",
              "    <tr>\n",
              "      <th>여자</th>\n",
              "      <td>45.0</td>\n",
              "      <td>8.3</td>\n",
              "      <td>6.0</td>\n",
              "      <td>38.8</td>\n",
              "      <td>1.8</td>\n",
              "    </tr>\n",
              "  </tbody>\n",
              "</table>\n",
              "</div>"
            ],
            "text/plain": [
              "    운동을 할 충분한 시간이 없어서 함께 운동을 할 사람이 없어서  운동을 할 만한 장소가 없어서  운동을 싫어해서   기타\n",
              "분류                                                                     \n",
              "남자               55.2              7.9               5.5      29.8  1.6\n",
              "여자               45.0              8.3               6.0      38.8  1.8"
            ]
          },
          "metadata": {
            "tags": []
          },
          "execution_count": 13
        }
      ]
    },
    {
      "cell_type": "code",
      "metadata": {
        "colab": {
          "base_uri": "https://localhost:8080/",
          "height": 481
        },
        "id": "lbAneIfH3r1H",
        "outputId": "07afb5b6-13fb-4943-9e15-dcbb212d5802"
      },
      "source": [
        "import matplotlib.pyplot as plt\r\n",
        "\r\n",
        "figure, ax = plt.subplots(2, 2, figsize = (8, 8))\r\n",
        "\r\n",
        "DF_G['운동을 할 충분한 시간이 없어서'].plot.pie(explode=[0, 0.02],\r\n",
        "                                   ax=ax[0][0],\r\n",
        "                                   autopct='%1.1f%%')\r\n",
        "ax[0][0].set_title('운동을 할 충분한 시간이 없어서')\r\n",
        "ax[0][0].set_ylabel('')\r\n",
        "\r\n",
        "DF_G['함께 운동을 할 사람이 없어서'].plot.pie(explode=[0, 0.02],\r\n",
        "                                   ax=ax[0][1],\r\n",
        "                                   autopct='%1.1f%%')\r\n",
        "ax[0][1].set_title('함께 운동을 할 사람이 없어서')\r\n",
        "ax[0][1].set_ylabel('')\r\n",
        "\r\n",
        "DF_G['운동을 싫어해서'].plot.pie(explode=[0, 0.02],\r\n",
        "                                   ax=ax[1][0],\r\n",
        "                                   autopct='%1.1f%%')\r\n",
        "ax[1][0].set_title('운동을 싫어해서')\r\n",
        "ax[1][0].set_ylabel('')\r\n",
        "\r\n",
        "DF_G['운동을 할 만한 장소가 없어서'].plot.pie(explode=[0, 0.02],\r\n",
        "                                   ax=ax[1][1],\r\n",
        "                                   autopct='%1.1f%%')\r\n",
        "ax[1][1].set_title('운동을 할 만한 장소가 없어서')\r\n",
        "ax[1][1].set_ylabel('')\r\n",
        "\r\n",
        "plt.show()"
      ],
      "execution_count": 34,
      "outputs": [
        {
          "output_type": "display_data",
          "data": {
            "image/png": "[encoded data removed]",
            "text/plain": [
              "<Figure size 576x576 with 4 Axes>"
            ]
          },
          "metadata": {
            "tags": []
          }
        }
      ]
    },
    {
      "cell_type": "code",
      "metadata": {
        "colab": {
          "base_uri": "https://localhost:8080/",
          "height": 266
        },
        "id": "CB8XnzX73r-r",
        "outputId": "459f6eb9-9311-44a6-ef09-7190e40d81ae"
      },
      "source": [
        "DF_A = DF[DF['대분류'] == '연령별'].copy()\r\n",
        "DF_A.drop(columns='대분류', inplace=True)\r\n",
        "DF_A.set_index('분류', inplace=True)\r\n",
        "\r\n",
        "DF_A"
      ],
      "execution_count": 19,
      "outputs": [
        {
          "output_type": "execute_result",
          "data": {
            "text/html": [
              "<div>\n",
              "<style scoped>\n",
              "    .dataframe tbody tr th:only-of-type {\n",
              "        vertical-align: middle;\n",
              "    }\n",
              "\n",
              "    .dataframe tbody tr th {\n",
              "        vertical-align: top;\n",
              "    }\n",
              "\n",
              "    .dataframe thead th {\n",
              "        text-align: right;\n",
              "    }\n",
              "</style>\n",
              "<table border=\"1\" class=\"dataframe\">\n",
              "  <thead>\n",
              "    <tr style=\"text-align: right;\">\n",
              "      <th></th>\n",
              "      <th>운동을 할 충분한 시간이 없어서</th>\n",
              "      <th>함께 운동을 할 사람이 없어서</th>\n",
              "      <th>운동을 할 만한 장소가 없어서</th>\n",
              "      <th>운동을 싫어해서</th>\n",
              "      <th>기타</th>\n",
              "    </tr>\n",
              "    <tr>\n",
              "      <th>분류</th>\n",
              "      <th></th>\n",
              "      <th></th>\n",
              "      <th></th>\n",
              "      <th></th>\n",
              "      <th></th>\n",
              "    </tr>\n",
              "  </thead>\n",
              "  <tbody>\n",
              "    <tr>\n",
              "      <th>10대</th>\n",
              "      <td>55.7</td>\n",
              "      <td>6.1</td>\n",
              "      <td>5.6</td>\n",
              "      <td>32.2</td>\n",
              "      <td>0.3</td>\n",
              "    </tr>\n",
              "    <tr>\n",
              "      <th>20대</th>\n",
              "      <td>54.8</td>\n",
              "      <td>6.9</td>\n",
              "      <td>5.2</td>\n",
              "      <td>32.9</td>\n",
              "      <td>0.1</td>\n",
              "    </tr>\n",
              "    <tr>\n",
              "      <th>30대</th>\n",
              "      <td>58.1</td>\n",
              "      <td>5.5</td>\n",
              "      <td>4.6</td>\n",
              "      <td>31.6</td>\n",
              "      <td>0.2</td>\n",
              "    </tr>\n",
              "    <tr>\n",
              "      <th>40대</th>\n",
              "      <td>57.7</td>\n",
              "      <td>6.8</td>\n",
              "      <td>5.2</td>\n",
              "      <td>29.4</td>\n",
              "      <td>1</td>\n",
              "    </tr>\n",
              "    <tr>\n",
              "      <th>50대</th>\n",
              "      <td>50.1</td>\n",
              "      <td>9.2</td>\n",
              "      <td>7.2</td>\n",
              "      <td>32.2</td>\n",
              "      <td>1.4</td>\n",
              "    </tr>\n",
              "    <tr>\n",
              "      <th>60대 이상</th>\n",
              "      <td>27.5</td>\n",
              "      <td>12.8</td>\n",
              "      <td>6.9</td>\n",
              "      <td>46.8</td>\n",
              "      <td>6</td>\n",
              "    </tr>\n",
              "  </tbody>\n",
              "</table>\n",
              "</div>"
            ],
            "text/plain": [
              "        운동을 할 충분한 시간이 없어서 함께 운동을 할 사람이 없어서  운동을 할 만한 장소가 없어서  운동을 싫어해서   기타\n",
              "분류                                                                         \n",
              "10대                  55.7              6.1               5.6      32.2  0.3\n",
              "20대                  54.8              6.9               5.2      32.9  0.1\n",
              "30대                  58.1              5.5               4.6      31.6  0.2\n",
              "40대                  57.7              6.8               5.2      29.4    1\n",
              "50대                  50.1              9.2               7.2      32.2  1.4\n",
              "60대 이상               27.5             12.8               6.9      46.8    6"
            ]
          },
          "metadata": {
            "tags": []
          },
          "execution_count": 19
        }
      ]
    },
    {
      "cell_type": "code",
      "metadata": {
        "colab": {
          "base_uri": "https://localhost:8080/",
          "height": 203
        },
        "id": "6A_o0rTK3sGS",
        "outputId": "f649ad5d-1a14-49a0-e7ff-cee516e1d46a"
      },
      "source": [
        "figure, ax = plt.subplots(1, 4, figsize = (16, 8))\r\n",
        "\r\n",
        "explode_set = [0.02] * 6\r\n",
        "\r\n",
        "DF_A['운동을 할 충분한 시간이 없어서'].plot.pie(explode=explode_set,\r\n",
        "                                   ax=ax[0],\r\n",
        "                                   autopct='%1.1f%%')\r\n",
        "ax[0].set_title('운동을 할 충분한 시간이 없어서')\r\n",
        "ax[0].set_ylabel('')\r\n",
        "\r\n",
        "DF_A['함께 운동을 할 사람이 없어서'].plot.pie(explode=explode_set,\r\n",
        "                                   ax=ax[1],\r\n",
        "                                   autopct='%1.1f%%')\r\n",
        "ax[1].set_title('함께 운동을 할 사람이 없어서')\r\n",
        "ax[1].set_ylabel('')\r\n",
        "\r\n",
        "DF_A['운동을 싫어해서'].plot.pie(explode=explode_set,\r\n",
        "                                   ax=ax[2],\r\n",
        "                                   autopct='%1.1f%%')\r\n",
        "ax[2].set_title('운동을 싫어해서')\r\n",
        "ax[2].set_ylabel('')\r\n",
        "\r\n",
        "DF_A['운동을 할 만한 장소가 없어서'].plot.pie(explode=explode_set,\r\n",
        "                                   ax=ax[3],\r\n",
        "                                   autopct='%1.1f%%')\r\n",
        "ax[3].set_title('운동을 할 만한 장소가 없어서')\r\n",
        "ax[3].set_ylabel('')\r\n",
        "\r\n",
        "plt.show()"
      ],
      "execution_count": 35,
      "outputs": [
        {
          "output_type": "display_data",
          "data": {
            "image/png": "[encoded data removed]",
            "text/plain": [
              "<Figure size 1152x576 with 4 Axes>"
            ]
          },
          "metadata": {
            "tags": []
          }
        }
      ]
    },
    {
      "cell_type": "code",
      "metadata": {
        "colab": {
          "base_uri": "https://localhost:8080/",
          "height": 289
        },
        "id": "bGIxPRgR6Ue2",
        "outputId": "546171b0-a60f-4fbc-ea3e-2217139be1d0"
      },
      "source": [
        "DF_V = DF[DF['대분류'] == '학력별'].copy()\r\n",
        "DF_V.drop(columns='대분류', inplace=True)\r\n",
        "DF_V.set_index('분류', inplace=True)\r\n",
        "\r\n",
        "DF_V"
      ],
      "execution_count": 26,
      "outputs": [
        {
          "output_type": "execute_result",
          "data": {
            "text/html": [
              "<div>\n",
              "<style scoped>\n",
              "    .dataframe tbody tr th:only-of-type {\n",
              "        vertical-align: middle;\n",
              "    }\n",
              "\n",
              "    .dataframe tbody tr th {\n",
              "        vertical-align: top;\n",
              "    }\n",
              "\n",
              "    .dataframe thead th {\n",
              "        text-align: right;\n",
              "    }\n",
              "</style>\n",
              "<table border=\"1\" class=\"dataframe\">\n",
              "  <thead>\n",
              "    <tr style=\"text-align: right;\">\n",
              "      <th></th>\n",
              "      <th>운동을 할 충분한 시간이 없어서</th>\n",
              "      <th>함께 운동을 할 사람이 없어서</th>\n",
              "      <th>운동을 할 만한 장소가 없어서</th>\n",
              "      <th>운동을 싫어해서</th>\n",
              "      <th>기타</th>\n",
              "    </tr>\n",
              "    <tr>\n",
              "      <th>분류</th>\n",
              "      <th></th>\n",
              "      <th></th>\n",
              "      <th></th>\n",
              "      <th></th>\n",
              "      <th></th>\n",
              "    </tr>\n",
              "  </thead>\n",
              "  <tbody>\n",
              "    <tr>\n",
              "      <th>중졸 이하</th>\n",
              "      <td>26.1</td>\n",
              "      <td>13.7</td>\n",
              "      <td>6.6</td>\n",
              "      <td>46.2</td>\n",
              "      <td>7.4</td>\n",
              "    </tr>\n",
              "    <tr>\n",
              "      <th>고졸 이하</th>\n",
              "      <td>46.3</td>\n",
              "      <td>8.5</td>\n",
              "      <td>6.9</td>\n",
              "      <td>36.5</td>\n",
              "      <td>1.7</td>\n",
              "    </tr>\n",
              "    <tr>\n",
              "      <th>대졸 이하</th>\n",
              "      <td>57.4</td>\n",
              "      <td>6.6</td>\n",
              "      <td>4.9</td>\n",
              "      <td>30.7</td>\n",
              "      <td>0.4</td>\n",
              "    </tr>\n",
              "    <tr>\n",
              "      <th>대학원 이상</th>\n",
              "      <td>65.3</td>\n",
              "      <td>3.8</td>\n",
              "      <td>0.6</td>\n",
              "      <td>29.6</td>\n",
              "      <td>0.6</td>\n",
              "    </tr>\n",
              "  </tbody>\n",
              "</table>\n",
              "</div>"
            ],
            "text/plain": [
              "        운동을 할 충분한 시간이 없어서 함께 운동을 할 사람이 없어서  운동을 할 만한 장소가 없어서  운동을 싫어해서   기타\n",
              "분류                                                                         \n",
              "중졸 이하                26.1             13.7               6.6      46.2  7.4\n",
              "고졸 이하                46.3              8.5               6.9      36.5  1.7\n",
              "대졸 이하                57.4              6.6               4.9      30.7  0.4\n",
              "대학원 이상               65.3              3.8               0.6      29.6  0.6"
            ]
          },
          "metadata": {
            "tags": []
          },
          "execution_count": 26
        }
      ]
    },
    {
      "cell_type": "code",
      "metadata": {
        "colab": {
          "base_uri": "https://localhost:8080/",
          "height": 481
        },
        "id": "qJ8s7ddL6Uqf",
        "outputId": "9175a583-1439-436e-a136-e9d31d9c2bdf"
      },
      "source": [
        "figure, ax = plt.subplots(2, 2, figsize = (8, 8))\r\n",
        "\r\n",
        "explode_set = [0.02] * 4\r\n",
        "\r\n",
        "DF_V['운동을 할 충분한 시간이 없어서'].plot.pie(explode=explode_set,\r\n",
        "                                   ax=ax[0][0],\r\n",
        "                                   autopct='%1.1f%%')\r\n",
        "ax[0][0].set_title('운동을 할 충분한 시간이 없어서')\r\n",
        "ax[0][0].set_ylabel('')\r\n",
        "\r\n",
        "DF_V['함께 운동을 할 사람이 없어서'].plot.pie(explode=explode_set,\r\n",
        "                                   ax=ax[0][1],\r\n",
        "                                   autopct='%1.1f%%')\r\n",
        "ax[0][1].set_title('함께 운동을 할 사람이 없어서')\r\n",
        "ax[0][1].set_ylabel('')\r\n",
        "\r\n",
        "DF_V['운동을 싫어해서'].plot.pie(explode=explode_set,\r\n",
        "                                   ax=ax[1][0],\r\n",
        "                                   autopct='%1.1f%%')\r\n",
        "ax[1][0].set_title('운동을 싫어해서')\r\n",
        "ax[1][0].set_ylabel('')\r\n",
        "\r\n",
        "DF_V['운동을 할 만한 장소가 없어서'].plot.pie(explode=explode_set,\r\n",
        "                                   ax=ax[1][1],\r\n",
        "                                   autopct='%1.1f%%')\r\n",
        "ax[1][1].set_title('운동을 할 만한 장소가 없어서')\r\n",
        "ax[1][1].set_ylabel('')\r\n",
        "\r\n",
        "plt.show()"
      ],
      "execution_count": 37,
      "outputs": [
        {
          "output_type": "display_data",
          "data": {
            "image/png": "[encoded data removed]",
            "text/plain": [
              "<Figure size 576x576 with 4 Axes>"
            ]
          },
          "metadata": {
            "tags": []
          }
        }
      ]
    },
    {
      "cell_type": "code",
      "metadata": {
        "id": "bwP1ZAUr6U0S"
      },
      "source": [
        ""
      ],
      "execution_count": null,
      "outputs": []
    }
  ]
}