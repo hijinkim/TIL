{
  "nbformat": 4,
  "nbformat_minor": 0,
  "metadata": {
    "colab": {
      "name": "Function_and_Module.ipynb",
      "provenance": [],
      "authorship_tag": "ABX9TyM1k6dgWt+WJUo5IrWyAU5M",
      "include_colab_link": true
    },
    "kernelspec": {
      "name": "python3",
      "display_name": "Python 3"
    }
  },
  "cells": [
    {
      "cell_type": "markdown",
      "metadata": {
        "id": "view-in-github",
        "colab_type": "text"
      },
      "source": [
        "<a href=\"https://colab.research.google.com/github/hijinkim/TIL/blob/master/Function_and_Module.ipynb\" target=\"_parent\"><img src=\"https://colab.research.google.com/assets/colab-badge.svg\" alt=\"Open In Colab\"/></a>"
      ]
    },
    {
      "cell_type": "code",
      "metadata": {
        "id": "HkXotRjaAPYH"
      },
      "source": [
        "import warnings\r\n",
        "warnings.filterwarnings('ignore')"
      ],
      "execution_count": 1,
      "outputs": []
    },
    {
      "cell_type": "code",
      "metadata": {
        "id": "p9Yje7awAYrs"
      },
      "source": [
        "def hap(x, y):\r\n",
        "  z = x + y\r\n",
        "  return z"
      ],
      "execution_count": 2,
      "outputs": []
    },
    {
      "cell_type": "code",
      "metadata": {
        "colab": {
          "base_uri": "https://localhost:8080/"
        },
        "id": "8DQM89RgAd11",
        "outputId": "d9c3cc52-1762-4d21-99e9-83ee8aed5018"
      },
      "source": [
        "hap(3, 6)"
      ],
      "execution_count": 3,
      "outputs": [
        {
          "output_type": "execute_result",
          "data": {
            "text/plain": [
              "9"
            ]
          },
          "metadata": {
            "tags": []
          },
          "execution_count": 3
        }
      ]
    },
    {
      "cell_type": "code",
      "metadata": {
        "id": "_vlIY-vdAgBA"
      },
      "source": [
        "mod = lambda x, y : x % y"
      ],
      "execution_count": 4,
      "outputs": []
    },
    {
      "cell_type": "code",
      "metadata": {
        "colab": {
          "base_uri": "https://localhost:8080/"
        },
        "id": "rr35lVPcAlEQ",
        "outputId": "2f77e03d-a77d-4611-ca4d-d1c1252dafa7"
      },
      "source": [
        "mod(5, 3)"
      ],
      "execution_count": 5,
      "outputs": [
        {
          "output_type": "execute_result",
          "data": {
            "text/plain": [
              "2"
            ]
          },
          "metadata": {
            "tags": []
          },
          "execution_count": 5
        }
      ]
    },
    {
      "cell_type": "code",
      "metadata": {
        "id": "WCCPIQ57AneL"
      },
      "source": [
        "import time"
      ],
      "execution_count": 6,
      "outputs": []
    },
    {
      "cell_type": "code",
      "metadata": {
        "colab": {
          "base_uri": "https://localhost:8080/"
        },
        "id": "rSVrMLuqArmq",
        "outputId": "d7710750-eda5-47a9-c272-9bbc5b8df39c"
      },
      "source": [
        "print('스크립트 시작')\r\n",
        "time.sleep(5)\r\n",
        "print('5초 후 스크립트 종료')"
      ],
      "execution_count": 7,
      "outputs": [
        {
          "output_type": "stream",
          "text": [
            "스크립트 시작\n",
            "5초 후 스크립트 종료\n"
          ],
          "name": "stdout"
        }
      ]
    },
    {
      "cell_type": "code",
      "metadata": {
        "colab": {
          "base_uri": "https://localhost:8080/"
        },
        "id": "OCNZ8HQCAxk2",
        "outputId": "2680e5ae-9fa1-4613-c8de-703b7a929b36"
      },
      "source": [
        "import sys\r\n",
        "\r\n",
        "sys.path"
      ],
      "execution_count": 8,
      "outputs": [
        {
          "output_type": "execute_result",
          "data": {
            "text/plain": [
              "['',\n",
              " '/env/python',\n",
              " '/usr/lib/python36.zip',\n",
              " '/usr/lib/python3.6',\n",
              " '/usr/lib/python3.6/lib-dynload',\n",
              " '/usr/local/lib/python3.6/dist-packages',\n",
              " '/usr/lib/python3/dist-packages',\n",
              " '/usr/local/lib/python3.6/dist-packages/IPython/extensions',\n",
              " '/root/.ipython']"
            ]
          },
          "metadata": {
            "tags": []
          },
          "execution_count": 8
        }
      ]
    },
    {
      "cell_type": "code",
      "metadata": {
        "id": "LbTd0GQbA2Ka"
      },
      "source": [
        "import time as t"
      ],
      "execution_count": 9,
      "outputs": []
    },
    {
      "cell_type": "code",
      "metadata": {
        "colab": {
          "base_uri": "https://localhost:8080/"
        },
        "id": "_FVCglyLA5Qe",
        "outputId": "37163e95-25c9-40be-8a8a-067a87f3bd26"
      },
      "source": [
        "print('3초 후에 결과 출력')\r\n",
        "t.sleep(3)\r\n",
        "print('축하합니다. 합격입니다!')"
      ],
      "execution_count": 10,
      "outputs": [
        {
          "output_type": "stream",
          "text": [
            "3초 후에 결과 출력\n",
            "축하합니다. 합격입니다!\n"
          ],
          "name": "stdout"
        }
      ]
    },
    {
      "cell_type": "code",
      "metadata": {
        "id": "e8AP3r1ABSjL"
      },
      "source": [
        "import hello"
      ],
      "execution_count": 1,
      "outputs": []
    },
    {
      "cell_type": "code",
      "metadata": {
        "colab": {
          "base_uri": "https://localhost:8080/"
        },
        "id": "nNDR4VR0BUtK",
        "outputId": "0e08128c-e279-4e03-b05d-db278280c5ad"
      },
      "source": [
        "hello.hi()"
      ],
      "execution_count": 2,
      "outputs": [
        {
          "output_type": "stream",
          "text": [
            "사용자 정의 함수 실행\n",
            "Hello World !!!!!\n",
            "사용자 정의 함수 종료\n"
          ],
          "name": "stdout"
        }
      ]
    },
    {
      "cell_type": "code",
      "metadata": {
        "colab": {
          "base_uri": "https://localhost:8080/"
        },
        "id": "UMUlZKu_BWTS",
        "outputId": "55bff216-bdd0-4e94-a8ed-6df6731820a7"
      },
      "source": [
        "hello.hi2()"
      ],
      "execution_count": 17,
      "outputs": [
        {
          "output_type": "stream",
          "text": [
            "두 번째 사용자 정의 함수 실행\n",
            "Hi!\n",
            "두 번째 사용자 정의 함수 종료\n"
          ],
          "name": "stdout"
        }
      ]
    },
    {
      "cell_type": "code",
      "metadata": {
        "id": "S-_DtCvbMJK1"
      },
      "source": [
        "import myPKG.myLibrary"
      ],
      "execution_count": 3,
      "outputs": []
    },
    {
      "cell_type": "code",
      "metadata": {
        "colab": {
          "base_uri": "https://localhost:8080/"
        },
        "id": "HHVkFAgNNSfg",
        "outputId": "4a8ed7b2-1137-4eeb-fee0-69c976e826a4"
      },
      "source": [
        "myPKG.myLibrary.hi()"
      ],
      "execution_count": 4,
      "outputs": [
        {
          "output_type": "stream",
          "text": [
            "첫번째 함수 실행\n"
          ],
          "name": "stdout"
        }
      ]
    },
    {
      "cell_type": "code",
      "metadata": {
        "colab": {
          "base_uri": "https://localhost:8080/"
        },
        "id": "SE49kJ4ANWHw",
        "outputId": "9f83c634-ace8-4c8e-a4bc-f3c7bbe8fc83"
      },
      "source": [
        "myPKG.myLibrary.hap(1, 2)"
      ],
      "execution_count": 5,
      "outputs": [
        {
          "output_type": "execute_result",
          "data": {
            "text/plain": [
              "3"
            ]
          },
          "metadata": {
            "tags": []
          },
          "execution_count": 5
        }
      ]
    },
    {
      "cell_type": "code",
      "metadata": {
        "id": "2M4Q3axZNZ5g"
      },
      "source": [
        "from myPKG.myLibrary import hi\r\n",
        "from myPKG.myLibrary import hap"
      ],
      "execution_count": 6,
      "outputs": []
    },
    {
      "cell_type": "code",
      "metadata": {
        "colab": {
          "base_uri": "https://localhost:8080/"
        },
        "id": "MXSMpQOyNgQu",
        "outputId": "9370bc07-3e15-4f4b-8f87-4c6d91959afd"
      },
      "source": [
        "hi()"
      ],
      "execution_count": 7,
      "outputs": [
        {
          "output_type": "stream",
          "text": [
            "첫번째 함수 실행\n"
          ],
          "name": "stdout"
        }
      ]
    },
    {
      "cell_type": "code",
      "metadata": {
        "colab": {
          "base_uri": "https://localhost:8080/"
        },
        "id": "uCe3N-BeNhj7",
        "outputId": "efa9f3f6-e352-4d26-87f5-21d92a7a7680"
      },
      "source": [
        "hap(10, 1)"
      ],
      "execution_count": 9,
      "outputs": [
        {
          "output_type": "execute_result",
          "data": {
            "text/plain": [
              "11"
            ]
          },
          "metadata": {
            "tags": []
          },
          "execution_count": 9
        }
      ]
    },
    {
      "cell_type": "markdown",
      "metadata": {
        "id": "pq5PBtTZNly0"
      },
      "source": [
        "## Class"
      ]
    },
    {
      "cell_type": "code",
      "metadata": {
        "id": "T1RIRBbuNiI4"
      },
      "source": [
        "class myClass:\r\n",
        "  var_1 = 'hello'\r\n",
        "\r\n",
        "  def func_1(self):\r\n",
        "    print(self.var_1, '클래스 함수 실행')"
      ],
      "execution_count": 10,
      "outputs": []
    },
    {
      "cell_type": "code",
      "metadata": {
        "id": "nz1yTFK1NyZ-"
      },
      "source": [
        "obj = myClass()"
      ],
      "execution_count": 11,
      "outputs": []
    },
    {
      "cell_type": "code",
      "metadata": {
        "colab": {
          "base_uri": "https://localhost:8080/",
          "height": 35
        },
        "id": "CqBTAJisN1a7",
        "outputId": "03d47390-d3d4-495a-efe5-f0179c59163c"
      },
      "source": [
        "obj.var_1"
      ],
      "execution_count": 12,
      "outputs": [
        {
          "output_type": "execute_result",
          "data": {
            "application/vnd.google.colaboratory.intrinsic+json": {
              "type": "string"
            },
            "text/plain": [
              "'hello'"
            ]
          },
          "metadata": {
            "tags": []
          },
          "execution_count": 12
        }
      ]
    },
    {
      "cell_type": "code",
      "metadata": {
        "colab": {
          "base_uri": "https://localhost:8080/"
        },
        "id": "Ex3zGT9LN3NS",
        "outputId": "86fd7458-5577-4a32-ed6c-119041210081"
      },
      "source": [
        "obj.func_1()"
      ],
      "execution_count": 13,
      "outputs": [
        {
          "output_type": "stream",
          "text": [
            "hello 클래스 함수 실행\n"
          ],
          "name": "stdout"
        }
      ]
    },
    {
      "cell_type": "code",
      "metadata": {
        "id": "cahSUORmN8Hj"
      },
      "source": [
        "class myClass_1:\r\n",
        "  var_1 = 'Class Member'\r\n",
        "\r\n",
        "  def func_1(self):\r\n",
        "    var_2 = 'Instance Member'\r\n",
        "    print('Method 내에 선언', var_2)\r\n",
        "    print('Class 내에 선언', self.var_1)\r\n",
        "\r\n",
        "  def func_2(self, x, y):\r\n",
        "    z = x * y\r\n",
        "    print(x, '곱하기', y, '는', z)"
      ],
      "execution_count": 14,
      "outputs": []
    },
    {
      "cell_type": "code",
      "metadata": {
        "id": "u5q_HlYxOSCG"
      },
      "source": [
        "obj_1 = myClass_1()"
      ],
      "execution_count": 19,
      "outputs": []
    },
    {
      "cell_type": "code",
      "metadata": {
        "colab": {
          "base_uri": "https://localhost:8080/",
          "height": 35
        },
        "id": "18iHFkfUOUzD",
        "outputId": "7c41b462-c3b3-4fd6-852f-f80bc6849a24"
      },
      "source": [
        "obj_1.var_1"
      ],
      "execution_count": 20,
      "outputs": [
        {
          "output_type": "execute_result",
          "data": {
            "application/vnd.google.colaboratory.intrinsic+json": {
              "type": "string"
            },
            "text/plain": [
              "'Class Member'"
            ]
          },
          "metadata": {
            "tags": []
          },
          "execution_count": 20
        }
      ]
    },
    {
      "cell_type": "code",
      "metadata": {
        "colab": {
          "base_uri": "https://localhost:8080/"
        },
        "id": "PynLAztsOWp3",
        "outputId": "476e9008-f8d1-4076-b89b-dc7ddafd046a"
      },
      "source": [
        "obj_1.func_2(3, 5)"
      ],
      "execution_count": 21,
      "outputs": [
        {
          "output_type": "stream",
          "text": [
            "3 곱하기 5 는 15\n"
          ],
          "name": "stdout"
        }
      ]
    },
    {
      "cell_type": "code",
      "metadata": {
        "id": "A80KrXVBOvbC"
      },
      "source": [
        "class myClass_2:\r\n",
        "  def __init__(self):\r\n",
        "    print('myClass_2 인스턴스가 메모리에 생성')\r\n",
        "\r\n",
        "  var_1 = 'Class Member'\r\n",
        "\r\n",
        "  def func_1(self):\r\n",
        "    print('Class Method')\r\n",
        "\r\n",
        "  def __del__(self):\r\n",
        "    print('myClass_2 인스턴스가 메모리에서 소멸')"
      ],
      "execution_count": 22,
      "outputs": []
    },
    {
      "cell_type": "code",
      "metadata": {
        "colab": {
          "base_uri": "https://localhost:8080/"
        },
        "id": "oWWzLXc5O-35",
        "outputId": "d88f8f8e-a9f3-4f26-a82c-7399b3b8742c"
      },
      "source": [
        "obj_2 = myClass_2()"
      ],
      "execution_count": 23,
      "outputs": [
        {
          "output_type": "stream",
          "text": [
            "myClass_2 인스턴스가 메모리에 생성\n"
          ],
          "name": "stdout"
        }
      ]
    },
    {
      "cell_type": "code",
      "metadata": {
        "colab": {
          "base_uri": "https://localhost:8080/",
          "height": 35
        },
        "id": "Q5WHpdeZPB-X",
        "outputId": "f6f8c2bc-91ca-4d2e-cd82-cdef1fde295f"
      },
      "source": [
        "obj_2.var_1"
      ],
      "execution_count": 24,
      "outputs": [
        {
          "output_type": "execute_result",
          "data": {
            "application/vnd.google.colaboratory.intrinsic+json": {
              "type": "string"
            },
            "text/plain": [
              "'Class Member'"
            ]
          },
          "metadata": {
            "tags": []
          },
          "execution_count": 24
        }
      ]
    },
    {
      "cell_type": "code",
      "metadata": {
        "colab": {
          "base_uri": "https://localhost:8080/"
        },
        "id": "_a47L65_PFCz",
        "outputId": "56265c94-8f64-4770-cf8e-54dac13f7f0b"
      },
      "source": [
        "obj_2.func_1()"
      ],
      "execution_count": 25,
      "outputs": [
        {
          "output_type": "stream",
          "text": [
            "Class Method\n"
          ],
          "name": "stdout"
        }
      ]
    },
    {
      "cell_type": "code",
      "metadata": {
        "colab": {
          "base_uri": "https://localhost:8080/"
        },
        "id": "4gpXByrAPIqR",
        "outputId": "1d3934cc-1e64-4511-d1e6-93ae8f3fe3ea"
      },
      "source": [
        "del obj_2"
      ],
      "execution_count": 26,
      "outputs": [
        {
          "output_type": "stream",
          "text": [
            "myClass_2 인스턴스가 메모리에서 소멸\n"
          ],
          "name": "stdout"
        }
      ]
    },
    {
      "cell_type": "markdown",
      "metadata": {
        "id": "ISt1w-BaPNn3"
      },
      "source": [
        "## Class 상속"
      ]
    },
    {
      "cell_type": "code",
      "metadata": {
        "id": "MkavMHPYPPx4"
      },
      "source": [
        "class Sum:\r\n",
        "  def add(self, x, y):\r\n",
        "    z = x + y\r\n",
        "    return z\r\n",
        "\r\n",
        "class Cop:\r\n",
        "  def mul(self, x, y):\r\n",
        "    z = x * y\r\n",
        "    return z\r\n",
        "\r\n",
        "class Computer(Sum, Cop):\r\n",
        "  def sub(self, x, y):\r\n",
        "    z = x - y\r\n",
        "    return z"
      ],
      "execution_count": 28,
      "outputs": []
    },
    {
      "cell_type": "code",
      "metadata": {
        "id": "NR1YWnYzPgvV"
      },
      "source": [
        "obj_3 = Computer()"
      ],
      "execution_count": 29,
      "outputs": []
    },
    {
      "cell_type": "code",
      "metadata": {
        "colab": {
          "base_uri": "https://localhost:8080/"
        },
        "id": "5NvcRqqcPjeG",
        "outputId": "74f87ca5-7497-498f-fde1-29fa1132efe7"
      },
      "source": [
        "obj_3.sub(10, 5)"
      ],
      "execution_count": 30,
      "outputs": [
        {
          "output_type": "execute_result",
          "data": {
            "text/plain": [
              "5"
            ]
          },
          "metadata": {
            "tags": []
          },
          "execution_count": 30
        }
      ]
    },
    {
      "cell_type": "code",
      "metadata": {
        "colab": {
          "base_uri": "https://localhost:8080/"
        },
        "id": "R3IiDxTVPmzy",
        "outputId": "10269faa-f064-44fc-ff99-52d9ff4a0c12"
      },
      "source": [
        "obj_3.add(1, 4)"
      ],
      "execution_count": 31,
      "outputs": [
        {
          "output_type": "execute_result",
          "data": {
            "text/plain": [
              "5"
            ]
          },
          "metadata": {
            "tags": []
          },
          "execution_count": 31
        }
      ]
    },
    {
      "cell_type": "code",
      "metadata": {
        "colab": {
          "base_uri": "https://localhost:8080/"
        },
        "id": "Getp4BLnPrYk",
        "outputId": "bd441db2-be43-441a-d93d-78e216ebd855"
      },
      "source": [
        "obj_3.mul(3, 5)"
      ],
      "execution_count": 32,
      "outputs": [
        {
          "output_type": "execute_result",
          "data": {
            "text/plain": [
              "15"
            ]
          },
          "metadata": {
            "tags": []
          },
          "execution_count": 32
        }
      ]
    }
  ]
}