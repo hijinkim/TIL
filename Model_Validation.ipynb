{
  "nbformat": 4,
  "nbformat_minor": 0,
  "metadata": {
    "colab": {
      "name": "Model_Validation.ipynb",
      "provenance": [],
      "authorship_tag": "ABX9TyPwgrphFrLpEGJ5lh/uWgRq",
      "include_colab_link": true
    },
    "kernelspec": {
      "name": "python3",
      "display_name": "Python 3"
    },
    "widgets": {
      "application/vnd.jupyter.widget-state+json": {
        "e24f7cbb959c4bc692c70890223f48af": {
          "model_module": "@jupyter-widgets/controls",
          "model_name": "VBoxModel",
          "state": {
            "_view_name": "VBoxView",
            "_dom_classes": [
              "widget-interact"
            ],
            "_model_name": "VBoxModel",
            "_view_module": "@jupyter-widgets/controls",
            "_model_module_version": "1.5.0",
            "_view_count": null,
            "_view_module_version": "1.5.0",
            "box_style": "",
            "layout": "IPY_MODEL_8e01e03157594539bd1fc8fecf2725d3",
            "_model_module": "@jupyter-widgets/controls",
            "children": [
              "IPY_MODEL_7410984af4384e68a1171e0d16d8bf5a",
              "IPY_MODEL_b45b90b180584f7482039b2f9ff7d924"
            ]
          }
        },
        "8e01e03157594539bd1fc8fecf2725d3": {
          "model_module": "@jupyter-widgets/base",
          "model_name": "LayoutModel",
          "state": {
            "_view_name": "LayoutView",
            "grid_template_rows": null,
            "right": null,
            "justify_content": null,
            "_view_module": "@jupyter-widgets/base",
            "overflow": null,
            "_model_module_version": "1.2.0",
            "_view_count": null,
            "flex_flow": null,
            "width": null,
            "min_width": null,
            "border": null,
            "align_items": null,
            "bottom": null,
            "_model_module": "@jupyter-widgets/base",
            "top": null,
            "grid_column": null,
            "overflow_y": null,
            "overflow_x": null,
            "grid_auto_flow": null,
            "grid_area": null,
            "grid_template_columns": null,
            "flex": null,
            "_model_name": "LayoutModel",
            "justify_items": null,
            "grid_row": null,
            "max_height": null,
            "align_content": null,
            "visibility": null,
            "align_self": null,
            "height": null,
            "min_height": null,
            "padding": null,
            "grid_auto_rows": null,
            "grid_gap": null,
            "max_width": null,
            "order": null,
            "_view_module_version": "1.2.0",
            "grid_template_areas": null,
            "object_position": null,
            "object_fit": null,
            "grid_auto_columns": null,
            "margin": null,
            "display": null,
            "left": null
          }
        },
        "7410984af4384e68a1171e0d16d8bf5a": {
          "model_module": "@jupyter-widgets/controls",
          "model_name": "DropdownModel",
          "state": {
            "_options_labels": [
              "1",
              "2",
              "5",
              "9"
            ],
            "_view_name": "DropdownView",
            "style": "IPY_MODEL_cb813fb2d2d840adb7abbb67f5a909c5",
            "_dom_classes": [],
            "description": "x",
            "_model_name": "DropdownModel",
            "index": 0,
            "_view_module": "@jupyter-widgets/controls",
            "_model_module_version": "1.5.0",
            "_view_count": null,
            "disabled": false,
            "_view_module_version": "1.5.0",
            "description_tooltip": null,
            "_model_module": "@jupyter-widgets/controls",
            "layout": "IPY_MODEL_0418c845d8894ca4b537020504592814"
          }
        },
        "b45b90b180584f7482039b2f9ff7d924": {
          "model_module": "@jupyter-widgets/output",
          "model_name": "OutputModel",
          "state": {
            "_view_name": "OutputView",
            "msg_id": "",
            "_dom_classes": [],
            "_model_name": "OutputModel",
            "outputs": [
              {
                "output_type": "display_data",
                "metadata": {
                  "tags": [],
                  "needs_background": "light"
                },
                "image/png": "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\n",
                "text/plain": "<Figure size 432x288 with 1 Axes>"
              }
            ],
            "_view_module": "@jupyter-widgets/output",
            "_model_module_version": "1.0.0",
            "_view_count": null,
            "_view_module_version": "1.0.0",
            "layout": "IPY_MODEL_a23d421734c44134ae6c2204acd19407",
            "_model_module": "@jupyter-widgets/output"
          }
        },
        "cb813fb2d2d840adb7abbb67f5a909c5": {
          "model_module": "@jupyter-widgets/controls",
          "model_name": "DescriptionStyleModel",
          "state": {
            "_view_name": "StyleView",
            "_model_name": "DescriptionStyleModel",
            "description_width": "",
            "_view_module": "@jupyter-widgets/base",
            "_model_module_version": "1.5.0",
            "_view_count": null,
            "_view_module_version": "1.2.0",
            "_model_module": "@jupyter-widgets/controls"
          }
        },
        "0418c845d8894ca4b537020504592814": {
          "model_module": "@jupyter-widgets/base",
          "model_name": "LayoutModel",
          "state": {
            "_view_name": "LayoutView",
            "grid_template_rows": null,
            "right": null,
            "justify_content": null,
            "_view_module": "@jupyter-widgets/base",
            "overflow": null,
            "_model_module_version": "1.2.0",
            "_view_count": null,
            "flex_flow": null,
            "width": null,
            "min_width": null,
            "border": null,
            "align_items": null,
            "bottom": null,
            "_model_module": "@jupyter-widgets/base",
            "top": null,
            "grid_column": null,
            "overflow_y": null,
            "overflow_x": null,
            "grid_auto_flow": null,
            "grid_area": null,
            "grid_template_columns": null,
            "flex": null,
            "_model_name": "LayoutModel",
            "justify_items": null,
            "grid_row": null,
            "max_height": null,
            "align_content": null,
            "visibility": null,
            "align_self": null,
            "height": null,
            "min_height": null,
            "padding": null,
            "grid_auto_rows": null,
            "grid_gap": null,
            "max_width": null,
            "order": null,
            "_view_module_version": "1.2.0",
            "grid_template_areas": null,
            "object_position": null,
            "object_fit": null,
            "grid_auto_columns": null,
            "margin": null,
            "display": null,
            "left": null
          }
        },
        "a23d421734c44134ae6c2204acd19407": {
          "model_module": "@jupyter-widgets/base",
          "model_name": "LayoutModel",
          "state": {
            "_view_name": "LayoutView",
            "grid_template_rows": null,
            "right": null,
            "justify_content": null,
            "_view_module": "@jupyter-widgets/base",
            "overflow": null,
            "_model_module_version": "1.2.0",
            "_view_count": null,
            "flex_flow": null,
            "width": null,
            "min_width": null,
            "border": null,
            "align_items": null,
            "bottom": null,
            "_model_module": "@jupyter-widgets/base",
            "top": null,
            "grid_column": null,
            "overflow_y": null,
            "overflow_x": null,
            "grid_auto_flow": null,
            "grid_area": null,
            "grid_template_columns": null,
            "flex": null,
            "_model_name": "LayoutModel",
            "justify_items": null,
            "grid_row": null,
            "max_height": null,
            "align_content": null,
            "visibility": null,
            "align_self": null,
            "height": null,
            "min_height": null,
            "padding": null,
            "grid_auto_rows": null,
            "grid_gap": null,
            "max_width": null,
            "order": null,
            "_view_module_version": "1.2.0",
            "grid_template_areas": null,
            "object_position": null,
            "object_fit": null,
            "grid_auto_columns": null,
            "margin": null,
            "display": null,
            "left": null
          }
        }
      }
    }
  },
  "cells": [
    {
      "cell_type": "markdown",
      "metadata": {
        "id": "view-in-github",
        "colab_type": "text"
      },
      "source": [
        "<a href=\"https://colab.research.google.com/github/hijinkim/TIL/blob/master/Model_Validation.ipynb\" target=\"_parent\"><img src=\"https://colab.research.google.com/assets/colab-badge.svg\" alt=\"Open In Colab\"/></a>"
      ]
    },
    {
      "cell_type": "markdown",
      "metadata": {
        "id": "Q0fBOsKCgJ9A"
      },
      "source": [
        "## Model Capacity"
      ]
    },
    {
      "cell_type": "code",
      "metadata": {
        "id": "2LBX6Fc_7M0X"
      },
      "source": [
        "import warnings\r\n",
        "warnings.filterwarnings('ignore')"
      ],
      "execution_count": 1,
      "outputs": []
    },
    {
      "cell_type": "code",
      "metadata": {
        "id": "Y__4Bg3R8kOM"
      },
      "source": [
        "import pandas as pd\r\n",
        "import matplotlib.pyplot as plt\r\n",
        "import seaborn as sns"
      ],
      "execution_count": 2,
      "outputs": []
    },
    {
      "cell_type": "code",
      "metadata": {
        "colab": {
          "base_uri": "https://localhost:8080/"
        },
        "id": "NBflGv668kTt",
        "outputId": "b781d17f-ea9b-4d22-d779-2837b683ab1e"
      },
      "source": [
        "Elec = pd.read_csv('https://raw.githubusercontent.com/rusita-ai/pyData/master/Electric.csv')\r\n",
        "\r\n",
        "Elec.info()"
      ],
      "execution_count": 3,
      "outputs": [
        {
          "output_type": "stream",
          "text": [
            "<class 'pandas.core.frame.DataFrame'>\n",
            "RangeIndex: 768 entries, 0 to 767\n",
            "Data columns (total 9 columns):\n",
            " #   Column                     Non-Null Count  Dtype  \n",
            "---  ------                     --------------  -----  \n",
            " 0   compactness                768 non-null    float64\n",
            " 1   surface_area               768 non-null    float64\n",
            " 2   wall_area                  768 non-null    float64\n",
            " 3   roof_area                  768 non-null    float64\n",
            " 4   height                     768 non-null    float64\n",
            " 5   orientation                768 non-null    int64  \n",
            " 6   glazing_area               768 non-null    float64\n",
            " 7   glazing_area_distribution  768 non-null    int64  \n",
            " 8   electricity                768 non-null    float64\n",
            "dtypes: float64(7), int64(2)\n",
            "memory usage: 54.1 KB\n"
          ],
          "name": "stdout"
        }
      ]
    },
    {
      "cell_type": "code",
      "metadata": {
        "colab": {
          "base_uri": "https://localhost:8080/",
          "height": 224
        },
        "id": "4f11vGs18kXx",
        "outputId": "f9b8c6e5-acb6-4c81-b4ca-be1cc2aeacac"
      },
      "source": [
        "Elec.head()"
      ],
      "execution_count": 4,
      "outputs": [
        {
          "output_type": "execute_result",
          "data": {
            "text/html": [
              "<div>\n",
              "<style scoped>\n",
              "    .dataframe tbody tr th:only-of-type {\n",
              "        vertical-align: middle;\n",
              "    }\n",
              "\n",
              "    .dataframe tbody tr th {\n",
              "        vertical-align: top;\n",
              "    }\n",
              "\n",
              "    .dataframe thead th {\n",
              "        text-align: right;\n",
              "    }\n",
              "</style>\n",
              "<table border=\"1\" class=\"dataframe\">\n",
              "  <thead>\n",
              "    <tr style=\"text-align: right;\">\n",
              "      <th></th>\n",
              "      <th>compactness</th>\n",
              "      <th>surface_area</th>\n",
              "      <th>wall_area</th>\n",
              "      <th>roof_area</th>\n",
              "      <th>height</th>\n",
              "      <th>orientation</th>\n",
              "      <th>glazing_area</th>\n",
              "      <th>glazing_area_distribution</th>\n",
              "      <th>electricity</th>\n",
              "    </tr>\n",
              "  </thead>\n",
              "  <tbody>\n",
              "    <tr>\n",
              "      <th>0</th>\n",
              "      <td>0.98</td>\n",
              "      <td>514.5</td>\n",
              "      <td>294.0</td>\n",
              "      <td>110.25</td>\n",
              "      <td>7.0</td>\n",
              "      <td>2</td>\n",
              "      <td>0.0</td>\n",
              "      <td>0</td>\n",
              "      <td>155.5</td>\n",
              "    </tr>\n",
              "    <tr>\n",
              "      <th>1</th>\n",
              "      <td>0.98</td>\n",
              "      <td>514.5</td>\n",
              "      <td>294.0</td>\n",
              "      <td>110.25</td>\n",
              "      <td>7.0</td>\n",
              "      <td>3</td>\n",
              "      <td>0.0</td>\n",
              "      <td>0</td>\n",
              "      <td>155.5</td>\n",
              "    </tr>\n",
              "    <tr>\n",
              "      <th>2</th>\n",
              "      <td>0.98</td>\n",
              "      <td>514.5</td>\n",
              "      <td>294.0</td>\n",
              "      <td>110.25</td>\n",
              "      <td>7.0</td>\n",
              "      <td>4</td>\n",
              "      <td>0.0</td>\n",
              "      <td>0</td>\n",
              "      <td>155.5</td>\n",
              "    </tr>\n",
              "    <tr>\n",
              "      <th>3</th>\n",
              "      <td>0.98</td>\n",
              "      <td>514.5</td>\n",
              "      <td>294.0</td>\n",
              "      <td>110.25</td>\n",
              "      <td>7.0</td>\n",
              "      <td>5</td>\n",
              "      <td>0.0</td>\n",
              "      <td>0</td>\n",
              "      <td>155.5</td>\n",
              "    </tr>\n",
              "    <tr>\n",
              "      <th>4</th>\n",
              "      <td>0.90</td>\n",
              "      <td>563.5</td>\n",
              "      <td>318.5</td>\n",
              "      <td>122.50</td>\n",
              "      <td>7.0</td>\n",
              "      <td>2</td>\n",
              "      <td>0.0</td>\n",
              "      <td>0</td>\n",
              "      <td>208.4</td>\n",
              "    </tr>\n",
              "  </tbody>\n",
              "</table>\n",
              "</div>"
            ],
            "text/plain": [
              "   compactness  surface_area  ...  glazing_area_distribution  electricity\n",
              "0         0.98         514.5  ...                          0        155.5\n",
              "1         0.98         514.5  ...                          0        155.5\n",
              "2         0.98         514.5  ...                          0        155.5\n",
              "3         0.98         514.5  ...                          0        155.5\n",
              "4         0.90         563.5  ...                          0        208.4\n",
              "\n",
              "[5 rows x 9 columns]"
            ]
          },
          "metadata": {
            "tags": []
          },
          "execution_count": 4
        }
      ]
    },
    {
      "cell_type": "code",
      "metadata": {
        "colab": {
          "base_uri": "https://localhost:8080/",
          "height": 280
        },
        "id": "yj5xcAA38kcB",
        "outputId": "913e97aa-1e0b-4468-b83b-e04c5b7144a4"
      },
      "source": [
        "sns.scatterplot(Elec['surface_area'], Elec['electricity'])\r\n",
        "plt.show()"
      ],
      "execution_count": 5,
      "outputs": [
        {
          "output_type": "display_data",
          "data": {
            "image/png": "[encoded data removed]",
            "text/plain": [
              "<Figure size 432x288 with 1 Axes>"
            ]
          },
          "metadata": {
            "tags": [],
            "needs_background": "light"
          }
        }
      ]
    },
    {
      "cell_type": "code",
      "metadata": {
        "colab": {
          "base_uri": "https://localhost:8080/",
          "height": 280
        },
        "id": "peimo2cu8-7M",
        "outputId": "7e706a6d-77ca-4d0e-c8d3-d0596b5bd60d"
      },
      "source": [
        "sns.regplot(x='surface_area', y='electricity', data=Elec,\r\n",
        "            line_kws={'color':'red'},\r\n",
        "            scatter_kws={'edgecolor':'white'})\r\n",
        "plt.xlim(505, 820)\r\n",
        "plt.show()"
      ],
      "execution_count": 6,
      "outputs": [
        {
          "output_type": "display_data",
          "data": {
            "image/png": "[encoded data removed]",
            "text/plain": [
              "<Figure size 432x288 with 1 Axes>"
            ]
          },
          "metadata": {
            "tags": [],
            "needs_background": "light"
          }
        }
      ]
    },
    {
      "cell_type": "code",
      "metadata": {
        "colab": {
          "base_uri": "https://localhost:8080/",
          "height": 280
        },
        "id": "d2l4K_Ww8kgH",
        "outputId": "56b82d2c-d90d-4472-b71a-3a490409e132"
      },
      "source": [
        "sns.regplot(x='surface_area', y='electricity', data=Elec,\r\n",
        "            line_kws={'color':'blue'},\r\n",
        "            scatter_kws={'edgecolor':'white'},\r\n",
        "            order=2)\r\n",
        "plt.xlim(505, 820)\r\n",
        "plt.show()"
      ],
      "execution_count": 7,
      "outputs": [
        {
          "output_type": "display_data",
          "data": {
            "image/png": "[encoded data removed]",
            "text/plain": [
              "<Figure size 432x288 with 1 Axes>"
            ]
          },
          "metadata": {
            "tags": [],
            "needs_background": "light"
          }
        }
      ]
    },
    {
      "cell_type": "code",
      "metadata": {
        "colab": {
          "base_uri": "https://localhost:8080/",
          "height": 280
        },
        "id": "_4Dv8X0h8kkn",
        "outputId": "1cb285e0-579c-415b-892b-c230006c5742"
      },
      "source": [
        "sns.regplot(x='surface_area', y='electricity', data=Elec,\r\n",
        "            line_kws={'color':'green'},\r\n",
        "            scatter_kws={'edgecolor':'white'},\r\n",
        "            order=5)\r\n",
        "plt.xlim(505, 820)\r\n",
        "plt.show()"
      ],
      "execution_count": 8,
      "outputs": [
        {
          "output_type": "display_data",
          "data": {
            "image/png": "[encoded data removed]",
            "text/plain": [
              "<Figure size 432x288 with 1 Axes>"
            ]
          },
          "metadata": {
            "tags": [],
            "needs_background": "light"
          }
        }
      ]
    },
    {
      "cell_type": "code",
      "metadata": {
        "colab": {
          "base_uri": "https://localhost:8080/",
          "height": 284
        },
        "id": "7_3W_JJz8kob",
        "outputId": "df9cb738-0098-4108-e6d2-f65757a3ac47"
      },
      "source": [
        "sns.regplot(x='surface_area', y='electricity', data=Elec,\r\n",
        "            line_kws={'color':'orange'},\r\n",
        "            scatter_kws={'edgecolor':'white'},\r\n",
        "            order=9)\r\n",
        "plt.xlim(505, 820)\r\n",
        "plt.ylim(50, 450)\r\n",
        "plt.show()"
      ],
      "execution_count": 11,
      "outputs": [
        {
          "output_type": "display_data",
          "data": {
            "image/png": "[encoded data removed]",
            "text/plain": [
              "<Figure size 432x288 with 1 Axes>"
            ]
          },
          "metadata": {
            "tags": [],
            "needs_background": "light"
          }
        }
      ]
    },
    {
      "cell_type": "code",
      "metadata": {
        "colab": {
          "base_uri": "https://localhost:8080/",
          "height": 293
        },
        "id": "sNe2Mbiv8ksp",
        "outputId": "70046eeb-fadb-4951-b469-e09cbc711ff2"
      },
      "source": [
        "sns.regplot(x='surface_area', y='electricity', data=Elec, line_kws={'color':'red'})\r\n",
        "sns.regplot(x='surface_area', y='electricity', data=Elec, line_kws={'color':'blue'}, order=2)\r\n",
        "sns.regplot(x='surface_area', y='electricity', data=Elec, line_kws={'color':'green'}, order=5)\r\n",
        "sns.regplot(x='surface_area', y='electricity', data=Elec, line_kws={'color':'orange'}, order=9, scatter_kws={'color':'gray', 'edgecolor':'white'})\r\n",
        "\r\n",
        "plt.xlim(505, 820)\r\n",
        "plt.ylim(50, 450)\r\n",
        "plt.xticks(rotation=35)\r\n",
        "plt.yticks(rotation=90)\r\n",
        "plt.show()"
      ],
      "execution_count": 14,
      "outputs": [
        {
          "output_type": "display_data",
          "data": {
            "image/png": "[encoded data removed]",
            "text/plain": [
              "<Figure size 432x288 with 1 Axes>"
            ]
          },
          "metadata": {
            "tags": [],
            "needs_background": "light"
          }
        }
      ]
    },
    {
      "cell_type": "code",
      "metadata": {
        "id": "pVpPX8yg8kwd"
      },
      "source": [
        "def reg_plot(x):\r\n",
        "  sns.regplot(x='surface_area', \r\n",
        "               y='electricity',\r\n",
        "               data=Elec,\r\n",
        "               order=x,\r\n",
        "               line_kws={'color':'red'},\r\n",
        "               scatter_kws={'edgecolor':'white'})\r\n",
        "  \r\n",
        "  plt.xlim(505, 820)\r\n",
        "  plt.ylim(50, 450)\r\n",
        "  plt.show()"
      ],
      "execution_count": 18,
      "outputs": []
    },
    {
      "cell_type": "code",
      "metadata": {
        "colab": {
          "base_uri": "https://localhost:8080/",
          "height": 334,
          "referenced_widgets": [
            "e24f7cbb959c4bc692c70890223f48af",
            "8e01e03157594539bd1fc8fecf2725d3",
            "7410984af4384e68a1171e0d16d8bf5a",
            "b45b90b180584f7482039b2f9ff7d924",
            "cb813fb2d2d840adb7abbb67f5a909c5",
            "0418c845d8894ca4b537020504592814",
            "a23d421734c44134ae6c2204acd19407"
          ]
        },
        "id": "ey2Y0M_E8kz7",
        "outputId": "443307b2-8d5f-4282-ac8d-0e96efaa9bdb"
      },
      "source": [
        "from ipywidgets import interact\r\n",
        "\r\n",
        "order = [1, 2, 5, 9]\r\n",
        "interact(reg_plot, x=order)"
      ],
      "execution_count": 19,
      "outputs": [
        {
          "output_type": "display_data",
          "data": {
            "application/vnd.jupyter.widget-view+json": {
              "model_id": "e24f7cbb959c4bc692c70890223f48af",
              "version_minor": 0,
              "version_major": 2
            },
            "text/plain": [
              "interactive(children=(Dropdown(description='x', options=(1, 2, 5, 9), value=1), Output()), _dom_classes=('widg…"
            ]
          },
          "metadata": {
            "tags": []
          }
        },
        {
          "output_type": "execute_result",
          "data": {
            "text/plain": [
              "<function __main__.reg_plot>"
            ]
          },
          "metadata": {
            "tags": []
          },
          "execution_count": 19
        }
      ]
    },
    {
      "cell_type": "markdown",
      "metadata": {
        "id": "ADWXhbNtgFSb"
      },
      "source": [
        "## Training Error"
      ]
    },
    {
      "cell_type": "code",
      "metadata": {
        "id": "cjDFCv0e8k-1"
      },
      "source": [
        "import pandas as pd\r\n",
        "import numpy as np\r\n",
        "import matplotlib.pyplot as plt\r\n",
        "import seaborn as sns"
      ],
      "execution_count": 23,
      "outputs": []
    },
    {
      "cell_type": "code",
      "metadata": {
        "colab": {
          "base_uri": "https://localhost:8080/"
        },
        "id": "OTQ9ofDa8lCm",
        "outputId": "4e439517-ade7-4c78-b184-4f19751580aa"
      },
      "source": [
        "Elec = pd.read_csv('https://raw.githubusercontent.com/rusita-ai/pyData/master/Electric.csv')\r\n",
        "\r\n",
        "Elec.info()"
      ],
      "execution_count": 24,
      "outputs": [
        {
          "output_type": "stream",
          "text": [
            "<class 'pandas.core.frame.DataFrame'>\n",
            "RangeIndex: 768 entries, 0 to 767\n",
            "Data columns (total 9 columns):\n",
            " #   Column                     Non-Null Count  Dtype  \n",
            "---  ------                     --------------  -----  \n",
            " 0   compactness                768 non-null    float64\n",
            " 1   surface_area               768 non-null    float64\n",
            " 2   wall_area                  768 non-null    float64\n",
            " 3   roof_area                  768 non-null    float64\n",
            " 4   height                     768 non-null    float64\n",
            " 5   orientation                768 non-null    int64  \n",
            " 6   glazing_area               768 non-null    float64\n",
            " 7   glazing_area_distribution  768 non-null    int64  \n",
            " 8   electricity                768 non-null    float64\n",
            "dtypes: float64(7), int64(2)\n",
            "memory usage: 54.1 KB\n"
          ],
          "name": "stdout"
        }
      ]
    },
    {
      "cell_type": "code",
      "metadata": {
        "colab": {
          "base_uri": "https://localhost:8080/"
        },
        "id": "wNyQeeUTgYvp",
        "outputId": "10970e94-bee7-4edd-f189-2da3d7ede31d"
      },
      "source": [
        "X_train = Elec[['surface_area']]\r\n",
        "y_train = Elec['electricity']\r\n",
        "\r\n",
        "X_train.shape, y_train.shape"
      ],
      "execution_count": 26,
      "outputs": [
        {
          "output_type": "execute_result",
          "data": {
            "text/plain": [
              "((768, 1), (768,))"
            ]
          },
          "metadata": {
            "tags": []
          },
          "execution_count": 26
        }
      ]
    },
    {
      "cell_type": "code",
      "metadata": {
        "colab": {
          "base_uri": "https://localhost:8080/"
        },
        "id": "nhgN4PPsgY0P",
        "outputId": "1d52589f-0e76-4b87-f2a6-dc5818880e4e"
      },
      "source": [
        "from sklearn.linear_model import LinearRegression\r\n",
        "\r\n",
        "Model_1 = LinearRegression()\r\n",
        "Model_1.fit(X_train, y_train)"
      ],
      "execution_count": 28,
      "outputs": [
        {
          "output_type": "execute_result",
          "data": {
            "text/plain": [
              "LinearRegression(copy_X=True, fit_intercept=True, n_jobs=None, normalize=False)"
            ]
          },
          "metadata": {
            "tags": []
          },
          "execution_count": 28
        }
      ]
    },
    {
      "cell_type": "code",
      "metadata": {
        "colab": {
          "base_uri": "https://localhost:8080/"
        },
        "id": "Y6TuRmHWgZB_",
        "outputId": "afba0e1f-d59a-481b-ba58-c92a976f9d4e"
      },
      "source": [
        "print(Model_1.coef_)\r\n",
        "print(Model_1.intercept_)"
      ],
      "execution_count": 29,
      "outputs": [
        {
          "output_type": "stream",
          "text": [
            "[-0.75387157]\n",
            "729.4538243006992\n"
          ],
          "name": "stdout"
        }
      ]
    },
    {
      "cell_type": "code",
      "metadata": {
        "colab": {
          "base_uri": "https://localhost:8080/"
        },
        "id": "r3LarxVlgZFm",
        "outputId": "338e0247-cfe0-4a2b-ccd5-790ef1b0178b"
      },
      "source": [
        "y_hat_1 = Model_1.predict(X_train)\r\n",
        "\r\n",
        "len(y_hat_1)"
      ],
      "execution_count": 32,
      "outputs": [
        {
          "output_type": "execute_result",
          "data": {
            "text/plain": [
              "768"
            ]
          },
          "metadata": {
            "tags": []
          },
          "execution_count": 32
        }
      ]
    },
    {
      "cell_type": "code",
      "metadata": {
        "colab": {
          "base_uri": "https://localhost:8080/"
        },
        "id": "Pvsh3k3vgZJl",
        "outputId": "944ed4a7-8166-4958-93dc-27ddb1dc4b00"
      },
      "source": [
        "TR_Err_1 = np.mean((y_train - y_hat_1) ** 2)\r\n",
        "TR_Err_1"
      ],
      "execution_count": 33,
      "outputs": [
        {
          "output_type": "execute_result",
          "data": {
            "text/plain": [
              "5763.983779426347"
            ]
          },
          "metadata": {
            "tags": []
          },
          "execution_count": 33
        }
      ]
    },
    {
      "cell_type": "code",
      "metadata": {
        "id": "V_9dcWx5gZNx"
      },
      "source": [
        "from sklearn.preprocessing import PolynomialFeatures\r\n",
        "\r\n",
        "poly = PolynomialFeatures(degree=5, include_bias=False)\r\n",
        "PX_5 = poly.fit_transform(X_train)"
      ],
      "execution_count": 34,
      "outputs": []
    },
    {
      "cell_type": "code",
      "metadata": {
        "colab": {
          "base_uri": "https://localhost:8080/"
        },
        "id": "7ymGm7uWgZQ4",
        "outputId": "f5ebd2fc-2585-43e7-e7d2-282adfe93afc"
      },
      "source": [
        "PX_5"
      ],
      "execution_count": 35,
      "outputs": [
        {
          "output_type": "execute_result",
          "data": {
            "text/plain": [
              "array([[5.14500000e+02, 2.64710250e+05, 1.36193424e+08, 7.00715165e+10,\n",
              "        3.60517952e+13],\n",
              "       [5.14500000e+02, 2.64710250e+05, 1.36193424e+08, 7.00715165e+10,\n",
              "        3.60517952e+13],\n",
              "       [5.14500000e+02, 2.64710250e+05, 1.36193424e+08, 7.00715165e+10,\n",
              "        3.60517952e+13],\n",
              "       ...,\n",
              "       [8.08500000e+02, 6.53672250e+05, 5.28494014e+08, 4.27287410e+11,\n",
              "        3.45461871e+14],\n",
              "       [8.08500000e+02, 6.53672250e+05, 5.28494014e+08, 4.27287410e+11,\n",
              "        3.45461871e+14],\n",
              "       [8.08500000e+02, 6.53672250e+05, 5.28494014e+08, 4.27287410e+11,\n",
              "        3.45461871e+14]])"
            ]
          },
          "metadata": {
            "tags": []
          },
          "execution_count": 35
        }
      ]
    },
    {
      "cell_type": "code",
      "metadata": {
        "colab": {
          "base_uri": "https://localhost:8080/"
        },
        "id": "EhxiJXF2gZVR",
        "outputId": "e7bf38ea-6d13-4014-fbcf-dbd7c0326578"
      },
      "source": [
        "X_train.shape, PX_5.shape"
      ],
      "execution_count": 36,
      "outputs": [
        {
          "output_type": "execute_result",
          "data": {
            "text/plain": [
              "((768, 1), (768, 5))"
            ]
          },
          "metadata": {
            "tags": []
          },
          "execution_count": 36
        }
      ]
    },
    {
      "cell_type": "code",
      "metadata": {
        "colab": {
          "base_uri": "https://localhost:8080/"
        },
        "id": "__9SnUa-gZYP",
        "outputId": "b0202f49-d6a0-4810-bbae-4e1e18d918f3"
      },
      "source": [
        "from sklearn.linear_model import LinearRegression\r\n",
        "\r\n",
        "Model_5 = LinearRegression()\r\n",
        "Model_5.fit(PX_5, y_train)"
      ],
      "execution_count": 37,
      "outputs": [
        {
          "output_type": "execute_result",
          "data": {
            "text/plain": [
              "LinearRegression(copy_X=True, fit_intercept=True, n_jobs=None, normalize=False)"
            ]
          },
          "metadata": {
            "tags": []
          },
          "execution_count": 37
        }
      ]
    },
    {
      "cell_type": "code",
      "metadata": {
        "colab": {
          "base_uri": "https://localhost:8080/"
        },
        "id": "c9dVD6F4gZby",
        "outputId": "86a08780-0302-4dd0-b76a-0af31d5320a3"
      },
      "source": [
        "np.set_printoptions(suppress=True, precision=10)\r\n",
        "\r\n",
        "print(Model_5.coef_)\r\n",
        "print(Model_5.intercept_)"
      ],
      "execution_count": 38,
      "outputs": [
        {
          "output_type": "stream",
          "text": [
            "[-0.0003155148 -0.1029296835  0.0003787616 -0.0000005032  0.0000000002]\n",
            "2906.221625380881\n"
          ],
          "name": "stdout"
        }
      ]
    },
    {
      "cell_type": "code",
      "metadata": {
        "colab": {
          "base_uri": "https://localhost:8080/"
        },
        "id": "YpsL-wPGgZfK",
        "outputId": "3d653b6e-0690-447d-d35d-e018480de41e"
      },
      "source": [
        "PX_5_pred = poly.fit_transform(X_train)\r\n",
        "\r\n",
        "y_hat_5 = Model_5.predict(PX_5_pred)\r\n",
        "\r\n",
        "y_hat_5.shape"
      ],
      "execution_count": 39,
      "outputs": [
        {
          "output_type": "execute_result",
          "data": {
            "text/plain": [
              "(768,)"
            ]
          },
          "metadata": {
            "tags": []
          },
          "execution_count": 39
        }
      ]
    },
    {
      "cell_type": "code",
      "metadata": {
        "colab": {
          "base_uri": "https://localhost:8080/"
        },
        "id": "CsF-9ZOt8lGw",
        "outputId": "63cb13ce-f9f9-40fc-cf8b-fc1b5af4c854"
      },
      "source": [
        "TR_Err_5 = np.mean((y_train - y_hat_5) ** 2)\r\n",
        "TR_Err_5"
      ],
      "execution_count": 40,
      "outputs": [
        {
          "output_type": "execute_result",
          "data": {
            "text/plain": [
              "4177.726328606075"
            ]
          },
          "metadata": {
            "tags": []
          },
          "execution_count": 40
        }
      ]
    },
    {
      "cell_type": "code",
      "metadata": {
        "id": "zX2vttQQ8lKR"
      },
      "source": [
        "from sklearn.preprocessing import PolynomialFeatures\r\n",
        "\r\n",
        "poly = PolynomialFeatures(degree=9, include_bias=False)\r\n",
        "PX_9 = poly.fit_transform(X_train)"
      ],
      "execution_count": 41,
      "outputs": []
    },
    {
      "cell_type": "code",
      "metadata": {
        "colab": {
          "base_uri": "https://localhost:8080/"
        },
        "id": "y0Qv7LbTizj8",
        "outputId": "564a24b2-f490-4740-8236-7dbd0c7c6587"
      },
      "source": [
        "X_train.shape, PX_9.shape"
      ],
      "execution_count": 42,
      "outputs": [
        {
          "output_type": "execute_result",
          "data": {
            "text/plain": [
              "((768, 1), (768, 9))"
            ]
          },
          "metadata": {
            "tags": []
          },
          "execution_count": 42
        }
      ]
    },
    {
      "cell_type": "code",
      "metadata": {
        "colab": {
          "base_uri": "https://localhost:8080/"
        },
        "id": "YXpHU-Bjizo6",
        "outputId": "c97befcc-a2d7-4a12-b60e-966b2f054075"
      },
      "source": [
        "from sklearn.linear_model import LinearRegression\r\n",
        "\r\n",
        "Model_9 = LinearRegression()\r\n",
        "Model_9.fit(PX_9, y_train)"
      ],
      "execution_count": 43,
      "outputs": [
        {
          "output_type": "execute_result",
          "data": {
            "text/plain": [
              "LinearRegression(copy_X=True, fit_intercept=True, n_jobs=None, normalize=False)"
            ]
          },
          "metadata": {
            "tags": []
          },
          "execution_count": 43
        }
      ]
    },
    {
      "cell_type": "code",
      "metadata": {
        "colab": {
          "base_uri": "https://localhost:8080/"
        },
        "id": "jB1kVmv_izv1",
        "outputId": "4fcd4c6f-7a6e-40b0-ee26-9d3b94c2a847"
      },
      "source": [
        "print(Model_9.coef_)\r\n",
        "print(Model_9.intercept_)"
      ],
      "execution_count": 44,
      "outputs": [
        {
          "output_type": "stream",
          "text": [
            "[ 0.  0.  0.  0.  0.  0. -0.  0. -0.]\n",
            "-440.08258373871365\n"
          ],
          "name": "stdout"
        }
      ]
    },
    {
      "cell_type": "code",
      "metadata": {
        "colab": {
          "base_uri": "https://localhost:8080/"
        },
        "id": "WxOsBMhriz07",
        "outputId": "8acf14bd-2263-44aa-a9ff-31855369bf88"
      },
      "source": [
        "PX_9_pred = poly.fit_transform(X_train)\r\n",
        "\r\n",
        "y_hat_9 = Model_9.predict(PX_9_pred)\r\n",
        "\r\n",
        "y_hat_9.shape"
      ],
      "execution_count": 45,
      "outputs": [
        {
          "output_type": "execute_result",
          "data": {
            "text/plain": [
              "(768,)"
            ]
          },
          "metadata": {
            "tags": []
          },
          "execution_count": 45
        }
      ]
    },
    {
      "cell_type": "code",
      "metadata": {
        "colab": {
          "base_uri": "https://localhost:8080/"
        },
        "id": "hiVnp9bpiz32",
        "outputId": "d6f23ea6-ccbc-4f0d-ed33-b9d36d2f9839"
      },
      "source": [
        "TR_Err_9 = np.mean((y_train - y_hat_9) ** 2)\r\n",
        "TR_Err_9"
      ],
      "execution_count": 49,
      "outputs": [
        {
          "output_type": "execute_result",
          "data": {
            "text/plain": [
              "4086.7199908150374"
            ]
          },
          "metadata": {
            "tags": []
          },
          "execution_count": 49
        }
      ]
    },
    {
      "cell_type": "code",
      "metadata": {
        "colab": {
          "base_uri": "https://localhost:8080/"
        },
        "id": "o_bJygCc8lNU",
        "outputId": "985da527-cea5-463d-d4d3-0b253227671d"
      },
      "source": [
        "print('1차 모델 : ', TR_Err_1)\r\n",
        "print('5차 모델 : ', TR_Err_5)\r\n",
        "print('9차 모델 : ', TR_Err_9)"
      ],
      "execution_count": 50,
      "outputs": [
        {
          "output_type": "stream",
          "text": [
            "1차 모델 :  5763.983779426347\n",
            "5차 모델 :  4177.726328606075\n",
            "9차 모델 :  4086.7199908150374\n"
          ],
          "name": "stdout"
        }
      ]
    },
    {
      "cell_type": "code",
      "metadata": {
        "colab": {
          "base_uri": "https://localhost:8080/",
          "height": 284
        },
        "id": "GMksO0UWj1ZO",
        "outputId": "0c647960-ce45-404a-da4c-780ed6e13ef1"
      },
      "source": [
        "sns.residplot(x='surface_area',\r\n",
        "              y='electricity', \r\n",
        "              data=Elec,\r\n",
        "              order=1,\r\n",
        "              scatter_kws={'edgecolor':'white'})\r\n",
        "plt.ylim(-300, 300)\r\n",
        "plt.show()"
      ],
      "execution_count": 51,
      "outputs": [
        {
          "output_type": "display_data",
          "data": {
            "image/png": "[encoded data removed]",
            "text/plain": [
              "<Figure size 432x288 with 1 Axes>"
            ]
          },
          "metadata": {
            "tags": [],
            "needs_background": "light"
          }
        }
      ]
    },
    {
      "cell_type": "code",
      "metadata": {
        "colab": {
          "base_uri": "https://localhost:8080/",
          "height": 284
        },
        "id": "uAM7HwY6j1eq",
        "outputId": "352b8dcf-cb02-467f-eb19-2abe1e404140"
      },
      "source": [
        "sns.residplot(x='surface_area',\r\n",
        "              y='electricity', \r\n",
        "              data=Elec,\r\n",
        "              order=5,\r\n",
        "              scatter_kws={'edgecolor':'white'})\r\n",
        "plt.ylim(-300, 300)\r\n",
        "plt.show()"
      ],
      "execution_count": 52,
      "outputs": [
        {
          "output_type": "display_data",
          "data": {
            "image/png": "[encoded data removed]",
            "text/plain": [
              "<Figure size 432x288 with 1 Axes>"
            ]
          },
          "metadata": {
            "tags": [],
            "needs_background": "light"
          }
        }
      ]
    },
    {
      "cell_type": "code",
      "metadata": {
        "colab": {
          "base_uri": "https://localhost:8080/",
          "height": 284
        },
        "id": "E5gsFirej1iu",
        "outputId": "3e2acb3c-28f6-43a4-aae2-b980a296ed7d"
      },
      "source": [
        "sns.residplot(x='surface_area',\r\n",
        "              y='electricity', \r\n",
        "              data=Elec,\r\n",
        "              order=9,\r\n",
        "              scatter_kws={'edgecolor':'white'})\r\n",
        "plt.ylim(-300, 300)\r\n",
        "plt.show()"
      ],
      "execution_count": 53,
      "outputs": [
        {
          "output_type": "display_data",
          "data": {
            "image/png": "[encoded data removed]",
            "text/plain": [
              "<Figure size 432x288 with 1 Axes>"
            ]
          },
          "metadata": {
            "tags": [],
            "needs_background": "light"
          }
        }
      ]
    },
    {
      "cell_type": "markdown",
      "metadata": {
        "id": "eDONyFgg1een"
      },
      "source": [
        "## Testing Error"
      ]
    },
    {
      "cell_type": "code",
      "metadata": {
        "id": "tOpPkyk7j1mq"
      },
      "source": [
        "import pandas as pd\r\n",
        "import matplotlib.pyplot as plt\r\n",
        "import seaborn as sns"
      ],
      "execution_count": 54,
      "outputs": []
    },
    {
      "cell_type": "code",
      "metadata": {
        "colab": {
          "base_uri": "https://localhost:8080/"
        },
        "id": "X6jVkpy71cMp",
        "outputId": "5cefcf8c-fa63-4807-e33e-f40cbad61b1b"
      },
      "source": [
        "Elec = pd.read_csv('https://raw.githubusercontent.com/rusita-ai/pyData/master/Electric.csv')\r\n",
        "\r\n",
        "Elec.shape"
      ],
      "execution_count": 56,
      "outputs": [
        {
          "output_type": "execute_result",
          "data": {
            "text/plain": [
              "(768, 9)"
            ]
          },
          "metadata": {
            "tags": []
          },
          "execution_count": 56
        }
      ]
    },
    {
      "cell_type": "code",
      "metadata": {
        "id": "jTnvsXZP1cQt"
      },
      "source": [
        "from sklearn.model_selection import train_test_split\r\n",
        "\r\n",
        "TR_Elec, TE_Elec = train_test_split(Elec, test_size=0.2, random_state=2045)"
      ],
      "execution_count": 57,
      "outputs": []
    },
    {
      "cell_type": "code",
      "metadata": {
        "colab": {
          "base_uri": "https://localhost:8080/"
        },
        "id": "J-LTAl6a1cVu",
        "outputId": "100e1019-9eaf-4175-8618-6a7558725cc7"
      },
      "source": [
        "TR_Elec.shape, TE_Elec.shape"
      ],
      "execution_count": 58,
      "outputs": [
        {
          "output_type": "execute_result",
          "data": {
            "text/plain": [
              "((614, 9), (154, 9))"
            ]
          },
          "metadata": {
            "tags": []
          },
          "execution_count": 58
        }
      ]
    },
    {
      "cell_type": "code",
      "metadata": {
        "colab": {
          "base_uri": "https://localhost:8080/",
          "height": 204
        },
        "id": "KmCqe-3j1cZj",
        "outputId": "da1f6043-bb82-4bf0-b54d-ee3d5e011538"
      },
      "source": [
        "TR_Elec.head()"
      ],
      "execution_count": 59,
      "outputs": [
        {
          "output_type": "execute_result",
          "data": {
            "text/html": [
              "<div>\n",
              "<style scoped>\n",
              "    .dataframe tbody tr th:only-of-type {\n",
              "        vertical-align: middle;\n",
              "    }\n",
              "\n",
              "    .dataframe tbody tr th {\n",
              "        vertical-align: top;\n",
              "    }\n",
              "\n",
              "    .dataframe thead th {\n",
              "        text-align: right;\n",
              "    }\n",
              "</style>\n",
              "<table border=\"1\" class=\"dataframe\">\n",
              "  <thead>\n",
              "    <tr style=\"text-align: right;\">\n",
              "      <th></th>\n",
              "      <th>compactness</th>\n",
              "      <th>surface_area</th>\n",
              "      <th>wall_area</th>\n",
              "      <th>roof_area</th>\n",
              "      <th>height</th>\n",
              "      <th>orientation</th>\n",
              "      <th>glazing_area</th>\n",
              "      <th>glazing_area_distribution</th>\n",
              "      <th>electricity</th>\n",
              "    </tr>\n",
              "  </thead>\n",
              "  <tbody>\n",
              "    <tr>\n",
              "      <th>555</th>\n",
              "      <td>0.74</td>\n",
              "      <td>686.0</td>\n",
              "      <td>245.0</td>\n",
              "      <td>220.5</td>\n",
              "      <td>3.5</td>\n",
              "      <td>5</td>\n",
              "      <td>0.40</td>\n",
              "      <td>1</td>\n",
              "      <td>145.5</td>\n",
              "    </tr>\n",
              "    <tr>\n",
              "      <th>355</th>\n",
              "      <td>0.79</td>\n",
              "      <td>637.0</td>\n",
              "      <td>343.0</td>\n",
              "      <td>147.0</td>\n",
              "      <td>7.0</td>\n",
              "      <td>5</td>\n",
              "      <td>0.25</td>\n",
              "      <td>2</td>\n",
              "      <td>389.8</td>\n",
              "    </tr>\n",
              "    <tr>\n",
              "      <th>200</th>\n",
              "      <td>0.86</td>\n",
              "      <td>588.0</td>\n",
              "      <td>294.0</td>\n",
              "      <td>147.0</td>\n",
              "      <td>7.0</td>\n",
              "      <td>2</td>\n",
              "      <td>0.10</td>\n",
              "      <td>4</td>\n",
              "      <td>264.4</td>\n",
              "    </tr>\n",
              "    <tr>\n",
              "      <th>669</th>\n",
              "      <td>0.62</td>\n",
              "      <td>808.5</td>\n",
              "      <td>367.5</td>\n",
              "      <td>220.5</td>\n",
              "      <td>3.5</td>\n",
              "      <td>3</td>\n",
              "      <td>0.40</td>\n",
              "      <td>3</td>\n",
              "      <td>163.5</td>\n",
              "    </tr>\n",
              "    <tr>\n",
              "      <th>561</th>\n",
              "      <td>0.69</td>\n",
              "      <td>735.0</td>\n",
              "      <td>294.0</td>\n",
              "      <td>220.5</td>\n",
              "      <td>3.5</td>\n",
              "      <td>3</td>\n",
              "      <td>0.40</td>\n",
              "      <td>1</td>\n",
              "      <td>147.0</td>\n",
              "    </tr>\n",
              "  </tbody>\n",
              "</table>\n",
              "</div>"
            ],
            "text/plain": [
              "     compactness  surface_area  ...  glazing_area_distribution  electricity\n",
              "555         0.74         686.0  ...                          1        145.5\n",
              "355         0.79         637.0  ...                          2        389.8\n",
              "200         0.86         588.0  ...                          4        264.4\n",
              "669         0.62         808.5  ...                          3        163.5\n",
              "561         0.69         735.0  ...                          1        147.0\n",
              "\n",
              "[5 rows x 9 columns]"
            ]
          },
          "metadata": {
            "tags": []
          },
          "execution_count": 59
        }
      ]
    },
    {
      "cell_type": "code",
      "metadata": {
        "colab": {
          "base_uri": "https://localhost:8080/",
          "height": 224
        },
        "id": "bbT5WgFn1cdp",
        "outputId": "e1cf12da-3a95-4f50-cd0d-61cb505a3856"
      },
      "source": [
        "TE_Elec.head()"
      ],
      "execution_count": 60,
      "outputs": [
        {
          "output_type": "execute_result",
          "data": {
            "text/html": [
              "<div>\n",
              "<style scoped>\n",
              "    .dataframe tbody tr th:only-of-type {\n",
              "        vertical-align: middle;\n",
              "    }\n",
              "\n",
              "    .dataframe tbody tr th {\n",
              "        vertical-align: top;\n",
              "    }\n",
              "\n",
              "    .dataframe thead th {\n",
              "        text-align: right;\n",
              "    }\n",
              "</style>\n",
              "<table border=\"1\" class=\"dataframe\">\n",
              "  <thead>\n",
              "    <tr style=\"text-align: right;\">\n",
              "      <th></th>\n",
              "      <th>compactness</th>\n",
              "      <th>surface_area</th>\n",
              "      <th>wall_area</th>\n",
              "      <th>roof_area</th>\n",
              "      <th>height</th>\n",
              "      <th>orientation</th>\n",
              "      <th>glazing_area</th>\n",
              "      <th>glazing_area_distribution</th>\n",
              "      <th>electricity</th>\n",
              "    </tr>\n",
              "  </thead>\n",
              "  <tbody>\n",
              "    <tr>\n",
              "      <th>414</th>\n",
              "      <td>0.71</td>\n",
              "      <td>710.5</td>\n",
              "      <td>269.5</td>\n",
              "      <td>220.50</td>\n",
              "      <td>3.5</td>\n",
              "      <td>4</td>\n",
              "      <td>0.25</td>\n",
              "      <td>3</td>\n",
              "      <td>121.0</td>\n",
              "    </tr>\n",
              "    <tr>\n",
              "      <th>475</th>\n",
              "      <td>0.64</td>\n",
              "      <td>784.0</td>\n",
              "      <td>343.0</td>\n",
              "      <td>220.50</td>\n",
              "      <td>3.5</td>\n",
              "      <td>5</td>\n",
              "      <td>0.25</td>\n",
              "      <td>4</td>\n",
              "      <td>166.2</td>\n",
              "    </tr>\n",
              "    <tr>\n",
              "      <th>511</th>\n",
              "      <td>0.71</td>\n",
              "      <td>710.5</td>\n",
              "      <td>269.5</td>\n",
              "      <td>220.50</td>\n",
              "      <td>3.5</td>\n",
              "      <td>5</td>\n",
              "      <td>0.25</td>\n",
              "      <td>5</td>\n",
              "      <td>122.7</td>\n",
              "    </tr>\n",
              "    <tr>\n",
              "      <th>213</th>\n",
              "      <td>0.76</td>\n",
              "      <td>661.5</td>\n",
              "      <td>416.5</td>\n",
              "      <td>122.50</td>\n",
              "      <td>7.0</td>\n",
              "      <td>3</td>\n",
              "      <td>0.10</td>\n",
              "      <td>4</td>\n",
              "      <td>323.8</td>\n",
              "    </tr>\n",
              "    <tr>\n",
              "      <th>339</th>\n",
              "      <td>0.98</td>\n",
              "      <td>514.5</td>\n",
              "      <td>294.0</td>\n",
              "      <td>110.25</td>\n",
              "      <td>7.0</td>\n",
              "      <td>5</td>\n",
              "      <td>0.25</td>\n",
              "      <td>2</td>\n",
              "      <td>286.0</td>\n",
              "    </tr>\n",
              "  </tbody>\n",
              "</table>\n",
              "</div>"
            ],
            "text/plain": [
              "     compactness  surface_area  ...  glazing_area_distribution  electricity\n",
              "414         0.71         710.5  ...                          3        121.0\n",
              "475         0.64         784.0  ...                          4        166.2\n",
              "511         0.71         710.5  ...                          5        122.7\n",
              "213         0.76         661.5  ...                          4        323.8\n",
              "339         0.98         514.5  ...                          2        286.0\n",
              "\n",
              "[5 rows x 9 columns]"
            ]
          },
          "metadata": {
            "tags": []
          },
          "execution_count": 60
        }
      ]
    },
    {
      "cell_type": "code",
      "metadata": {
        "id": "S_7qaYy51chB"
      },
      "source": [
        "from sklearn.model_selection import train_test_split"
      ],
      "execution_count": 61,
      "outputs": []
    },
    {
      "cell_type": "code",
      "metadata": {
        "id": "gGUX54FY1ckb"
      },
      "source": [
        "X_train, X_test, y_train, y_test = train_test_split(Elec[['surface_area']], Elec['electricity'], \r\n",
        "                                                    test_size=0.2, random_state=2045)"
      ],
      "execution_count": 62,
      "outputs": []
    },
    {
      "cell_type": "code",
      "metadata": {
        "colab": {
          "base_uri": "https://localhost:8080/"
        },
        "id": "UzwdP36M1cqM",
        "outputId": "b8acd15c-2480-4000-d2fd-a5263a018da2"
      },
      "source": [
        "X_train.shape, y_train.shape, X_test.shape, y_test.shape"
      ],
      "execution_count": 63,
      "outputs": [
        {
          "output_type": "execute_result",
          "data": {
            "text/plain": [
              "((614, 1), (614,), (154, 1), (154,))"
            ]
          },
          "metadata": {
            "tags": []
          },
          "execution_count": 63
        }
      ]
    },
    {
      "cell_type": "code",
      "metadata": {
        "colab": {
          "base_uri": "https://localhost:8080/",
          "height": 204
        },
        "id": "DL1QLmzi1csu",
        "outputId": "d8ae88c8-d6e0-4cc3-9c73-4e53867801b6"
      },
      "source": [
        "X_train.head()"
      ],
      "execution_count": 64,
      "outputs": [
        {
          "output_type": "execute_result",
          "data": {
            "text/html": [
              "<div>\n",
              "<style scoped>\n",
              "    .dataframe tbody tr th:only-of-type {\n",
              "        vertical-align: middle;\n",
              "    }\n",
              "\n",
              "    .dataframe tbody tr th {\n",
              "        vertical-align: top;\n",
              "    }\n",
              "\n",
              "    .dataframe thead th {\n",
              "        text-align: right;\n",
              "    }\n",
              "</style>\n",
              "<table border=\"1\" class=\"dataframe\">\n",
              "  <thead>\n",
              "    <tr style=\"text-align: right;\">\n",
              "      <th></th>\n",
              "      <th>surface_area</th>\n",
              "    </tr>\n",
              "  </thead>\n",
              "  <tbody>\n",
              "    <tr>\n",
              "      <th>555</th>\n",
              "      <td>686.0</td>\n",
              "    </tr>\n",
              "    <tr>\n",
              "      <th>355</th>\n",
              "      <td>637.0</td>\n",
              "    </tr>\n",
              "    <tr>\n",
              "      <th>200</th>\n",
              "      <td>588.0</td>\n",
              "    </tr>\n",
              "    <tr>\n",
              "      <th>669</th>\n",
              "      <td>808.5</td>\n",
              "    </tr>\n",
              "    <tr>\n",
              "      <th>561</th>\n",
              "      <td>735.0</td>\n",
              "    </tr>\n",
              "  </tbody>\n",
              "</table>\n",
              "</div>"
            ],
            "text/plain": [
              "     surface_area\n",
              "555         686.0\n",
              "355         637.0\n",
              "200         588.0\n",
              "669         808.5\n",
              "561         735.0"
            ]
          },
          "metadata": {
            "tags": []
          },
          "execution_count": 64
        }
      ]
    },
    {
      "cell_type": "code",
      "metadata": {
        "colab": {
          "base_uri": "https://localhost:8080/"
        },
        "id": "V-cjQlRy1cv7",
        "outputId": "5cb1c15d-08ca-448c-ab38-654c06ea3207"
      },
      "source": [
        "y_train.head()"
      ],
      "execution_count": 65,
      "outputs": [
        {
          "output_type": "execute_result",
          "data": {
            "text/plain": [
              "555    145.5\n",
              "355    389.8\n",
              "200    264.4\n",
              "669    163.5\n",
              "561    147.0\n",
              "Name: electricity, dtype: float64"
            ]
          },
          "metadata": {
            "tags": []
          },
          "execution_count": 65
        }
      ]
    },
    {
      "cell_type": "code",
      "metadata": {
        "colab": {
          "base_uri": "https://localhost:8080/",
          "height": 280
        },
        "id": "Q89ey9GM1c1P",
        "outputId": "96c38127-5198-49a2-cb71-500ad0115f34"
      },
      "source": [
        "sns.scatterplot(TR_Elec['surface_area'], TR_Elec['electricity'])\r\n",
        "plt.show()"
      ],
      "execution_count": 66,
      "outputs": [
        {
          "output_type": "display_data",
          "data": {
            "image/png": "[encoded data removed]",
            "text/plain": [
              "<Figure size 432x288 with 1 Axes>"
            ]
          },
          "metadata": {
            "tags": [],
            "needs_background": "light"
          }
        }
      ]
    },
    {
      "cell_type": "code",
      "metadata": {
        "colab": {
          "base_uri": "https://localhost:8080/",
          "height": 280
        },
        "id": "qektIMWM1c4U",
        "outputId": "87c4423f-3119-40de-9ce1-2ad9c2a5d02c"
      },
      "source": [
        "sns.scatterplot(TE_Elec['surface_area'], TE_Elec['electricity'])\r\n",
        "plt.show()"
      ],
      "execution_count": 67,
      "outputs": [
        {
          "output_type": "display_data",
          "data": {
            "image/png": "[encoded data removed]",
            "text/plain": [
              "<Figure size 432x288 with 1 Axes>"
            ]
          },
          "metadata": {
            "tags": [],
            "needs_background": "light"
          }
        }
      ]
    },
    {
      "cell_type": "code",
      "metadata": {
        "colab": {
          "base_uri": "https://localhost:8080/"
        },
        "id": "lsO2Z3m51c9x",
        "outputId": "16693a2b-f88b-4ea9-9133-994c7b3c02c6"
      },
      "source": [
        "from sklearn.linear_model import LinearRegression\r\n",
        "\r\n",
        "Model_1 = LinearRegression()\r\n",
        "Model_1.fit(X_train, y_train)"
      ],
      "execution_count": 68,
      "outputs": [
        {
          "output_type": "execute_result",
          "data": {
            "text/plain": [
              "LinearRegression(copy_X=True, fit_intercept=True, n_jobs=None, normalize=False)"
            ]
          },
          "metadata": {
            "tags": []
          },
          "execution_count": 68
        }
      ]
    },
    {
      "cell_type": "code",
      "metadata": {
        "colab": {
          "base_uri": "https://localhost:8080/"
        },
        "id": "w0iBht-h2vnb",
        "outputId": "328281f7-5355-4775-a644-5e565c04930d"
      },
      "source": [
        "y_hat_1 = Model_1.predict(X_test)\r\n",
        "\r\n",
        "y_hat_1.shape"
      ],
      "execution_count": 69,
      "outputs": [
        {
          "output_type": "execute_result",
          "data": {
            "text/plain": [
              "(154,)"
            ]
          },
          "metadata": {
            "tags": []
          },
          "execution_count": 69
        }
      ]
    },
    {
      "cell_type": "code",
      "metadata": {
        "id": "kh9DGQci2vsJ"
      },
      "source": [
        "from sklearn.metrics import mean_squared_error"
      ],
      "execution_count": 70,
      "outputs": []
    },
    {
      "cell_type": "code",
      "metadata": {
        "colab": {
          "base_uri": "https://localhost:8080/"
        },
        "id": "d_9bRC8f2vv_",
        "outputId": "e4287514-953f-4546-cd8b-f604e540526e"
      },
      "source": [
        "TE_Err_1 = mean_squared_error(y_test, y_hat_1)\r\n",
        "TE_Err_1"
      ],
      "execution_count": 71,
      "outputs": [
        {
          "output_type": "execute_result",
          "data": {
            "text/plain": [
              "6044.176547629271"
            ]
          },
          "metadata": {
            "tags": []
          },
          "execution_count": 71
        }
      ]
    },
    {
      "cell_type": "code",
      "metadata": {
        "id": "jhP8i2NB2v03"
      },
      "source": [
        "from sklearn.preprocessing import PolynomialFeatures\r\n",
        "\r\n",
        "poly = PolynomialFeatures(degree=5, include_bias=False)\r\n",
        "PX_5_TR = poly.fit_transform(X_train)"
      ],
      "execution_count": 72,
      "outputs": []
    },
    {
      "cell_type": "code",
      "metadata": {
        "colab": {
          "base_uri": "https://localhost:8080/"
        },
        "id": "nOnAZUTh2v3-",
        "outputId": "ae038de7-2a22-413f-a699-15a6bad4b15b"
      },
      "source": [
        "from sklearn.linear_model import LinearRegression\r\n",
        "\r\n",
        "Model_5 = LinearRegression()\r\n",
        "Model_5.fit(PX_5_TR, y_train)"
      ],
      "execution_count": 74,
      "outputs": [
        {
          "output_type": "execute_result",
          "data": {
            "text/plain": [
              "LinearRegression(copy_X=True, fit_intercept=True, n_jobs=None, normalize=False)"
            ]
          },
          "metadata": {
            "tags": []
          },
          "execution_count": 74
        }
      ]
    },
    {
      "cell_type": "code",
      "metadata": {
        "id": "F1m3sIOa2v74"
      },
      "source": [
        "PX_5_TE = poly.fit_transform(X_test)\r\n",
        "\r\n",
        "y_hat_5 = Model_5.predict(PX_5_TE)"
      ],
      "execution_count": 75,
      "outputs": []
    },
    {
      "cell_type": "code",
      "metadata": {
        "colab": {
          "base_uri": "https://localhost:8080/"
        },
        "id": "9i5Z6R_s2v-2",
        "outputId": "8a7597f7-7b6d-4d17-8bf4-79dd8c0fa9d7"
      },
      "source": [
        "from sklearn.metrics import mean_squared_error\r\n",
        "\r\n",
        "TE_Err_5 = mean_squared_error(y_test, y_hat_5)\r\n",
        "TE_Err_5"
      ],
      "execution_count": 76,
      "outputs": [
        {
          "output_type": "execute_result",
          "data": {
            "text/plain": [
              "4330.604566409499"
            ]
          },
          "metadata": {
            "tags": []
          },
          "execution_count": 76
        }
      ]
    },
    {
      "cell_type": "code",
      "metadata": {
        "id": "JHPwkl0M2wDD"
      },
      "source": [
        "from sklearn.preprocessing import PolynomialFeatures\r\n",
        "\r\n",
        "poly = PolynomialFeatures(degree=9, include_bias=False)\r\n",
        "PX_9_TR = poly.fit_transform(X_train)"
      ],
      "execution_count": 77,
      "outputs": []
    },
    {
      "cell_type": "code",
      "metadata": {
        "colab": {
          "base_uri": "https://localhost:8080/"
        },
        "id": "3rMgk_Hr2wHA",
        "outputId": "9c072cc5-51cb-4565-f335-6bd7ccc9b620"
      },
      "source": [
        "from sklearn.linear_model import LinearRegression\r\n",
        "\r\n",
        "Model_9 = LinearRegression()\r\n",
        "Model_9.fit(PX_9_TR, y_train)"
      ],
      "execution_count": 79,
      "outputs": [
        {
          "output_type": "execute_result",
          "data": {
            "text/plain": [
              "LinearRegression(copy_X=True, fit_intercept=True, n_jobs=None, normalize=False)"
            ]
          },
          "metadata": {
            "tags": []
          },
          "execution_count": 79
        }
      ]
    },
    {
      "cell_type": "code",
      "metadata": {
        "id": "cVYu4D_I2wK2"
      },
      "source": [
        "PX_9_TE = poly.fit_transform(X_test)\r\n",
        "\r\n",
        "y_hat_9 = Model_9.predict(PX_9_TE)"
      ],
      "execution_count": 80,
      "outputs": []
    },
    {
      "cell_type": "code",
      "metadata": {
        "colab": {
          "base_uri": "https://localhost:8080/"
        },
        "id": "b0-3xQ_P2wOe",
        "outputId": "580823ef-cdb7-48cb-c0e7-122b5c43d701"
      },
      "source": [
        "from sklearn.metrics import mean_squared_error\r\n",
        "\r\n",
        "TE_Err_9 = mean_squared_error(y_test, y_hat_9)\r\n",
        "TE_Err_9"
      ],
      "execution_count": 81,
      "outputs": [
        {
          "output_type": "execute_result",
          "data": {
            "text/plain": [
              "4238.689067137633"
            ]
          },
          "metadata": {
            "tags": []
          },
          "execution_count": 81
        }
      ]
    },
    {
      "cell_type": "code",
      "metadata": {
        "colab": {
          "base_uri": "https://localhost:8080/"
        },
        "id": "zXUf3Rvej1rU",
        "outputId": "b8d6be33-a396-4d4d-9af1-87ae33ef179a"
      },
      "source": [
        "print('1차 모델 : ', TE_Err_1)\r\n",
        "print('5차 모델 : ', TE_Err_5)\r\n",
        "print('9차 모델 : ', TE_Err_9)"
      ],
      "execution_count": 82,
      "outputs": [
        {
          "output_type": "stream",
          "text": [
            "1차 모델 :  6044.176547629271\n",
            "5차 모델 :  4330.604566409499\n",
            "9차 모델 :  4238.689067137633\n"
          ],
          "name": "stdout"
        }
      ]
    },
    {
      "cell_type": "markdown",
      "metadata": {
        "id": "yzdQBnViXzKm"
      },
      "source": [
        "## Validation Approach"
      ]
    },
    {
      "cell_type": "code",
      "metadata": {
        "id": "n3rR8BrFXxdR"
      },
      "source": [
        "import pandas as pd"
      ],
      "execution_count": 2,
      "outputs": []
    },
    {
      "cell_type": "code",
      "metadata": {
        "colab": {
          "base_uri": "https://localhost:8080/"
        },
        "id": "Mdwyh3VcXyCT",
        "outputId": "4f77a231-bb1e-447b-cbe6-0cdf9955cc95"
      },
      "source": [
        "Elec = pd.read_csv('https://raw.githubusercontent.com/rusita-ai/pyData/master/Electric.csv')\r\n",
        "\r\n",
        "Elec.info()"
      ],
      "execution_count": 3,
      "outputs": [
        {
          "output_type": "stream",
          "text": [
            "<class 'pandas.core.frame.DataFrame'>\n",
            "RangeIndex: 768 entries, 0 to 767\n",
            "Data columns (total 9 columns):\n",
            " #   Column                     Non-Null Count  Dtype  \n",
            "---  ------                     --------------  -----  \n",
            " 0   compactness                768 non-null    float64\n",
            " 1   surface_area               768 non-null    float64\n",
            " 2   wall_area                  768 non-null    float64\n",
            " 3   roof_area                  768 non-null    float64\n",
            " 4   height                     768 non-null    float64\n",
            " 5   orientation                768 non-null    int64  \n",
            " 6   glazing_area               768 non-null    float64\n",
            " 7   glazing_area_distribution  768 non-null    int64  \n",
            " 8   electricity                768 non-null    float64\n",
            "dtypes: float64(7), int64(2)\n",
            "memory usage: 54.1 KB\n"
          ],
          "name": "stdout"
        }
      ]
    },
    {
      "cell_type": "code",
      "metadata": {
        "colab": {
          "base_uri": "https://localhost:8080/"
        },
        "id": "dBUYYfSGXyHa",
        "outputId": "baa2408d-34b2-4337-9391-83151871a3d0"
      },
      "source": [
        "from sklearn.model_selection import train_test_split\r\n",
        "\r\n",
        "X_remain, X_test, y_remain, y_test = train_test_split(Elec[['surface_area']], Elec['electricity'],\r\n",
        "                                                      test_size=int(len(Elec) * 0.2),\r\n",
        "                                                      random_state=2045)\r\n",
        "\r\n",
        "print(X_remain.shape, y_remain.shape)\r\n",
        "print(X_test.shape, y_test.shape)"
      ],
      "execution_count": 4,
      "outputs": [
        {
          "output_type": "stream",
          "text": [
            "(615, 1) (615,)\n",
            "(153, 1) (153,)\n"
          ],
          "name": "stdout"
        }
      ]
    },
    {
      "cell_type": "code",
      "metadata": {
        "colab": {
          "base_uri": "https://localhost:8080/"
        },
        "id": "chUwBTHmXyLf",
        "outputId": "189589d8-0897-4941-a8e4-e40529fdf6be"
      },
      "source": [
        "X_train, X_valid, y_train, y_valid = train_test_split(X_remain, y_remain,\r\n",
        "                                                      test_size=int(len(Elec) * 0.2),\r\n",
        "                                                      random_state=2045)\r\n",
        "\r\n",
        "print(X_train.shape, y_train.shape)\r\n",
        "print(X_valid.shape, y_valid.shape)\r\n",
        "print(X_test.shape, y_test.shape)"
      ],
      "execution_count": 5,
      "outputs": [
        {
          "output_type": "stream",
          "text": [
            "(462, 1) (462,)\n",
            "(153, 1) (153,)\n",
            "(153, 1) (153,)\n"
          ],
          "name": "stdout"
        }
      ]
    },
    {
      "cell_type": "code",
      "metadata": {
        "id": "HfUr8LHVXyQe"
      },
      "source": [
        "from sklearn.preprocessing import PolynomialFeatures\r\n",
        "\r\n",
        "poly = PolynomialFeatures(degree=5, include_bias=False)\r\n",
        "PX_5_TR = poly.fit_transform(X_train)"
      ],
      "execution_count": 6,
      "outputs": []
    },
    {
      "cell_type": "code",
      "metadata": {
        "colab": {
          "base_uri": "https://localhost:8080/"
        },
        "id": "HGrrOY1-XyTy",
        "outputId": "70da6124-f54e-4e09-90e3-c3a21f84ca8d"
      },
      "source": [
        "from sklearn.linear_model import LinearRegression\r\n",
        "\r\n",
        "Model_5 = LinearRegression()\r\n",
        "Model_5.fit(PX_5_TR, y_train)"
      ],
      "execution_count": 7,
      "outputs": [
        {
          "output_type": "execute_result",
          "data": {
            "text/plain": [
              "LinearRegression(copy_X=True, fit_intercept=True, n_jobs=None, normalize=False)"
            ]
          },
          "metadata": {
            "tags": []
          },
          "execution_count": 7
        }
      ]
    },
    {
      "cell_type": "code",
      "metadata": {
        "id": "hu2NX0qgXyYF"
      },
      "source": [
        "PX_5_VD = poly.fit_transform(X_valid)\r\n",
        "\r\n",
        "y_hat_5 = Model_5.predict(PX_5_VD)"
      ],
      "execution_count": 8,
      "outputs": []
    },
    {
      "cell_type": "code",
      "metadata": {
        "colab": {
          "base_uri": "https://localhost:8080/"
        },
        "id": "fBhq4DvjXybt",
        "outputId": "106fa21c-4254-451e-f805-c1c9976134ab"
      },
      "source": [
        "from sklearn.metrics import mean_squared_error\r\n",
        "\r\n",
        "MSE_5 = mean_squared_error(y_valid, y_hat_5)\r\n",
        "MSE_5"
      ],
      "execution_count": 9,
      "outputs": [
        {
          "output_type": "execute_result",
          "data": {
            "text/plain": [
              "4136.4312593408395"
            ]
          },
          "metadata": {
            "tags": []
          },
          "execution_count": 9
        }
      ]
    },
    {
      "cell_type": "code",
      "metadata": {
        "id": "IMwMlIalZwIC"
      },
      "source": [
        "from sklearn.preprocessing import PolynomialFeatures\r\n",
        "\r\n",
        "poly = PolynomialFeatures(degree=9, include_bias=False)\r\n",
        "PX_9_TR = poly.fit_transform(X_train)"
      ],
      "execution_count": 10,
      "outputs": []
    },
    {
      "cell_type": "code",
      "metadata": {
        "colab": {
          "base_uri": "https://localhost:8080/"
        },
        "id": "uuviULOQZwFM",
        "outputId": "e77fa1e4-c3e4-421d-f265-654e6d3bdf66"
      },
      "source": [
        "from sklearn.linear_model import LinearRegression\r\n",
        "\r\n",
        "Model_9 = LinearRegression()\r\n",
        "Model_9.fit(PX_9_TR, y_train)"
      ],
      "execution_count": 11,
      "outputs": [
        {
          "output_type": "execute_result",
          "data": {
            "text/plain": [
              "LinearRegression(copy_X=True, fit_intercept=True, n_jobs=None, normalize=False)"
            ]
          },
          "metadata": {
            "tags": []
          },
          "execution_count": 11
        }
      ]
    },
    {
      "cell_type": "code",
      "metadata": {
        "id": "YdCyuWNOZwCG"
      },
      "source": [
        "PX_9_VD = poly.fit_transform(X_valid)\r\n",
        "\r\n",
        "y_hat_9 = Model_9.predict(PX_9_VD)"
      ],
      "execution_count": 14,
      "outputs": []
    },
    {
      "cell_type": "code",
      "metadata": {
        "colab": {
          "base_uri": "https://localhost:8080/"
        },
        "id": "6c-N4IV-Zv_V",
        "outputId": "9f000315-d083-4f8f-bcbe-9c9232a8635e"
      },
      "source": [
        "from sklearn.metrics import mean_squared_error\r\n",
        "\r\n",
        "MSE_9 = mean_squared_error(y_valid, y_hat_9)\r\n",
        "MSE_9"
      ],
      "execution_count": 15,
      "outputs": [
        {
          "output_type": "execute_result",
          "data": {
            "text/plain": [
              "3955.9733124909912"
            ]
          },
          "metadata": {
            "tags": []
          },
          "execution_count": 15
        }
      ]
    },
    {
      "cell_type": "code",
      "metadata": {
        "colab": {
          "base_uri": "https://localhost:8080/"
        },
        "id": "I6DB741AZv6C",
        "outputId": "fbf2365c-6ea0-41d9-e2b0-87819fa9c369"
      },
      "source": [
        "print('5차 모델 MSE : ', MSE_5)\r\n",
        "print('9차 모델 MSE : ', MSE_9)"
      ],
      "execution_count": 16,
      "outputs": [
        {
          "output_type": "stream",
          "text": [
            "5차 모델 MSE :  4136.4312593408395\n",
            "9차 모델 MSE :  3955.9733124909912\n"
          ],
          "name": "stdout"
        }
      ]
    },
    {
      "cell_type": "code",
      "metadata": {
        "colab": {
          "base_uri": "https://localhost:8080/"
        },
        "id": "4J5zaKewZv2_",
        "outputId": "d31eb6d4-6ad2-4158-dd2b-8859e3f4b94d"
      },
      "source": [
        "PX_9_TE = poly.fit_transform(X_test)\r\n",
        "\r\n",
        "mean_squared_error(y_test, Model_9.predict(PX_9_TE))"
      ],
      "execution_count": 17,
      "outputs": [
        {
          "output_type": "execute_result",
          "data": {
            "text/plain": [
              "4220.88573210769"
            ]
          },
          "metadata": {
            "tags": []
          },
          "execution_count": 17
        }
      ]
    },
    {
      "cell_type": "code",
      "metadata": {
        "id": "CsIkN07bZv0w"
      },
      "source": [
        ""
      ],
      "execution_count": null,
      "outputs": []
    },
    {
      "cell_type": "code",
      "metadata": {
        "id": "WkFk-z9-Zvyf"
      },
      "source": [
        ""
      ],
      "execution_count": null,
      "outputs": []
    },
    {
      "cell_type": "code",
      "metadata": {
        "id": "pk8-7ofEZvun"
      },
      "source": [
        ""
      ],
      "execution_count": null,
      "outputs": []
    },
    {
      "cell_type": "code",
      "metadata": {
        "id": "uIdUEJdmZvoT"
      },
      "source": [
        ""
      ],
      "execution_count": null,
      "outputs": []
    },
    {
      "cell_type": "code",
      "metadata": {
        "id": "25E4bJe0ZvTC"
      },
      "source": [
        ""
      ],
      "execution_count": null,
      "outputs": []
    },
    {
      "cell_type": "code",
      "metadata": {
        "id": "Pz-XpxRvXygz"
      },
      "source": [
        ""
      ],
      "execution_count": null,
      "outputs": []
    }
  ]
}