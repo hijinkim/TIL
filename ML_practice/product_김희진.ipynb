{
  "nbformat": 4,
  "nbformat_minor": 0,
  "metadata": {
    "colab": {
      "name": "product_김희진.ipynb",
      "provenance": []
    },
    "kernelspec": {
      "name": "python3",
      "display_name": "Python 3"
    }
  },
  "cells": [
    {
      "cell_type": "code",
      "metadata": {
        "id": "ydPAaMJ_qBq-"
      },
      "source": [
        "import warnings\r\n",
        "warnings.filterwarnings('ignore')"
      ],
      "execution_count": 1,
      "outputs": []
    },
    {
      "cell_type": "code",
      "metadata": {
        "colab": {
          "base_uri": "https://localhost:8080/"
        },
        "id": "Ri6EwcmorK_D",
        "outputId": "d1d2def7-58e8-4f67-8cb8-321b9ec7307c"
      },
      "source": [
        "import pandas as pd\r\n",
        "\r\n",
        "DF = pd.read_csv('https://raw.githubusercontent.com/rusita-ai/pyData/master/product.csv')\r\n",
        "\r\n",
        "DF.info()"
      ],
      "execution_count": 2,
      "outputs": [
        {
          "output_type": "stream",
          "text": [
            "<class 'pandas.core.frame.DataFrame'>\n",
            "RangeIndex: 15009 entries, 0 to 15008\n",
            "Data columns (total 12 columns):\n",
            " #   Column         Non-Null Count  Dtype  \n",
            "---  ------         --------------  -----  \n",
            " 0   Date           15009 non-null  object \n",
            " 1   meanPriceEach  15009 non-null  float64\n",
            " 2   totalOrder     15009 non-null  float64\n",
            " 3   orderType_1    15009 non-null  float64\n",
            " 4   orderType_2    15009 non-null  float64\n",
            " 5   orderType_3    15009 non-null  float64\n",
            " 6   totalBundle    15009 non-null  float64\n",
            " 7   bundleType_1   15009 non-null  float64\n",
            " 8   bundleType_2   15009 non-null  float64\n",
            " 9   customerType   15009 non-null  object \n",
            " 10  FY             15009 non-null  int64  \n",
            " 11  Country        15009 non-null  int64  \n",
            "dtypes: float64(8), int64(2), object(2)\n",
            "memory usage: 1.4+ MB\n"
          ],
          "name": "stdout"
        }
      ]
    },
    {
      "cell_type": "code",
      "metadata": {
        "colab": {
          "base_uri": "https://localhost:8080/",
          "height": 309
        },
        "id": "hB5pV6yvrK8P",
        "outputId": "3a047029-6865-4279-c0d4-9702fc4a643b"
      },
      "source": [
        "DF.head()"
      ],
      "execution_count": 3,
      "outputs": [
        {
          "output_type": "execute_result",
          "data": {
            "text/html": [
              "<div>\n",
              "<style scoped>\n",
              "    .dataframe tbody tr th:only-of-type {\n",
              "        vertical-align: middle;\n",
              "    }\n",
              "\n",
              "    .dataframe tbody tr th {\n",
              "        vertical-align: top;\n",
              "    }\n",
              "\n",
              "    .dataframe thead th {\n",
              "        text-align: right;\n",
              "    }\n",
              "</style>\n",
              "<table border=\"1\" class=\"dataframe\">\n",
              "  <thead>\n",
              "    <tr style=\"text-align: right;\">\n",
              "      <th></th>\n",
              "      <th>Date</th>\n",
              "      <th>meanPriceEach</th>\n",
              "      <th>totalOrder</th>\n",
              "      <th>orderType_1</th>\n",
              "      <th>orderType_2</th>\n",
              "      <th>orderType_3</th>\n",
              "      <th>totalBundle</th>\n",
              "      <th>bundleType_1</th>\n",
              "      <th>bundleType_2</th>\n",
              "      <th>customerType</th>\n",
              "      <th>FY</th>\n",
              "      <th>Country</th>\n",
              "    </tr>\n",
              "  </thead>\n",
              "  <tbody>\n",
              "    <tr>\n",
              "      <th>0</th>\n",
              "      <td>2015-01-04</td>\n",
              "      <td>1.56</td>\n",
              "      <td>58065.35</td>\n",
              "      <td>10049.66</td>\n",
              "      <td>25228.37</td>\n",
              "      <td>3672.89</td>\n",
              "      <td>19114.43</td>\n",
              "      <td>17280.89</td>\n",
              "      <td>1833.54</td>\n",
              "      <td>Online</td>\n",
              "      <td>2015</td>\n",
              "      <td>25</td>\n",
              "    </tr>\n",
              "    <tr>\n",
              "      <th>1</th>\n",
              "      <td>2015-01-04</td>\n",
              "      <td>1.10</td>\n",
              "      <td>2578275.12</td>\n",
              "      <td>575245.44</td>\n",
              "      <td>1311502.53</td>\n",
              "      <td>181058.65</td>\n",
              "      <td>510468.50</td>\n",
              "      <td>429166.89</td>\n",
              "      <td>80986.81</td>\n",
              "      <td>Offline</td>\n",
              "      <td>2015</td>\n",
              "      <td>25</td>\n",
              "    </tr>\n",
              "    <tr>\n",
              "      <th>2</th>\n",
              "      <td>2015-01-11</td>\n",
              "      <td>1.17</td>\n",
              "      <td>2335986.11</td>\n",
              "      <td>560119.16</td>\n",
              "      <td>1032606.49</td>\n",
              "      <td>191515.19</td>\n",
              "      <td>551745.27</td>\n",
              "      <td>465764.93</td>\n",
              "      <td>85966.27</td>\n",
              "      <td>Offline</td>\n",
              "      <td>2015</td>\n",
              "      <td>25</td>\n",
              "    </tr>\n",
              "    <tr>\n",
              "      <th>3</th>\n",
              "      <td>2015-01-11</td>\n",
              "      <td>1.52</td>\n",
              "      <td>65483.08</td>\n",
              "      <td>14570.74</td>\n",
              "      <td>30445.75</td>\n",
              "      <td>3170.11</td>\n",
              "      <td>17296.48</td>\n",
              "      <td>16715.45</td>\n",
              "      <td>581.03</td>\n",
              "      <td>Online</td>\n",
              "      <td>2015</td>\n",
              "      <td>25</td>\n",
              "    </tr>\n",
              "    <tr>\n",
              "      <th>4</th>\n",
              "      <td>2015-01-18</td>\n",
              "      <td>1.65</td>\n",
              "      <td>52559.10</td>\n",
              "      <td>11415.28</td>\n",
              "      <td>25306.56</td>\n",
              "      <td>3345.08</td>\n",
              "      <td>12492.18</td>\n",
              "      <td>10971.43</td>\n",
              "      <td>1520.75</td>\n",
              "      <td>Online</td>\n",
              "      <td>2015</td>\n",
              "      <td>25</td>\n",
              "    </tr>\n",
              "  </tbody>\n",
              "</table>\n",
              "</div>"
            ],
            "text/plain": [
              "         Date  meanPriceEach  totalOrder  ...  customerType    FY  Country\n",
              "0  2015-01-04           1.56    58065.35  ...        Online  2015       25\n",
              "1  2015-01-04           1.10  2578275.12  ...       Offline  2015       25\n",
              "2  2015-01-11           1.17  2335986.11  ...       Offline  2015       25\n",
              "3  2015-01-11           1.52    65483.08  ...        Online  2015       25\n",
              "4  2015-01-18           1.65    52559.10  ...        Online  2015       25\n",
              "\n",
              "[5 rows x 12 columns]"
            ]
          },
          "metadata": {
            "tags": []
          },
          "execution_count": 3
        }
      ]
    },
    {
      "cell_type": "code",
      "metadata": {
        "colab": {
          "base_uri": "https://localhost:8080/"
        },
        "id": "W02qaENErK5i",
        "outputId": "385b1546-f2a0-410f-a612-d0b696cf3c16"
      },
      "source": [
        "DF.customerType.value_counts()"
      ],
      "execution_count": 5,
      "outputs": [
        {
          "output_type": "execute_result",
          "data": {
            "text/plain": [
              "Offline    7506\n",
              "Online     7503\n",
              "Name: customerType, dtype: int64"
            ]
          },
          "metadata": {
            "tags": []
          },
          "execution_count": 5
        }
      ]
    },
    {
      "cell_type": "code",
      "metadata": {
        "colab": {
          "base_uri": "https://localhost:8080/",
          "height": 385
        },
        "id": "rAzzmuN-rK2d",
        "outputId": "3cdc14c3-043f-41e7-be4d-23eb315a1a9f"
      },
      "source": [
        "import matplotlib.pyplot as plt\r\n",
        "\r\n",
        "\r\n",
        "plt.figure(figsize=(9, 6))\r\n",
        "plt.boxplot([DF[DF.customerType == 'Offline'].totalOrder,\r\n",
        "             DF[DF.customerType == 'Online'].totalOrder],\r\n",
        "            labels = ['Offline', 'Online'])\r\n",
        "plt.show()"
      ],
      "execution_count": 19,
      "outputs": [
        {
          "output_type": "display_data",
          "data": {
            "image/png": "[encoded data removed]",
            "text/plain": [
              "<Figure size 648x432 with 1 Axes>"
            ]
          },
          "metadata": {
            "tags": [],
            "needs_background": "light"
          }
        }
      ]
    },
    {
      "cell_type": "code",
      "metadata": {
        "colab": {
          "base_uri": "https://localhost:8080/",
          "height": 385
        },
        "id": "fub8ElDcrKzv",
        "outputId": "d2bec5ef-6462-46a9-da90-631b1dfbfa36"
      },
      "source": [
        "import matplotlib.pyplot as plt\r\n",
        "\r\n",
        "\r\n",
        "plt.figure(figsize=(9, 6))\r\n",
        "plt.boxplot([DF[DF.customerType == 'Offline'].totalBundle,\r\n",
        "             DF[DF.customerType == 'Online'].totalBundle],\r\n",
        "            labels = ['Offline', 'Online'])\r\n",
        "plt.show()"
      ],
      "execution_count": 8,
      "outputs": [
        {
          "output_type": "display_data",
          "data": {
            "image/png": "[encoded data removed]",
            "text/plain": [
              "<Figure size 648x432 with 1 Axes>"
            ]
          },
          "metadata": {
            "tags": [],
            "needs_background": "light"
          }
        }
      ]
    },
    {
      "cell_type": "code",
      "metadata": {
        "colab": {
          "base_uri": "https://localhost:8080/",
          "height": 374
        },
        "id": "MAyLQDcW1ebh",
        "outputId": "707e4fc3-6c93-47d9-f0c8-3c8226b73152"
      },
      "source": [
        "plt.figure(figsize=(9, 6))\r\n",
        "plt.boxplot([DF[DF.customerType == 'Offline'].meanPriceEach,\r\n",
        "             DF[DF.customerType == 'Online'].meanPriceEach],\r\n",
        "            labels = ['Offline', 'Online'])\r\n",
        "plt.show()"
      ],
      "execution_count": 107,
      "outputs": [
        {
          "output_type": "display_data",
          "data": {
            "image/png": "[encoded data removed]",
            "text/plain": [
              "<Figure size 648x432 with 1 Axes>"
            ]
          },
          "metadata": {
            "tags": [],
            "needs_background": "light"
          }
        }
      ]
    },
    {
      "cell_type": "markdown",
      "metadata": {
        "id": "e0yNslIZxcqH"
      },
      "source": [
        "## x = totalBundle"
      ]
    },
    {
      "cell_type": "code",
      "metadata": {
        "id": "aYBRq4rYrKq6"
      },
      "source": [
        "X = DF[['totalBundle']]\r\n",
        "y = DF['customerType']"
      ],
      "execution_count": 54,
      "outputs": []
    },
    {
      "cell_type": "code",
      "metadata": {
        "colab": {
          "base_uri": "https://localhost:8080/"
        },
        "id": "w21StMOwrKnj",
        "outputId": "318d3ae5-8a6c-4854-921a-79dcf485ad4f"
      },
      "source": [
        "from sklearn.model_selection import train_test_split\r\n",
        "\r\n",
        "X_train, X_test, y_train, y_test = train_test_split(X, y,\r\n",
        "                                                    test_size=0.3,\r\n",
        "                                                    random_state=2045)\r\n",
        "print(X_train.shape, y_train.shape)\r\n",
        "print(X_test.shape, y_test.shape)"
      ],
      "execution_count": 55,
      "outputs": [
        {
          "output_type": "stream",
          "text": [
            "(10506, 1) (10506,)\n",
            "(4503, 1) (4503,)\n"
          ],
          "name": "stdout"
        }
      ]
    },
    {
      "cell_type": "code",
      "metadata": {
        "colab": {
          "base_uri": "https://localhost:8080/"
        },
        "id": "-TVqLOsrrKk8",
        "outputId": "72566d12-f505-4852-fd73-9d4abe66d234"
      },
      "source": [
        "from sklearn.linear_model import LogisticRegression\r\n",
        "\r\n",
        "model1 = LogisticRegression()\r\n",
        "model1.fit(X_train, y_train)"
      ],
      "execution_count": 56,
      "outputs": [
        {
          "output_type": "execute_result",
          "data": {
            "text/plain": [
              "LogisticRegression(C=1.0, class_weight=None, dual=False, fit_intercept=True,\n",
              "                   intercept_scaling=1, l1_ratio=None, max_iter=100,\n",
              "                   multi_class='auto', n_jobs=None, penalty='l2',\n",
              "                   random_state=None, solver='lbfgs', tol=0.0001, verbose=0,\n",
              "                   warm_start=False)"
            ]
          },
          "metadata": {
            "tags": []
          },
          "execution_count": 56
        }
      ]
    },
    {
      "cell_type": "code",
      "metadata": {
        "colab": {
          "base_uri": "https://localhost:8080/"
        },
        "id": "19b-Hxi0rKhs",
        "outputId": "ef6cf7c8-e42b-432c-b000-bb7e1b3633b3"
      },
      "source": [
        "y_hat1 = model1.predict(X_test)\r\n",
        "\r\n",
        "print(y_hat1)"
      ],
      "execution_count": 57,
      "outputs": [
        {
          "output_type": "stream",
          "text": [
            "['Online' 'Offline' 'Offline' ... 'Offline' 'Online' 'Offline']\n"
          ],
          "name": "stdout"
        }
      ]
    },
    {
      "cell_type": "code",
      "metadata": {
        "colab": {
          "base_uri": "https://localhost:8080/"
        },
        "id": "SUyLoiZdrKes",
        "outputId": "94e377bb-ba71-4e1b-f844-5dd94f5796b3"
      },
      "source": [
        "from sklearn.metrics import confusion_matrix\r\n",
        "\r\n",
        "confusion_matrix(y_test, y_hat1)"
      ],
      "execution_count": 58,
      "outputs": [
        {
          "output_type": "execute_result",
          "data": {
            "text/plain": [
              "array([[1720,  507],\n",
              "       [ 198, 2078]])"
            ]
          },
          "metadata": {
            "tags": []
          },
          "execution_count": 58
        }
      ]
    },
    {
      "cell_type": "code",
      "metadata": {
        "colab": {
          "base_uri": "https://localhost:8080/"
        },
        "id": "vCkjSKzlrKan",
        "outputId": "70e99c66-7688-4227-9524-21f095471e81"
      },
      "source": [
        "from sklearn.metrics import accuracy_score\r\n",
        "\r\n",
        "accuracy_score1 = accuracy_score(y_test, y_hat1)\r\n",
        "print(accuracy_score1)"
      ],
      "execution_count": 99,
      "outputs": [
        {
          "output_type": "stream",
          "text": [
            "0.843437708194537\n"
          ],
          "name": "stdout"
        }
      ]
    },
    {
      "cell_type": "code",
      "metadata": {
        "colab": {
          "base_uri": "https://localhost:8080/"
        },
        "id": "REeuVz5frKXI",
        "outputId": "8bdd72de-7b59-47ed-f072-410f40cd14dc"
      },
      "source": [
        "from sklearn.metrics import f1_score\r\n",
        "\r\n",
        "f1_score(y_test, y_hat1, pos_label='Online')"
      ],
      "execution_count": 60,
      "outputs": [
        {
          "output_type": "execute_result",
          "data": {
            "text/plain": [
              "0.8549681135568813"
            ]
          },
          "metadata": {
            "tags": []
          },
          "execution_count": 60
        }
      ]
    },
    {
      "cell_type": "code",
      "metadata": {
        "colab": {
          "base_uri": "https://localhost:8080/"
        },
        "id": "6xkQ3cP8xAUu",
        "outputId": "eeb0f88b-bd1f-48bf-bbef-3af06154e3e5"
      },
      "source": [
        "from sklearn.metrics import f1_score\r\n",
        "\r\n",
        "f1_score(y_test, y_hat1, pos_label='Offline')"
      ],
      "execution_count": 61,
      "outputs": [
        {
          "output_type": "execute_result",
          "data": {
            "text/plain": [
              "0.8299155609167671"
            ]
          },
          "metadata": {
            "tags": []
          },
          "execution_count": 61
        }
      ]
    },
    {
      "cell_type": "markdown",
      "metadata": {
        "id": "iAOMRynrxqDx"
      },
      "source": [
        "## x = meanPriceEach"
      ]
    },
    {
      "cell_type": "code",
      "metadata": {
        "id": "_KvVLYQKxqD6"
      },
      "source": [
        "X = DF[['meanPriceEach']]\r\n",
        "y = DF['customerType']"
      ],
      "execution_count": 41,
      "outputs": []
    },
    {
      "cell_type": "code",
      "metadata": {
        "colab": {
          "base_uri": "https://localhost:8080/"
        },
        "id": "EmCBtKMDxqD7",
        "outputId": "bf384aac-d119-4aca-ebdb-ee14fc3bf14b"
      },
      "source": [
        "from sklearn.model_selection import train_test_split\r\n",
        "\r\n",
        "X_train, X_test, y_train, y_test = train_test_split(X, y,\r\n",
        "                                                    test_size=0.3,\r\n",
        "                                                    random_state=2045)\r\n",
        "print(X_train.shape, y_train.shape)\r\n",
        "print(X_test.shape, y_test.shape)"
      ],
      "execution_count": 42,
      "outputs": [
        {
          "output_type": "stream",
          "text": [
            "(10506, 1) (10506,)\n",
            "(4503, 1) (4503,)\n"
          ],
          "name": "stdout"
        }
      ]
    },
    {
      "cell_type": "code",
      "metadata": {
        "colab": {
          "base_uri": "https://localhost:8080/"
        },
        "id": "1wxrtbORxqD8",
        "outputId": "b6a37339-ea72-4e3f-cec6-8b9310282792"
      },
      "source": [
        "from sklearn.linear_model import LogisticRegression\r\n",
        "\r\n",
        "model2 = LogisticRegression()\r\n",
        "model2.fit(X_train, y_train)"
      ],
      "execution_count": 43,
      "outputs": [
        {
          "output_type": "execute_result",
          "data": {
            "text/plain": [
              "LogisticRegression(C=1.0, class_weight=None, dual=False, fit_intercept=True,\n",
              "                   intercept_scaling=1, l1_ratio=None, max_iter=100,\n",
              "                   multi_class='auto', n_jobs=None, penalty='l2',\n",
              "                   random_state=None, solver='lbfgs', tol=0.0001, verbose=0,\n",
              "                   warm_start=False)"
            ]
          },
          "metadata": {
            "tags": []
          },
          "execution_count": 43
        }
      ]
    },
    {
      "cell_type": "code",
      "metadata": {
        "colab": {
          "base_uri": "https://localhost:8080/"
        },
        "id": "59_YCH39xqD9",
        "outputId": "706ce1c2-4ab5-4f27-a8bc-32e146e40f19"
      },
      "source": [
        "y_hat2 = model2.predict(X_test)\r\n",
        "\r\n",
        "print(y_hat2)"
      ],
      "execution_count": 44,
      "outputs": [
        {
          "output_type": "stream",
          "text": [
            "['Online' 'Offline' 'Offline' ... 'Offline' 'Online' 'Offline']\n"
          ],
          "name": "stdout"
        }
      ]
    },
    {
      "cell_type": "code",
      "metadata": {
        "colab": {
          "base_uri": "https://localhost:8080/"
        },
        "id": "JWAJrnGhxqD-",
        "outputId": "50ba8987-1b6b-44b6-9b98-eef36580f76b"
      },
      "source": [
        "from sklearn.metrics import confusion_matrix\r\n",
        "\r\n",
        "confusion_matrix(y_test, y_hat2)"
      ],
      "execution_count": 45,
      "outputs": [
        {
          "output_type": "execute_result",
          "data": {
            "text/plain": [
              "array([[1806,  421],\n",
              "       [ 454, 1822]])"
            ]
          },
          "metadata": {
            "tags": []
          },
          "execution_count": 45
        }
      ]
    },
    {
      "cell_type": "code",
      "metadata": {
        "colab": {
          "base_uri": "https://localhost:8080/"
        },
        "id": "3TbuuEPqxqD_",
        "outputId": "f1026f5a-2692-4a9a-e49b-9404e45414f2"
      },
      "source": [
        "from sklearn.metrics import accuracy_score\r\n",
        "\r\n",
        "accuracy_score2 = accuracy_score(y_test, y_hat2)\r\n",
        "print(accuracy_score2)"
      ],
      "execution_count": 100,
      "outputs": [
        {
          "output_type": "stream",
          "text": [
            "0.8056850988230069\n"
          ],
          "name": "stdout"
        }
      ]
    },
    {
      "cell_type": "code",
      "metadata": {
        "colab": {
          "base_uri": "https://localhost:8080/"
        },
        "id": "-Kkzte-WxqEA",
        "outputId": "f2981d06-62f3-4557-e777-4888b14bceed"
      },
      "source": [
        "from sklearn.metrics import f1_score\r\n",
        "\r\n",
        "f1_score(y_test, y_hat2, pos_label='Online')"
      ],
      "execution_count": 47,
      "outputs": [
        {
          "output_type": "execute_result",
          "data": {
            "text/plain": [
              "0.8063730913919008"
            ]
          },
          "metadata": {
            "tags": []
          },
          "execution_count": 47
        }
      ]
    },
    {
      "cell_type": "code",
      "metadata": {
        "colab": {
          "base_uri": "https://localhost:8080/"
        },
        "id": "9uAx9I--xqEA",
        "outputId": "1898a6ab-e3ac-4ca9-e6a6-a5ee21213435"
      },
      "source": [
        "from sklearn.metrics import f1_score\r\n",
        "\r\n",
        "f1_score(y_test, y_hat2, pos_label='Offline')"
      ],
      "execution_count": 48,
      "outputs": [
        {
          "output_type": "execute_result",
          "data": {
            "text/plain": [
              "0.8049921996879874"
            ]
          },
          "metadata": {
            "tags": []
          },
          "execution_count": 48
        }
      ]
    },
    {
      "cell_type": "markdown",
      "metadata": {
        "id": "j8FB_-znyTmr"
      },
      "source": [
        "## x = totalBundle, totalOrder"
      ]
    },
    {
      "cell_type": "code",
      "metadata": {
        "id": "IPSByVk9yTmt"
      },
      "source": [
        "X = DF[['totalBundle', 'totalOrder']]\r\n",
        "y = DF['customerType']"
      ],
      "execution_count": 85,
      "outputs": []
    },
    {
      "cell_type": "code",
      "metadata": {
        "colab": {
          "base_uri": "https://localhost:8080/"
        },
        "id": "XRfUmjjtyTmu",
        "outputId": "6f448121-e5fb-4ac0-ba23-31eaf5dbf728"
      },
      "source": [
        "from sklearn.model_selection import train_test_split\r\n",
        "\r\n",
        "X_train, X_test, y_train, y_test = train_test_split(X, y,\r\n",
        "                                                    test_size=0.3,\r\n",
        "                                                    random_state=2045)\r\n",
        "print(X_train.shape, y_train.shape)\r\n",
        "print(X_test.shape, y_test.shape)"
      ],
      "execution_count": 86,
      "outputs": [
        {
          "output_type": "stream",
          "text": [
            "(10506, 2) (10506,)\n",
            "(4503, 2) (4503,)\n"
          ],
          "name": "stdout"
        }
      ]
    },
    {
      "cell_type": "code",
      "metadata": {
        "colab": {
          "base_uri": "https://localhost:8080/"
        },
        "id": "8Y7rEIIEyTmw",
        "outputId": "d234aa41-75cb-4070-ded3-83bcc5e88d1f"
      },
      "source": [
        "from sklearn.linear_model import LogisticRegression\r\n",
        "\r\n",
        "model3 = LogisticRegression()\r\n",
        "model3.fit(X_train, y_train)"
      ],
      "execution_count": 87,
      "outputs": [
        {
          "output_type": "execute_result",
          "data": {
            "text/plain": [
              "LogisticRegression(C=1.0, class_weight=None, dual=False, fit_intercept=True,\n",
              "                   intercept_scaling=1, l1_ratio=None, max_iter=100,\n",
              "                   multi_class='auto', n_jobs=None, penalty='l2',\n",
              "                   random_state=None, solver='lbfgs', tol=0.0001, verbose=0,\n",
              "                   warm_start=False)"
            ]
          },
          "metadata": {
            "tags": []
          },
          "execution_count": 87
        }
      ]
    },
    {
      "cell_type": "code",
      "metadata": {
        "colab": {
          "base_uri": "https://localhost:8080/"
        },
        "id": "vSiGL8t0yTmy",
        "outputId": "c9ea8ae1-6d3f-4eb1-af45-b2a3781d42c3"
      },
      "source": [
        "y_hat3 = model3.predict(X_test)\r\n",
        "\r\n",
        "print(y_hat3)"
      ],
      "execution_count": 88,
      "outputs": [
        {
          "output_type": "stream",
          "text": [
            "['Offline' 'Offline' 'Offline' ... 'Offline' 'Online' 'Online']\n"
          ],
          "name": "stdout"
        }
      ]
    },
    {
      "cell_type": "code",
      "metadata": {
        "colab": {
          "base_uri": "https://localhost:8080/"
        },
        "id": "Kp68qfh9yTmz",
        "outputId": "067e3596-638c-4523-ffa4-81aab2d15f19"
      },
      "source": [
        "from sklearn.metrics import confusion_matrix\r\n",
        "\r\n",
        "confusion_matrix(y_test, y_hat3)"
      ],
      "execution_count": 89,
      "outputs": [
        {
          "output_type": "execute_result",
          "data": {
            "text/plain": [
              "array([[2197,   30],\n",
              "       [1527,  749]])"
            ]
          },
          "metadata": {
            "tags": []
          },
          "execution_count": 89
        }
      ]
    },
    {
      "cell_type": "code",
      "metadata": {
        "colab": {
          "base_uri": "https://localhost:8080/"
        },
        "id": "veAWWn86yTm0",
        "outputId": "660415e9-1177-44e3-b4b6-156f87f73ae4"
      },
      "source": [
        "from sklearn.metrics import accuracy_score\r\n",
        "\r\n",
        "accuracy_score3 = accuracy_score(y_test, y_hat3)\r\n",
        "print(accuracy_score3)"
      ],
      "execution_count": 101,
      "outputs": [
        {
          "output_type": "stream",
          "text": [
            "0.654230512991339\n"
          ],
          "name": "stdout"
        }
      ]
    },
    {
      "cell_type": "code",
      "metadata": {
        "colab": {
          "base_uri": "https://localhost:8080/"
        },
        "id": "fd2dgzR8yTm1",
        "outputId": "2237435a-5677-437f-b174-6d8ad4725127"
      },
      "source": [
        "from sklearn.metrics import f1_score\r\n",
        "\r\n",
        "f1_score(y_test, y_hat3, pos_label='Online')"
      ],
      "execution_count": 91,
      "outputs": [
        {
          "output_type": "execute_result",
          "data": {
            "text/plain": [
              "0.4903436988543371"
            ]
          },
          "metadata": {
            "tags": []
          },
          "execution_count": 91
        }
      ]
    },
    {
      "cell_type": "code",
      "metadata": {
        "colab": {
          "base_uri": "https://localhost:8080/"
        },
        "id": "evAfRFYNyTm2",
        "outputId": "1a9e382b-70d6-44b9-9012-e9b5bb51e340"
      },
      "source": [
        "from sklearn.metrics import f1_score\r\n",
        "\r\n",
        "f1_score(y_test, y_hat3, pos_label='Offline')"
      ],
      "execution_count": 92,
      "outputs": [
        {
          "output_type": "execute_result",
          "data": {
            "text/plain": [
              "0.7383633002856662"
            ]
          },
          "metadata": {
            "tags": []
          },
          "execution_count": 92
        }
      ]
    },
    {
      "cell_type": "code",
      "metadata": {
        "colab": {
          "base_uri": "https://localhost:8080/"
        },
        "id": "J6MPlVmxzqMJ",
        "outputId": "036a44ee-4baf-4196-ad28-9811679de8c3"
      },
      "source": [
        "print('accuracy_score1 : ', accuracy_score1)\r\n",
        "print('accuracy_score2 : ', accuracy_score2)\r\n",
        "print('accuracy_score3 : ', accuracy_score3)"
      ],
      "execution_count": 103,
      "outputs": [
        {
          "output_type": "stream",
          "text": [
            "accuracy_score1 :  0.843437708194537\n",
            "accuracy_score2 :  0.8056850988230069\n",
            "accuracy_score3 :  0.654230512991339\n"
          ],
          "name": "stdout"
        }
      ]
    }
  ]
}