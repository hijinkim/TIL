{
  "nbformat": 4,
  "nbformat_minor": 0,
  "metadata": {
    "colab": {
      "name": "product_RF_김희진.ipynb",
      "provenance": []
    },
    "kernelspec": {
      "name": "python3",
      "display_name": "Python 3"
    }
  },
  "cells": [
    {
      "cell_type": "code",
      "metadata": {
        "id": "G3l86wJ_Dq2Y"
      },
      "source": [
        "import warnings\r\n",
        "warnings.filterwarnings('ignore')"
      ],
      "execution_count": 1,
      "outputs": []
    },
    {
      "cell_type": "code",
      "metadata": {
        "colab": {
          "base_uri": "https://localhost:8080/"
        },
        "id": "jEqWKlN2EV8r",
        "outputId": "bea78cc9-e5ea-459d-891d-06c011204168"
      },
      "source": [
        "import pandas as pd\r\n",
        "\r\n",
        "DF = pd.read_csv('https://raw.githubusercontent.com/rusita-ai/pyData/master/product.csv')\r\n",
        "\r\n",
        "DF.info()"
      ],
      "execution_count": 2,
      "outputs": [
        {
          "output_type": "stream",
          "text": [
            "<class 'pandas.core.frame.DataFrame'>\n",
            "RangeIndex: 15009 entries, 0 to 15008\n",
            "Data columns (total 12 columns):\n",
            " #   Column         Non-Null Count  Dtype  \n",
            "---  ------         --------------  -----  \n",
            " 0   Date           15009 non-null  object \n",
            " 1   meanPriceEach  15009 non-null  float64\n",
            " 2   totalOrder     15009 non-null  float64\n",
            " 3   orderType_1    15009 non-null  float64\n",
            " 4   orderType_2    15009 non-null  float64\n",
            " 5   orderType_3    15009 non-null  float64\n",
            " 6   totalBundle    15009 non-null  float64\n",
            " 7   bundleType_1   15009 non-null  float64\n",
            " 8   bundleType_2   15009 non-null  float64\n",
            " 9   customerType   15009 non-null  object \n",
            " 10  FY             15009 non-null  int64  \n",
            " 11  Country        15009 non-null  int64  \n",
            "dtypes: float64(8), int64(2), object(2)\n",
            "memory usage: 1.4+ MB\n"
          ],
          "name": "stdout"
        }
      ]
    },
    {
      "cell_type": "markdown",
      "metadata": {
        "id": "-CKE1NE_Np0d"
      },
      "source": [
        "## Random Forest Modeling"
      ]
    },
    {
      "cell_type": "code",
      "metadata": {
        "id": "oCjRSy5dEV5g"
      },
      "source": [
        "X = DF[['meanPriceEach', 'totalOrder', 'orderType_1', 'orderType_2', 'orderType_3',\r\n",
        "        'totalBundle', 'bundleType_1', 'bundleType_2', 'FY', 'Country']]\r\n",
        "y = DF['customerType']"
      ],
      "execution_count": 3,
      "outputs": []
    },
    {
      "cell_type": "code",
      "metadata": {
        "colab": {
          "base_uri": "https://localhost:8080/"
        },
        "id": "-C6976CLEV28",
        "outputId": "a0838c4f-d6bc-4f0c-94c7-4184eb33b1e3"
      },
      "source": [
        "from sklearn.model_selection import train_test_split\r\n",
        "\r\n",
        "X_train, X_test, y_train, y_test = train_test_split(X, y,\r\n",
        "                                                    test_size=0.3,\r\n",
        "                                                    random_state=2045)\r\n",
        "\r\n",
        "print(f'Train Data : {X_train.shape}, {y_train.shape}')\r\n",
        "print(f'Test Data : {X_test.shape}, {y_test.shape}')"
      ],
      "execution_count": 4,
      "outputs": [
        {
          "output_type": "stream",
          "text": [
            "Train Data : (10506, 10), (10506,)\n",
            "Test Data : (4503, 10), (4503,)\n"
          ],
          "name": "stdout"
        }
      ]
    },
    {
      "cell_type": "code",
      "metadata": {
        "colab": {
          "base_uri": "https://localhost:8080/"
        },
        "id": "LG9ehy7cEV0S",
        "outputId": "8ed6b058-f3cd-4180-870f-5ede070e3e17"
      },
      "source": [
        "from sklearn.ensemble import RandomForestClassifier\r\n",
        "\r\n",
        "model_rf = RandomForestClassifier(n_estimators=10,\r\n",
        "                                  max_features=10,\r\n",
        "                                  random_state=2045,\r\n",
        "                                  n_jobs=-1)\r\n",
        "model_rf.fit(X_train, y_train)"
      ],
      "execution_count": 5,
      "outputs": [
        {
          "output_type": "execute_result",
          "data": {
            "text/plain": [
              "RandomForestClassifier(bootstrap=True, ccp_alpha=0.0, class_weight=None,\n",
              "                       criterion='gini', max_depth=None, max_features=10,\n",
              "                       max_leaf_nodes=None, max_samples=None,\n",
              "                       min_impurity_decrease=0.0, min_impurity_split=None,\n",
              "                       min_samples_leaf=1, min_samples_split=2,\n",
              "                       min_weight_fraction_leaf=0.0, n_estimators=10, n_jobs=-1,\n",
              "                       oob_score=False, random_state=2045, verbose=0,\n",
              "                       warm_start=False)"
            ]
          },
          "metadata": {
            "tags": []
          },
          "execution_count": 5
        }
      ]
    },
    {
      "cell_type": "code",
      "metadata": {
        "colab": {
          "base_uri": "https://localhost:8080/"
        },
        "id": "EKPjAJvhEVxN",
        "outputId": "b4350d95-75ad-45c1-dec6-c205dbb0b72b"
      },
      "source": [
        "y_hat_rf = model_rf.predict(X_test)\r\n",
        "\r\n",
        "print(y_hat_rf)"
      ],
      "execution_count": 7,
      "outputs": [
        {
          "output_type": "stream",
          "text": [
            "['Online' 'Offline' 'Offline' ... 'Offline' 'Online' 'Online']\n"
          ],
          "name": "stdout"
        }
      ]
    },
    {
      "cell_type": "code",
      "metadata": {
        "colab": {
          "base_uri": "https://localhost:8080/"
        },
        "id": "hr2K5qlQEVun",
        "outputId": "59b7b7cc-8fcf-45c4-c2d8-1fb9386b0b2e"
      },
      "source": [
        "from sklearn.metrics import confusion_matrix, accuracy_score\r\n",
        "\r\n",
        "print(confusion_matrix(y_test, y_hat_rf))"
      ],
      "execution_count": 9,
      "outputs": [
        {
          "output_type": "stream",
          "text": [
            "[[2220    7]\n",
            " [  40 2236]]\n"
          ],
          "name": "stdout"
        }
      ]
    },
    {
      "cell_type": "code",
      "metadata": {
        "colab": {
          "base_uri": "https://localhost:8080/"
        },
        "id": "sUhB7IFSEVrx",
        "outputId": "75816b58-720d-44af-cc32-f0c40163d58e"
      },
      "source": [
        "accuracy_score_rf = accuracy_score(y_test, y_hat_rf)\r\n",
        "\r\n",
        "print(accuracy_score_rf)"
      ],
      "execution_count": 10,
      "outputs": [
        {
          "output_type": "stream",
          "text": [
            "0.9895625138796358\n"
          ],
          "name": "stdout"
        }
      ]
    },
    {
      "cell_type": "code",
      "metadata": {
        "colab": {
          "base_uri": "https://localhost:8080/"
        },
        "id": "6GtAoJvxEVof",
        "outputId": "b62067b9-0424-460c-b61c-416e72f2c837"
      },
      "source": [
        "model_rf.feature_importances_"
      ],
      "execution_count": 11,
      "outputs": [
        {
          "output_type": "execute_result",
          "data": {
            "text/plain": [
              "array([0.03579323, 0.72754329, 0.04130349, 0.02773218, 0.08065363,\n",
              "       0.00365065, 0.00939165, 0.00744604, 0.00079706, 0.06568878])"
            ]
          },
          "metadata": {
            "tags": []
          },
          "execution_count": 11
        }
      ]
    },
    {
      "cell_type": "code",
      "metadata": {
        "colab": {
          "base_uri": "https://localhost:8080/",
          "height": 374
        },
        "id": "-O91TWoGIAx0",
        "outputId": "bea51f1c-4763-420c-ca66-26dd75e55e0c"
      },
      "source": [
        "import matplotlib.pyplot as plt\r\n",
        "import seaborn as sns\r\n",
        "\r\n",
        "plt.figure(figsize=(9, 6))\r\n",
        "sns.barplot(model_rf.feature_importances_,\r\n",
        "            ['meanPriceEach', 'totalOrder', 'orderType_1', 'orderType_2', 'orderType_3',\r\n",
        "             'totalBundle', 'bundleType_1', 'bundleType_2', 'FY', 'Country'])\r\n",
        "plt.show()"
      ],
      "execution_count": 22,
      "outputs": [
        {
          "output_type": "display_data",
          "data": {
            "image/png": "[encoded data removed]",
            "text/plain": [
              "<Figure size 648x432 with 1 Axes>"
            ]
          },
          "metadata": {
            "tags": [],
            "needs_background": "light"
          }
        }
      ]
    },
    {
      "cell_type": "markdown",
      "metadata": {
        "id": "rMCiIrY2NxVS"
      },
      "source": [
        "## GridSearchCV"
      ]
    },
    {
      "cell_type": "code",
      "metadata": {
        "id": "qgPDcPoPEVjL"
      },
      "source": [
        "from sklearn.ensemble import RandomForestClassifier\r\n",
        "\r\n",
        "model_rf2 = RandomForestClassifier()"
      ],
      "execution_count": 23,
      "outputs": []
    },
    {
      "cell_type": "code",
      "metadata": {
        "id": "CCBXBW-lEVgW"
      },
      "source": [
        "params = {'n_estimators':[100, 300, 500],\r\n",
        "          'max_features':[5, 10],\r\n",
        "          'max_depth':[7, 15],\r\n",
        "          'random_state':[2045]}"
      ],
      "execution_count": 32,
      "outputs": []
    },
    {
      "cell_type": "code",
      "metadata": {
        "id": "Ru6t4dU0EVdl"
      },
      "source": [
        "from sklearn.model_selection import GridSearchCV, KFold\r\n",
        "\r\n",
        "grid_cv = GridSearchCV(model_rf2,\r\n",
        "                       param_grid=params,\r\n",
        "                       scoring='accuracy',\r\n",
        "                       cv=KFold(n_splits=5,\r\n",
        "                                random_state=2045),\r\n",
        "                       refit=True,\r\n",
        "                       n_jobs=-1)"
      ],
      "execution_count": 33,
      "outputs": []
    },
    {
      "cell_type": "code",
      "metadata": {
        "colab": {
          "base_uri": "https://localhost:8080/"
        },
        "id": "DuPPwM9uJnGS",
        "outputId": "257488b3-7244-487a-e821-fd29d2afba84"
      },
      "source": [
        "from datetime import datetime\r\n",
        "\r\n",
        "start_time = datetime.now()\r\n",
        "\r\n",
        "grid_cv.fit(X_train, y_train)\r\n",
        "\r\n",
        "end_time = datetime.now()\r\n",
        "print(f'Elapsed Time : {end_time - start_time}')"
      ],
      "execution_count": 34,
      "outputs": [
        {
          "output_type": "stream",
          "text": [
            "Elapsed Time : 0:06:08.658995\n"
          ],
          "name": "stdout"
        }
      ]
    },
    {
      "cell_type": "code",
      "metadata": {
        "colab": {
          "base_uri": "https://localhost:8080/"
        },
        "id": "EfuvPbJVM_JC",
        "outputId": "9989b629-3cd7-494c-b3a0-07e60b0713e0"
      },
      "source": [
        "grid_cv.best_score_"
      ],
      "execution_count": 35,
      "outputs": [
        {
          "output_type": "execute_result",
          "data": {
            "text/plain": [
              "0.996573377454712"
            ]
          },
          "metadata": {
            "tags": []
          },
          "execution_count": 35
        }
      ]
    },
    {
      "cell_type": "code",
      "metadata": {
        "colab": {
          "base_uri": "https://localhost:8080/"
        },
        "id": "DRuFoXbXNB_e",
        "outputId": "893bfc6a-386f-4096-e797-301c4d095bc9"
      },
      "source": [
        "grid_cv.best_params_"
      ],
      "execution_count": 36,
      "outputs": [
        {
          "output_type": "execute_result",
          "data": {
            "text/plain": [
              "{'max_depth': 15, 'max_features': 5, 'n_estimators': 500, 'random_state': 2045}"
            ]
          },
          "metadata": {
            "tags": []
          },
          "execution_count": 36
        }
      ]
    },
    {
      "cell_type": "code",
      "metadata": {
        "id": "k3SxxNwPNDY4"
      },
      "source": [
        "model_cv = grid_cv.best_estimator_"
      ],
      "execution_count": 37,
      "outputs": []
    },
    {
      "cell_type": "code",
      "metadata": {
        "id": "FcwLtE1ZNGsx"
      },
      "source": [
        "y_hat_cv = model_cv.predict(X_test)"
      ],
      "execution_count": 38,
      "outputs": []
    },
    {
      "cell_type": "code",
      "metadata": {
        "colab": {
          "base_uri": "https://localhost:8080/"
        },
        "id": "bYmTxeZ1NK1Z",
        "outputId": "2bdd720f-e405-4e47-f390-7521659b13b4"
      },
      "source": [
        "from sklearn.metrics import confusion_matrix, accuracy_score\r\n",
        "\r\n",
        "print(confusion_matrix(y_test, y_hat_cv))"
      ],
      "execution_count": 39,
      "outputs": [
        {
          "output_type": "stream",
          "text": [
            "[[2220    7]\n",
            " [  24 2252]]\n"
          ],
          "name": "stdout"
        }
      ]
    },
    {
      "cell_type": "code",
      "metadata": {
        "colab": {
          "base_uri": "https://localhost:8080/"
        },
        "id": "HNb5JzlaNOy-",
        "outputId": "fdda076a-2b30-4728-ecf8-e6df174ee194"
      },
      "source": [
        "accuracy_score_cv = accuracy_score(y_test, y_hat_cv)\r\n",
        "\r\n",
        "print(accuracy_score_cv)"
      ],
      "execution_count": 40,
      "outputs": [
        {
          "output_type": "stream",
          "text": [
            "0.9931157006440151\n"
          ],
          "name": "stdout"
        }
      ]
    },
    {
      "cell_type": "markdown",
      "metadata": {
        "id": "VUlIKXQGOi3q"
      },
      "source": [
        "## Logistic Regression"
      ]
    },
    {
      "cell_type": "code",
      "metadata": {
        "id": "2M5Kyo6eOlSZ"
      },
      "source": [
        "X = DF[['meanPriceEach', 'totalOrder', 'orderType_1', 'orderType_2', 'orderType_3',\r\n",
        "        'totalBundle', 'bundleType_1', 'bundleType_2', 'FY', 'Country']]\r\n",
        "y = DF['customerType']"
      ],
      "execution_count": 41,
      "outputs": []
    },
    {
      "cell_type": "code",
      "metadata": {
        "colab": {
          "base_uri": "https://localhost:8080/"
        },
        "id": "Sv_y7ZMtOlo1",
        "outputId": "efa4dd60-0824-4945-8f70-fa288bf1209b"
      },
      "source": [
        "from sklearn.model_selection import train_test_split\r\n",
        "\r\n",
        "X_train, X_test, y_train, y_test = train_test_split(X, y,\r\n",
        "                                                    test_size=0.3,\r\n",
        "                                                    random_state=2045)\r\n",
        "print(X_train.shape, y_train.shape)\r\n",
        "print(X_test.shape, y_test.shape)"
      ],
      "execution_count": 42,
      "outputs": [
        {
          "output_type": "stream",
          "text": [
            "(10506, 10) (10506,)\n",
            "(4503, 10) (4503,)\n"
          ],
          "name": "stdout"
        }
      ]
    },
    {
      "cell_type": "code",
      "metadata": {
        "colab": {
          "base_uri": "https://localhost:8080/"
        },
        "id": "XwaHe-ktOlla",
        "outputId": "e1ba8971-efa1-4ea9-960c-49e7f93fca3e"
      },
      "source": [
        "from sklearn.linear_model import LogisticRegression\r\n",
        "\r\n",
        "model_lr = LogisticRegression()\r\n",
        "model_lr.fit(X_train, y_train)"
      ],
      "execution_count": 44,
      "outputs": [
        {
          "output_type": "execute_result",
          "data": {
            "text/plain": [
              "LogisticRegression(C=1.0, class_weight=None, dual=False, fit_intercept=True,\n",
              "                   intercept_scaling=1, l1_ratio=None, max_iter=100,\n",
              "                   multi_class='auto', n_jobs=None, penalty='l2',\n",
              "                   random_state=None, solver='lbfgs', tol=0.0001, verbose=0,\n",
              "                   warm_start=False)"
            ]
          },
          "metadata": {
            "tags": []
          },
          "execution_count": 44
        }
      ]
    },
    {
      "cell_type": "code",
      "metadata": {
        "colab": {
          "base_uri": "https://localhost:8080/"
        },
        "id": "Lnp0QxFpOlif",
        "outputId": "981db0df-c967-4988-8fd4-12e59b70dc7c"
      },
      "source": [
        "y_hat_lr = model_lr.predict(X_test)\r\n",
        "\r\n",
        "print(y_hat_lr)"
      ],
      "execution_count": 45,
      "outputs": [
        {
          "output_type": "stream",
          "text": [
            "['Online' 'Offline' 'Offline' ... 'Offline' 'Online' 'Online']\n"
          ],
          "name": "stdout"
        }
      ]
    },
    {
      "cell_type": "code",
      "metadata": {
        "colab": {
          "base_uri": "https://localhost:8080/"
        },
        "id": "x6nnnnZGOlfb",
        "outputId": "a5e815fe-a3db-4e60-8eee-c98e46209087"
      },
      "source": [
        "from sklearn.metrics import confusion_matrix\r\n",
        "\r\n",
        "confusion_matrix(y_test, y_hat_lr)"
      ],
      "execution_count": 46,
      "outputs": [
        {
          "output_type": "execute_result",
          "data": {
            "text/plain": [
              "array([[1979,  248],\n",
              "       [  60, 2216]])"
            ]
          },
          "metadata": {
            "tags": []
          },
          "execution_count": 46
        }
      ]
    },
    {
      "cell_type": "code",
      "metadata": {
        "colab": {
          "base_uri": "https://localhost:8080/"
        },
        "id": "f6cqL62hOlbA",
        "outputId": "0cfb59da-8a49-4d37-92cb-10cbe8ce8dcb"
      },
      "source": [
        "from sklearn.metrics import accuracy_score\r\n",
        "\r\n",
        "accuracy_score_lr = accuracy_score(y_test, y_hat_lr)\r\n",
        "print(accuracy_score_lr)"
      ],
      "execution_count": 47,
      "outputs": [
        {
          "output_type": "stream",
          "text": [
            "0.9316011547856984\n"
          ],
          "name": "stdout"
        }
      ]
    },
    {
      "cell_type": "markdown",
      "metadata": {
        "id": "rxI23buyPGUc"
      },
      "source": [
        "## Decision Tree"
      ]
    },
    {
      "cell_type": "code",
      "metadata": {
        "id": "yVxDFTLdOlWJ"
      },
      "source": [
        "X = DF[['totalBundle', 'totalOrder', 'meanPriceEach', 'Country',\r\n",
        "        'orderType_1', 'orderType_2', 'orderType_3',\r\n",
        "        'bundleType_1', 'bundleType_2', 'FY']]\r\n",
        "y = DF['customerType']"
      ],
      "execution_count": 48,
      "outputs": []
    },
    {
      "cell_type": "code",
      "metadata": {
        "colab": {
          "base_uri": "https://localhost:8080/"
        },
        "id": "eQC6OZM7PL3x",
        "outputId": "2f3b1ffc-764d-4198-ae90-a0206dfdf2ae"
      },
      "source": [
        "from sklearn.model_selection import train_test_split\r\n",
        "\r\n",
        "X_train, X_test, y_train, y_test = train_test_split(X, y,\r\n",
        "                                                    test_size=0.3,\r\n",
        "                                                    random_state=2045)\r\n",
        "print(X_train.shape, y_train.shape)\r\n",
        "print(X_test.shape, y_test.shape)"
      ],
      "execution_count": 49,
      "outputs": [
        {
          "output_type": "stream",
          "text": [
            "(10506, 10) (10506,)\n",
            "(4503, 10) (4503,)\n"
          ],
          "name": "stdout"
        }
      ]
    },
    {
      "cell_type": "code",
      "metadata": {
        "colab": {
          "base_uri": "https://localhost:8080/"
        },
        "id": "joyhiKPmPK4a",
        "outputId": "5211ff5b-1de3-4089-c11e-01abd9617834"
      },
      "source": [
        "from sklearn.tree import DecisionTreeClassifier\r\n",
        "\r\n",
        "model_dt = DecisionTreeClassifier(random_state=2045)\r\n",
        "model_dt.fit(X_train, y_train)"
      ],
      "execution_count": 50,
      "outputs": [
        {
          "output_type": "execute_result",
          "data": {
            "text/plain": [
              "DecisionTreeClassifier(ccp_alpha=0.0, class_weight=None, criterion='gini',\n",
              "                       max_depth=None, max_features=None, max_leaf_nodes=None,\n",
              "                       min_impurity_decrease=0.0, min_impurity_split=None,\n",
              "                       min_samples_leaf=1, min_samples_split=2,\n",
              "                       min_weight_fraction_leaf=0.0, presort='deprecated',\n",
              "                       random_state=2045, splitter='best')"
            ]
          },
          "metadata": {
            "tags": []
          },
          "execution_count": 50
        }
      ]
    },
    {
      "cell_type": "code",
      "metadata": {
        "colab": {
          "base_uri": "https://localhost:8080/"
        },
        "id": "Ob-1kbV9PKzX",
        "outputId": "44c6a97e-5323-4d58-f07b-05768ae3aa38"
      },
      "source": [
        "y_hat_dt = model_dt.predict(X_test)\r\n",
        "\r\n",
        "y_hat_dt"
      ],
      "execution_count": 51,
      "outputs": [
        {
          "output_type": "execute_result",
          "data": {
            "text/plain": [
              "array(['Online', 'Offline', 'Offline', ..., 'Offline', 'Online', 'Online'],\n",
              "      dtype=object)"
            ]
          },
          "metadata": {
            "tags": []
          },
          "execution_count": 51
        }
      ]
    },
    {
      "cell_type": "code",
      "metadata": {
        "colab": {
          "base_uri": "https://localhost:8080/"
        },
        "id": "vdWgaZRiPKuV",
        "outputId": "02759773-5310-4b26-82b5-83fd5b70639e"
      },
      "source": [
        "from sklearn.metrics import confusion_matrix\r\n",
        "\r\n",
        "confusion_matrix(y_test, y_hat_dt)"
      ],
      "execution_count": 52,
      "outputs": [
        {
          "output_type": "execute_result",
          "data": {
            "text/plain": [
              "array([[2203,   24],\n",
              "       [  41, 2235]])"
            ]
          },
          "metadata": {
            "tags": []
          },
          "execution_count": 52
        }
      ]
    },
    {
      "cell_type": "code",
      "metadata": {
        "colab": {
          "base_uri": "https://localhost:8080/"
        },
        "id": "sVHZPsX4PY-p",
        "outputId": "b05fa532-982a-4fa9-9b11-469480292f85"
      },
      "source": [
        "from sklearn.metrics import accuracy_score\r\n",
        "\r\n",
        "accuracy_score_dt = accuracy_score(y_test, y_hat_dt)\r\n",
        "print(accuracy_score_dt)"
      ],
      "execution_count": 53,
      "outputs": [
        {
          "output_type": "stream",
          "text": [
            "0.9855651787697091\n"
          ],
          "name": "stdout"
        }
      ]
    },
    {
      "cell_type": "markdown",
      "metadata": {
        "id": "Yrd_dTUlPgWF"
      },
      "source": [
        "## 비교"
      ]
    },
    {
      "cell_type": "code",
      "metadata": {
        "colab": {
          "base_uri": "https://localhost:8080/"
        },
        "id": "h60ufsugNfBS",
        "outputId": "ab207364-d987-4087-8f27-ed9a6e3e22ac"
      },
      "source": [
        "print(f'LogisticRegression Accuracy : {accuracy_score_lr:.3f}')\r\n",
        "print(f'DecisionTree Accuracy : {accuracy_score_dt:.3f}')\r\n",
        "print(f'RandomForest Accuracy : {accuracy_score_rf:.3f}')"
      ],
      "execution_count": 54,
      "outputs": [
        {
          "output_type": "stream",
          "text": [
            "LogisticRegression Accuracy : 0.932\n",
            "DecisionTree Accuracy : 0.986\n",
            "RandomForest Accuracy : 0.990\n"
          ],
          "name": "stdout"
        }
      ]
    }
  ]
}