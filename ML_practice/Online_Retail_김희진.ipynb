{
  "nbformat": 4,
  "nbformat_minor": 0,
  "metadata": {
    "colab": {
      "name": "Online_Retail_김희진.ipynb",
      "provenance": []
    },
    "kernelspec": {
      "name": "python3",
      "display_name": "Python 3"
    }
  },
  "cells": [
    {
      "cell_type": "code",
      "metadata": {
        "id": "ZD6sfoMwqMv1"
      },
      "source": [
        "import warnings\r\n",
        "warnings.filterwarnings('ignore')"
      ],
      "execution_count": 218,
      "outputs": []
    },
    {
      "cell_type": "code",
      "metadata": {
        "id": "o9g9jpRzqz66"
      },
      "source": [
        "import matplotlib.pyplot as plt\r\n",
        "import numpy as np\r\n",
        "import pandas as pd\r\n",
        "import seaborn as sns"
      ],
      "execution_count": 219,
      "outputs": []
    },
    {
      "cell_type": "code",
      "metadata": {
        "colab": {
          "base_uri": "https://localhost:8080/"
        },
        "id": "zta854WDqz39",
        "outputId": "e51b5335-21f9-4732-d7c6-ea560dd96787"
      },
      "source": [
        "from google.colab import drive\r\n",
        "\r\n",
        "drive.mount('/content/drive')"
      ],
      "execution_count": 220,
      "outputs": [
        {
          "output_type": "stream",
          "text": [
            "Drive already mounted at /content/drive; to attempt to forcibly remount, call drive.mount(\"/content/drive\", force_remount=True).\n"
          ],
          "name": "stdout"
        }
      ]
    },
    {
      "cell_type": "code",
      "metadata": {
        "colab": {
          "base_uri": "https://localhost:8080/"
        },
        "id": "7ytOB-Ynqz0a",
        "outputId": "4905b277-c4ea-4fbe-b47a-7a3339f30105"
      },
      "source": [
        "!ls -l '/content/drive/My Drive/Colab Notebooks/datasets/Online_Retail.zip'"
      ],
      "execution_count": 221,
      "outputs": [
        {
          "output_type": "stream",
          "text": [
            "-rw------- 1 root root 22824989 Mar 11 00:24 '/content/drive/My Drive/Colab Notebooks/datasets/Online_Retail.zip'\n"
          ],
          "name": "stdout"
        }
      ]
    },
    {
      "cell_type": "code",
      "metadata": {
        "colab": {
          "base_uri": "https://localhost:8080/"
        },
        "id": "gL862oJBqzwJ",
        "outputId": "0e394037-7abd-40ca-fbad-cdd23f2377c8"
      },
      "source": [
        "!unzip /content/drive/My\\ Drive/Colab\\ Notebooks/datasets/Online_Retail.zip"
      ],
      "execution_count": 222,
      "outputs": [
        {
          "output_type": "stream",
          "text": [
            "Archive:  /content/drive/My Drive/Colab Notebooks/datasets/Online_Retail.zip\n",
            "replace Online_Retail.xlsx? [y]es, [n]o, [A]ll, [N]one, [r]ename: ㅛ\n",
            "error:  invalid response [ㅛ]\n",
            "replace Online_Retail.xlsx? [y]es, [n]o, [A]ll, [N]one, [r]ename: ㅛ\n",
            "error:  invalid response [ㅛ]\n",
            "replace Online_Retail.xlsx? [y]es, [n]o, [A]ll, [N]one, [r]ename: y\n",
            "  inflating: Online_Retail.xlsx      \n"
          ],
          "name": "stdout"
        }
      ]
    },
    {
      "cell_type": "code",
      "metadata": {
        "colab": {
          "base_uri": "https://localhost:8080/"
        },
        "id": "NyzbXyekqzqw",
        "outputId": "6626e625-433d-465f-8eed-eeb2933b37e2"
      },
      "source": [
        "!ls -l"
      ],
      "execution_count": 223,
      "outputs": [
        {
          "output_type": "stream",
          "text": [
            "total 23168\n",
            "drwx------ 5 root root     4096 Mar 11 00:26 drive\n",
            "-rw-r--r-- 1 root root 23715344 Mar  7 16:08 Online_Retail.xlsx\n",
            "drwxr-xr-x 1 root root     4096 Mar  5 14:37 sample_data\n"
          ],
          "name": "stdout"
        }
      ]
    },
    {
      "cell_type": "code",
      "metadata": {
        "colab": {
          "base_uri": "https://localhost:8080/"
        },
        "id": "P3-NCsU5rs2k",
        "outputId": "f464b304-8c0c-48e4-fe89-d967b24708f1"
      },
      "source": [
        "%%time\r\n",
        "\r\n",
        "DF = pd.read_excel('Online_Retail.xlsx')\r\n",
        "\r\n",
        "DF.info()"
      ],
      "execution_count": 224,
      "outputs": [
        {
          "output_type": "stream",
          "text": [
            "<class 'pandas.core.frame.DataFrame'>\n",
            "RangeIndex: 541909 entries, 0 to 541908\n",
            "Data columns (total 8 columns):\n",
            " #   Column       Non-Null Count   Dtype         \n",
            "---  ------       --------------   -----         \n",
            " 0   InvoiceNo    541909 non-null  object        \n",
            " 1   StockCode    541909 non-null  object        \n",
            " 2   Description  540455 non-null  object        \n",
            " 3   Quantity     541909 non-null  int64         \n",
            " 4   InvoiceDate  541909 non-null  datetime64[ns]\n",
            " 5   UnitPrice    541909 non-null  float64       \n",
            " 6   CustomerID   406829 non-null  float64       \n",
            " 7   Country      541909 non-null  object        \n",
            "dtypes: datetime64[ns](1), float64(2), int64(1), object(4)\n",
            "memory usage: 33.1+ MB\n",
            "CPU times: user 33.1 s, sys: 130 ms, total: 33.2 s\n",
            "Wall time: 33.2 s\n"
          ],
          "name": "stdout"
        }
      ]
    },
    {
      "cell_type": "code",
      "metadata": {
        "colab": {
          "base_uri": "https://localhost:8080/",
          "height": 204
        },
        "id": "cgIKBX60rszu",
        "outputId": "d5259ad0-9356-4023-aed5-52a183cc549e"
      },
      "source": [
        "DF.head()"
      ],
      "execution_count": 225,
      "outputs": [
        {
          "output_type": "execute_result",
          "data": {
            "text/html": [
              "<div>\n",
              "<style scoped>\n",
              "    .dataframe tbody tr th:only-of-type {\n",
              "        vertical-align: middle;\n",
              "    }\n",
              "\n",
              "    .dataframe tbody tr th {\n",
              "        vertical-align: top;\n",
              "    }\n",
              "\n",
              "    .dataframe thead th {\n",
              "        text-align: right;\n",
              "    }\n",
              "</style>\n",
              "<table border=\"1\" class=\"dataframe\">\n",
              "  <thead>\n",
              "    <tr style=\"text-align: right;\">\n",
              "      <th></th>\n",
              "      <th>InvoiceNo</th>\n",
              "      <th>StockCode</th>\n",
              "      <th>Description</th>\n",
              "      <th>Quantity</th>\n",
              "      <th>InvoiceDate</th>\n",
              "      <th>UnitPrice</th>\n",
              "      <th>CustomerID</th>\n",
              "      <th>Country</th>\n",
              "    </tr>\n",
              "  </thead>\n",
              "  <tbody>\n",
              "    <tr>\n",
              "      <th>0</th>\n",
              "      <td>536365</td>\n",
              "      <td>85123A</td>\n",
              "      <td>WHITE HANGING HEART T-LIGHT HOLDER</td>\n",
              "      <td>6</td>\n",
              "      <td>2010-12-01 08:26:00</td>\n",
              "      <td>2.55</td>\n",
              "      <td>17850.0</td>\n",
              "      <td>United Kingdom</td>\n",
              "    </tr>\n",
              "    <tr>\n",
              "      <th>1</th>\n",
              "      <td>536365</td>\n",
              "      <td>71053</td>\n",
              "      <td>WHITE METAL LANTERN</td>\n",
              "      <td>6</td>\n",
              "      <td>2010-12-01 08:26:00</td>\n",
              "      <td>3.39</td>\n",
              "      <td>17850.0</td>\n",
              "      <td>United Kingdom</td>\n",
              "    </tr>\n",
              "    <tr>\n",
              "      <th>2</th>\n",
              "      <td>536365</td>\n",
              "      <td>84406B</td>\n",
              "      <td>CREAM CUPID HEARTS COAT HANGER</td>\n",
              "      <td>8</td>\n",
              "      <td>2010-12-01 08:26:00</td>\n",
              "      <td>2.75</td>\n",
              "      <td>17850.0</td>\n",
              "      <td>United Kingdom</td>\n",
              "    </tr>\n",
              "    <tr>\n",
              "      <th>3</th>\n",
              "      <td>536365</td>\n",
              "      <td>84029G</td>\n",
              "      <td>KNITTED UNION FLAG HOT WATER BOTTLE</td>\n",
              "      <td>6</td>\n",
              "      <td>2010-12-01 08:26:00</td>\n",
              "      <td>3.39</td>\n",
              "      <td>17850.0</td>\n",
              "      <td>United Kingdom</td>\n",
              "    </tr>\n",
              "    <tr>\n",
              "      <th>4</th>\n",
              "      <td>536365</td>\n",
              "      <td>84029E</td>\n",
              "      <td>RED WOOLLY HOTTIE WHITE HEART.</td>\n",
              "      <td>6</td>\n",
              "      <td>2010-12-01 08:26:00</td>\n",
              "      <td>3.39</td>\n",
              "      <td>17850.0</td>\n",
              "      <td>United Kingdom</td>\n",
              "    </tr>\n",
              "  </tbody>\n",
              "</table>\n",
              "</div>"
            ],
            "text/plain": [
              "  InvoiceNo StockCode  ... CustomerID         Country\n",
              "0    536365    85123A  ...    17850.0  United Kingdom\n",
              "1    536365     71053  ...    17850.0  United Kingdom\n",
              "2    536365    84406B  ...    17850.0  United Kingdom\n",
              "3    536365    84029G  ...    17850.0  United Kingdom\n",
              "4    536365    84029E  ...    17850.0  United Kingdom\n",
              "\n",
              "[5 rows x 8 columns]"
            ]
          },
          "metadata": {
            "tags": []
          },
          "execution_count": 225
        }
      ]
    },
    {
      "cell_type": "code",
      "metadata": {
        "colab": {
          "base_uri": "https://localhost:8080/"
        },
        "id": "j3HHqkTmrswD",
        "outputId": "69e4e2f2-f5e2-4248-b094-ca01b962b270"
      },
      "source": [
        "DF = DF[DF['Quantity'] > 0]\r\n",
        "DF = DF[DF['UnitPrice'] > 0]\r\n",
        "DF = DF[DF['CustomerID'].notnull()]\r\n",
        "\r\n",
        "DF.shape"
      ],
      "execution_count": 226,
      "outputs": [
        {
          "output_type": "execute_result",
          "data": {
            "text/plain": [
              "(397884, 8)"
            ]
          },
          "metadata": {
            "tags": []
          },
          "execution_count": 226
        }
      ]
    },
    {
      "cell_type": "code",
      "metadata": {
        "colab": {
          "base_uri": "https://localhost:8080/"
        },
        "id": "o4FkYf8mr_yG",
        "outputId": "6e3d5891-e70d-4e3c-d088-82e48c8c1123"
      },
      "source": [
        "DF.isnull().sum(axis=0)"
      ],
      "execution_count": 227,
      "outputs": [
        {
          "output_type": "execute_result",
          "data": {
            "text/plain": [
              "InvoiceNo      0\n",
              "StockCode      0\n",
              "Description    0\n",
              "Quantity       0\n",
              "InvoiceDate    0\n",
              "UnitPrice      0\n",
              "CustomerID     0\n",
              "Country        0\n",
              "dtype: int64"
            ]
          },
          "metadata": {
            "tags": []
          },
          "execution_count": 227
        }
      ]
    },
    {
      "cell_type": "code",
      "metadata": {
        "colab": {
          "base_uri": "https://localhost:8080/"
        },
        "id": "V7JkQF6cr_ve",
        "outputId": "4e18649f-3952-4f9e-a04d-c8334470bd13"
      },
      "source": [
        "DF['Country'].value_counts()[:10]"
      ],
      "execution_count": 228,
      "outputs": [
        {
          "output_type": "execute_result",
          "data": {
            "text/plain": [
              "United Kingdom    354321\n",
              "Germany             9040\n",
              "France              8341\n",
              "EIRE                7236\n",
              "Spain               2484\n",
              "Netherlands         2359\n",
              "Belgium             2031\n",
              "Switzerland         1841\n",
              "Portugal            1462\n",
              "Australia           1182\n",
              "Name: Country, dtype: int64"
            ]
          },
          "metadata": {
            "tags": []
          },
          "execution_count": 228
        }
      ]
    },
    {
      "cell_type": "code",
      "metadata": {
        "colab": {
          "base_uri": "https://localhost:8080/"
        },
        "id": "ndGuQR2tr_sd",
        "outputId": "694a340f-e921-4379-bb4e-4f2907f3fc71"
      },
      "source": [
        "DF = DF[DF['Country'] == 'United Kingdom']\r\n",
        "\r\n",
        "DF.shape"
      ],
      "execution_count": 229,
      "outputs": [
        {
          "output_type": "execute_result",
          "data": {
            "text/plain": [
              "(354321, 8)"
            ]
          },
          "metadata": {
            "tags": []
          },
          "execution_count": 229
        }
      ]
    },
    {
      "cell_type": "markdown",
      "metadata": {
        "id": "NUt8cllfsZkJ"
      },
      "source": [
        "## EDA"
      ]
    },
    {
      "cell_type": "code",
      "metadata": {
        "colab": {
          "base_uri": "https://localhost:8080/"
        },
        "id": "ySvuR9kOsZRs",
        "outputId": "051a1df5-2b66-49ae-8a40-8ff3ec4bbaff"
      },
      "source": [
        "DF['StockCode'].value_counts()"
      ],
      "execution_count": 230,
      "outputs": [
        {
          "output_type": "execute_result",
          "data": {
            "text/plain": [
              "85123A    1947\n",
              "85099B    1464\n",
              "22423     1426\n",
              "84879     1333\n",
              "47566     1307\n",
              "          ... \n",
              "90214U       1\n",
              "16161M       1\n",
              "84016        1\n",
              "90048        1\n",
              "90038A       1\n",
              "Name: StockCode, Length: 3645, dtype: int64"
            ]
          },
          "metadata": {
            "tags": []
          },
          "execution_count": 230
        }
      ]
    },
    {
      "cell_type": "code",
      "metadata": {
        "colab": {
          "base_uri": "https://localhost:8080/"
        },
        "id": "y5qlS5iOr_mz",
        "outputId": "1c235ee9-7594-4bd2-99df-14a57500d64b"
      },
      "source": [
        "DF['CustomerID'].value_counts()"
      ],
      "execution_count": 231,
      "outputs": [
        {
          "output_type": "execute_result",
          "data": {
            "text/plain": [
              "17841.0    7847\n",
              "14096.0    5111\n",
              "12748.0    4595\n",
              "14606.0    2700\n",
              "15311.0    2379\n",
              "           ... \n",
              "14705.0       1\n",
              "17923.0       1\n",
              "15802.0       1\n",
              "13747.0       1\n",
              "15316.0       1\n",
              "Name: CustomerID, Length: 3920, dtype: int64"
            ]
          },
          "metadata": {
            "tags": []
          },
          "execution_count": 231
        }
      ]
    },
    {
      "cell_type": "code",
      "metadata": {
        "colab": {
          "base_uri": "https://localhost:8080/"
        },
        "id": "f3Px5QsLuPpN",
        "outputId": "1baf2de3-155b-4819-a0e9-ba4a361756f1"
      },
      "source": [
        "DF['InvoiceNo'].value_counts()"
      ],
      "execution_count": 232,
      "outputs": [
        {
          "output_type": "execute_result",
          "data": {
            "text/plain": [
              "576339    542\n",
              "579196    533\n",
              "580727    529\n",
              "578270    442\n",
              "573576    435\n",
              "         ... \n",
              "539001      1\n",
              "547792      1\n",
              "575203      1\n",
              "539005      1\n",
              "555620      1\n",
              "Name: InvoiceNo, Length: 16646, dtype: int64"
            ]
          },
          "metadata": {
            "tags": []
          },
          "execution_count": 232
        }
      ]
    },
    {
      "cell_type": "code",
      "metadata": {
        "colab": {
          "base_uri": "https://localhost:8080/"
        },
        "id": "XoxX_l77wd5V",
        "outputId": "ae19702e-c3b2-483d-e44b-c70816e6f2be"
      },
      "source": [
        "DF['UnitPrice'].describe()"
      ],
      "execution_count": 233,
      "outputs": [
        {
          "output_type": "execute_result",
          "data": {
            "text/plain": [
              "count    354321.000000\n",
              "mean          2.963994\n",
              "std          17.862655\n",
              "min           0.001000\n",
              "25%           1.250000\n",
              "50%           1.950000\n",
              "75%           3.750000\n",
              "max        8142.750000\n",
              "Name: UnitPrice, dtype: float64"
            ]
          },
          "metadata": {
            "tags": []
          },
          "execution_count": 233
        }
      ]
    },
    {
      "cell_type": "code",
      "metadata": {
        "colab": {
          "base_uri": "https://localhost:8080/",
          "height": 450
        },
        "id": "NnXzYhc3wzO_",
        "outputId": "ee4ff7da-66c4-46e7-cd7d-759a147c84de"
      },
      "source": [
        "DF.groupby('InvoiceNo')['Quantity', 'UnitPrice'].mean()"
      ],
      "execution_count": 234,
      "outputs": [
        {
          "output_type": "execute_result",
          "data": {
            "text/html": [
              "<div>\n",
              "<style scoped>\n",
              "    .dataframe tbody tr th:only-of-type {\n",
              "        vertical-align: middle;\n",
              "    }\n",
              "\n",
              "    .dataframe tbody tr th {\n",
              "        vertical-align: top;\n",
              "    }\n",
              "\n",
              "    .dataframe thead th {\n",
              "        text-align: right;\n",
              "    }\n",
              "</style>\n",
              "<table border=\"1\" class=\"dataframe\">\n",
              "  <thead>\n",
              "    <tr style=\"text-align: right;\">\n",
              "      <th></th>\n",
              "      <th>Quantity</th>\n",
              "      <th>UnitPrice</th>\n",
              "    </tr>\n",
              "    <tr>\n",
              "      <th>InvoiceNo</th>\n",
              "      <th></th>\n",
              "      <th></th>\n",
              "    </tr>\n",
              "  </thead>\n",
              "  <tbody>\n",
              "    <tr>\n",
              "      <th>536365</th>\n",
              "      <td>5.714286</td>\n",
              "      <td>3.910000</td>\n",
              "    </tr>\n",
              "    <tr>\n",
              "      <th>536366</th>\n",
              "      <td>6.000000</td>\n",
              "      <td>1.850000</td>\n",
              "    </tr>\n",
              "    <tr>\n",
              "      <th>536367</th>\n",
              "      <td>6.916667</td>\n",
              "      <td>4.853333</td>\n",
              "    </tr>\n",
              "    <tr>\n",
              "      <th>536368</th>\n",
              "      <td>3.750000</td>\n",
              "      <td>4.775000</td>\n",
              "    </tr>\n",
              "    <tr>\n",
              "      <th>536369</th>\n",
              "      <td>3.000000</td>\n",
              "      <td>5.950000</td>\n",
              "    </tr>\n",
              "    <tr>\n",
              "      <th>...</th>\n",
              "      <td>...</td>\n",
              "      <td>...</td>\n",
              "    </tr>\n",
              "    <tr>\n",
              "      <th>581582</th>\n",
              "      <td>9.000000</td>\n",
              "      <td>1.765000</td>\n",
              "    </tr>\n",
              "    <tr>\n",
              "      <th>581583</th>\n",
              "      <td>38.000000</td>\n",
              "      <td>1.650000</td>\n",
              "    </tr>\n",
              "    <tr>\n",
              "      <th>581584</th>\n",
              "      <td>60.000000</td>\n",
              "      <td>1.285000</td>\n",
              "    </tr>\n",
              "    <tr>\n",
              "      <th>581585</th>\n",
              "      <td>13.238095</td>\n",
              "      <td>1.799048</td>\n",
              "    </tr>\n",
              "    <tr>\n",
              "      <th>581586</th>\n",
              "      <td>16.500000</td>\n",
              "      <td>5.057500</td>\n",
              "    </tr>\n",
              "  </tbody>\n",
              "</table>\n",
              "<p>16646 rows × 2 columns</p>\n",
              "</div>"
            ],
            "text/plain": [
              "            Quantity  UnitPrice\n",
              "InvoiceNo                      \n",
              "536365      5.714286   3.910000\n",
              "536366      6.000000   1.850000\n",
              "536367      6.916667   4.853333\n",
              "536368      3.750000   4.775000\n",
              "536369      3.000000   5.950000\n",
              "...              ...        ...\n",
              "581582      9.000000   1.765000\n",
              "581583     38.000000   1.650000\n",
              "581584     60.000000   1.285000\n",
              "581585     13.238095   1.799048\n",
              "581586     16.500000   5.057500\n",
              "\n",
              "[16646 rows x 2 columns]"
            ]
          },
          "metadata": {
            "tags": []
          },
          "execution_count": 234
        }
      ]
    },
    {
      "cell_type": "code",
      "metadata": {
        "colab": {
          "base_uri": "https://localhost:8080/",
          "height": 450
        },
        "id": "WV8KFhjRxXPV",
        "outputId": "56ed2127-2c36-42d1-b136-6ca91405d7bd"
      },
      "source": [
        "DF.groupby('CustomerID')['Quantity', 'UnitPrice'].mean()"
      ],
      "execution_count": 235,
      "outputs": [
        {
          "output_type": "execute_result",
          "data": {
            "text/html": [
              "<div>\n",
              "<style scoped>\n",
              "    .dataframe tbody tr th:only-of-type {\n",
              "        vertical-align: middle;\n",
              "    }\n",
              "\n",
              "    .dataframe tbody tr th {\n",
              "        vertical-align: top;\n",
              "    }\n",
              "\n",
              "    .dataframe thead th {\n",
              "        text-align: right;\n",
              "    }\n",
              "</style>\n",
              "<table border=\"1\" class=\"dataframe\">\n",
              "  <thead>\n",
              "    <tr style=\"text-align: right;\">\n",
              "      <th></th>\n",
              "      <th>Quantity</th>\n",
              "      <th>UnitPrice</th>\n",
              "    </tr>\n",
              "    <tr>\n",
              "      <th>CustomerID</th>\n",
              "      <th></th>\n",
              "      <th></th>\n",
              "    </tr>\n",
              "  </thead>\n",
              "  <tbody>\n",
              "    <tr>\n",
              "      <th>12346.0</th>\n",
              "      <td>74215.000000</td>\n",
              "      <td>1.040000</td>\n",
              "    </tr>\n",
              "    <tr>\n",
              "      <th>12747.0</th>\n",
              "      <td>12.378641</td>\n",
              "      <td>4.367864</td>\n",
              "    </tr>\n",
              "    <tr>\n",
              "      <th>12748.0</th>\n",
              "      <td>5.603264</td>\n",
              "      <td>2.656279</td>\n",
              "    </tr>\n",
              "    <tr>\n",
              "      <th>12749.0</th>\n",
              "      <td>7.391960</td>\n",
              "      <td>4.999950</td>\n",
              "    </tr>\n",
              "    <tr>\n",
              "      <th>12820.0</th>\n",
              "      <td>12.237288</td>\n",
              "      <td>1.904746</td>\n",
              "    </tr>\n",
              "    <tr>\n",
              "      <th>...</th>\n",
              "      <td>...</td>\n",
              "      <td>...</td>\n",
              "    </tr>\n",
              "    <tr>\n",
              "      <th>18280.0</th>\n",
              "      <td>4.500000</td>\n",
              "      <td>4.765000</td>\n",
              "    </tr>\n",
              "    <tr>\n",
              "      <th>18281.0</th>\n",
              "      <td>7.714286</td>\n",
              "      <td>5.622857</td>\n",
              "    </tr>\n",
              "    <tr>\n",
              "      <th>18282.0</th>\n",
              "      <td>8.583333</td>\n",
              "      <td>5.199167</td>\n",
              "    </tr>\n",
              "    <tr>\n",
              "      <th>18283.0</th>\n",
              "      <td>1.847884</td>\n",
              "      <td>1.614987</td>\n",
              "    </tr>\n",
              "    <tr>\n",
              "      <th>18287.0</th>\n",
              "      <td>22.657143</td>\n",
              "      <td>1.493571</td>\n",
              "    </tr>\n",
              "  </tbody>\n",
              "</table>\n",
              "<p>3920 rows × 2 columns</p>\n",
              "</div>"
            ],
            "text/plain": [
              "                Quantity  UnitPrice\n",
              "CustomerID                         \n",
              "12346.0     74215.000000   1.040000\n",
              "12747.0        12.378641   4.367864\n",
              "12748.0         5.603264   2.656279\n",
              "12749.0         7.391960   4.999950\n",
              "12820.0        12.237288   1.904746\n",
              "...                  ...        ...\n",
              "18280.0         4.500000   4.765000\n",
              "18281.0         7.714286   5.622857\n",
              "18282.0         8.583333   5.199167\n",
              "18283.0         1.847884   1.614987\n",
              "18287.0        22.657143   1.493571\n",
              "\n",
              "[3920 rows x 2 columns]"
            ]
          },
          "metadata": {
            "tags": []
          },
          "execution_count": 235
        }
      ]
    },
    {
      "cell_type": "code",
      "metadata": {
        "id": "71TyZalzyykL"
      },
      "source": [
        "DF1 = DF.groupby('CustomerID')['Quantity', 'UnitPrice'].sum()"
      ],
      "execution_count": 236,
      "outputs": []
    },
    {
      "cell_type": "code",
      "metadata": {
        "colab": {
          "base_uri": "https://localhost:8080/",
          "height": 390
        },
        "id": "NqJ0-jNlz77c",
        "outputId": "a23842e9-b920-488d-de06-11de6933765a"
      },
      "source": [
        "DF1.head(10)"
      ],
      "execution_count": 237,
      "outputs": [
        {
          "output_type": "execute_result",
          "data": {
            "text/html": [
              "<div>\n",
              "<style scoped>\n",
              "    .dataframe tbody tr th:only-of-type {\n",
              "        vertical-align: middle;\n",
              "    }\n",
              "\n",
              "    .dataframe tbody tr th {\n",
              "        vertical-align: top;\n",
              "    }\n",
              "\n",
              "    .dataframe thead th {\n",
              "        text-align: right;\n",
              "    }\n",
              "</style>\n",
              "<table border=\"1\" class=\"dataframe\">\n",
              "  <thead>\n",
              "    <tr style=\"text-align: right;\">\n",
              "      <th></th>\n",
              "      <th>Quantity</th>\n",
              "      <th>UnitPrice</th>\n",
              "    </tr>\n",
              "    <tr>\n",
              "      <th>CustomerID</th>\n",
              "      <th></th>\n",
              "      <th></th>\n",
              "    </tr>\n",
              "  </thead>\n",
              "  <tbody>\n",
              "    <tr>\n",
              "      <th>12346.0</th>\n",
              "      <td>74215</td>\n",
              "      <td>1.04</td>\n",
              "    </tr>\n",
              "    <tr>\n",
              "      <th>12747.0</th>\n",
              "      <td>1275</td>\n",
              "      <td>449.89</td>\n",
              "    </tr>\n",
              "    <tr>\n",
              "      <th>12748.0</th>\n",
              "      <td>25747</td>\n",
              "      <td>12205.60</td>\n",
              "    </tr>\n",
              "    <tr>\n",
              "      <th>12749.0</th>\n",
              "      <td>1471</td>\n",
              "      <td>994.99</td>\n",
              "    </tr>\n",
              "    <tr>\n",
              "      <th>12820.0</th>\n",
              "      <td>722</td>\n",
              "      <td>112.38</td>\n",
              "    </tr>\n",
              "    <tr>\n",
              "      <th>12821.0</th>\n",
              "      <td>70</td>\n",
              "      <td>14.99</td>\n",
              "    </tr>\n",
              "    <tr>\n",
              "      <th>12822.0</th>\n",
              "      <td>550</td>\n",
              "      <td>123.86</td>\n",
              "    </tr>\n",
              "    <tr>\n",
              "      <th>12823.0</th>\n",
              "      <td>230</td>\n",
              "      <td>38.25</td>\n",
              "    </tr>\n",
              "    <tr>\n",
              "      <th>12824.0</th>\n",
              "      <td>232</td>\n",
              "      <td>63.39</td>\n",
              "    </tr>\n",
              "    <tr>\n",
              "      <th>12826.0</th>\n",
              "      <td>1058</td>\n",
              "      <td>175.42</td>\n",
              "    </tr>\n",
              "  </tbody>\n",
              "</table>\n",
              "</div>"
            ],
            "text/plain": [
              "            Quantity  UnitPrice\n",
              "CustomerID                     \n",
              "12346.0        74215       1.04\n",
              "12747.0         1275     449.89\n",
              "12748.0        25747   12205.60\n",
              "12749.0         1471     994.99\n",
              "12820.0          722     112.38\n",
              "12821.0           70      14.99\n",
              "12822.0          550     123.86\n",
              "12823.0          230      38.25\n",
              "12824.0          232      63.39\n",
              "12826.0         1058     175.42"
            ]
          },
          "metadata": {
            "tags": []
          },
          "execution_count": 237
        }
      ]
    },
    {
      "cell_type": "code",
      "metadata": {
        "colab": {
          "base_uri": "https://localhost:8080/"
        },
        "id": "4SxT07AP0nXQ",
        "outputId": "94fc8b6e-7201-43b4-ab72-b51d68bafa78"
      },
      "source": [
        "DF1.info()"
      ],
      "execution_count": 238,
      "outputs": [
        {
          "output_type": "stream",
          "text": [
            "<class 'pandas.core.frame.DataFrame'>\n",
            "Float64Index: 3920 entries, 12346.0 to 18287.0\n",
            "Data columns (total 2 columns):\n",
            " #   Column     Non-Null Count  Dtype  \n",
            "---  ------     --------------  -----  \n",
            " 0   Quantity   3920 non-null   int64  \n",
            " 1   UnitPrice  3920 non-null   float64\n",
            "dtypes: float64(1), int64(1)\n",
            "memory usage: 91.9 KB\n"
          ],
          "name": "stdout"
        }
      ]
    },
    {
      "cell_type": "markdown",
      "metadata": {
        "id": "zV4faq4Y0aRb"
      },
      "source": [
        "## K-means Clustering"
      ]
    },
    {
      "cell_type": "code",
      "metadata": {
        "colab": {
          "base_uri": "https://localhost:8080/"
        },
        "id": "jpkOfXaf0RaY",
        "outputId": "718ccad4-9e10-45b9-dce7-09fb3943ecda"
      },
      "source": [
        "from sklearn.cluster import KMeans\r\n",
        "\r\n",
        "kmeans_1 = KMeans(n_clusters = 10,\r\n",
        "                    init='k-means++',\r\n",
        "                    max_iter=20,\r\n",
        "                    random_state=2045)\r\n",
        "kmeans_1.fit(DF1)"
      ],
      "execution_count": 239,
      "outputs": [
        {
          "output_type": "execute_result",
          "data": {
            "text/plain": [
              "KMeans(algorithm='auto', copy_x=True, init='k-means++', max_iter=20,\n",
              "       n_clusters=10, n_init=10, n_jobs=None, precompute_distances='auto',\n",
              "       random_state=2045, tol=0.0001, verbose=0)"
            ]
          },
          "metadata": {
            "tags": []
          },
          "execution_count": 239
        }
      ]
    },
    {
      "cell_type": "code",
      "metadata": {
        "colab": {
          "base_uri": "https://localhost:8080/"
        },
        "id": "add53p9f0434",
        "outputId": "c3492f2b-6044-4167-f4f5-f740178d7318"
      },
      "source": [
        "kmeans_1.n_iter_"
      ],
      "execution_count": 240,
      "outputs": [
        {
          "output_type": "execute_result",
          "data": {
            "text/plain": [
              "5"
            ]
          },
          "metadata": {
            "tags": []
          },
          "execution_count": 240
        }
      ]
    },
    {
      "cell_type": "code",
      "metadata": {
        "colab": {
          "base_uri": "https://localhost:8080/"
        },
        "id": "mNHVeL7K04y8",
        "outputId": "60805546-397f-420e-af37-27659d80ebdb"
      },
      "source": [
        "kmeans_1.cluster_centers_"
      ],
      "execution_count": 241,
      "outputs": [
        {
          "output_type": "execute_result",
          "data": {
            "text/plain": [
              "array([[ 1589.61820652,   472.15265082],\n",
              "       [60116.6       ,  1636.936     ],\n",
              "       [19309.81818182,   678.83727273],\n",
              "       [  313.8475672 ,   130.94521368],\n",
              "       [ 4151.42613636,  1000.18738636],\n",
              "       [16352.        , 33332.45      ],\n",
              "       [32500.22222222,  2451.07555556],\n",
              "       [75068.33333333,   383.11333333],\n",
              "       [ 8891.15789474,   988.74736842],\n",
              "       [24409.        , 16027.045     ]])"
            ]
          },
          "metadata": {
            "tags": []
          },
          "execution_count": 241
        }
      ]
    },
    {
      "cell_type": "code",
      "metadata": {
        "colab": {
          "base_uri": "https://localhost:8080/"
        },
        "id": "rcrxAF-Y0_Lc",
        "outputId": "a8f2905c-1310-4d2a-9925-c6fb626debee"
      },
      "source": [
        "kmeans_1.labels_"
      ],
      "execution_count": 242,
      "outputs": [
        {
          "output_type": "execute_result",
          "data": {
            "text/plain": [
              "array([7, 0, 9, ..., 3, 0, 0], dtype=int32)"
            ]
          },
          "metadata": {
            "tags": []
          },
          "execution_count": 242
        }
      ]
    },
    {
      "cell_type": "code",
      "metadata": {
        "colab": {
          "base_uri": "https://localhost:8080/"
        },
        "id": "BwbPv_5b1Dm3",
        "outputId": "373ad080-8ab0-4254-9623-3330b6de216d"
      },
      "source": [
        "kmeans_1.inertia_"
      ],
      "execution_count": 243,
      "outputs": [
        {
          "output_type": "execute_result",
          "data": {
            "text/plain": [
              "1625390956.5589414"
            ]
          },
          "metadata": {
            "tags": []
          },
          "execution_count": 243
        }
      ]
    },
    {
      "cell_type": "markdown",
      "metadata": {
        "id": "sJMeSncQ1Mmb"
      },
      "source": [
        "### Silhouette Analysis"
      ]
    },
    {
      "cell_type": "code",
      "metadata": {
        "id": "d5UXluLX1PqA"
      },
      "source": [
        "DF1['Clustering'] = kmeans_1.labels_"
      ],
      "execution_count": 244,
      "outputs": []
    },
    {
      "cell_type": "code",
      "metadata": {
        "colab": {
          "base_uri": "https://localhost:8080/",
          "height": 235
        },
        "id": "DUMV6d8e1VgG",
        "outputId": "c401949d-1826-4021-82bb-885d6667879f"
      },
      "source": [
        "DF1.head()"
      ],
      "execution_count": 245,
      "outputs": [
        {
          "output_type": "execute_result",
          "data": {
            "text/html": [
              "<div>\n",
              "<style scoped>\n",
              "    .dataframe tbody tr th:only-of-type {\n",
              "        vertical-align: middle;\n",
              "    }\n",
              "\n",
              "    .dataframe tbody tr th {\n",
              "        vertical-align: top;\n",
              "    }\n",
              "\n",
              "    .dataframe thead th {\n",
              "        text-align: right;\n",
              "    }\n",
              "</style>\n",
              "<table border=\"1\" class=\"dataframe\">\n",
              "  <thead>\n",
              "    <tr style=\"text-align: right;\">\n",
              "      <th></th>\n",
              "      <th>Quantity</th>\n",
              "      <th>UnitPrice</th>\n",
              "      <th>Clustering</th>\n",
              "    </tr>\n",
              "    <tr>\n",
              "      <th>CustomerID</th>\n",
              "      <th></th>\n",
              "      <th></th>\n",
              "      <th></th>\n",
              "    </tr>\n",
              "  </thead>\n",
              "  <tbody>\n",
              "    <tr>\n",
              "      <th>12346.0</th>\n",
              "      <td>74215</td>\n",
              "      <td>1.04</td>\n",
              "      <td>7</td>\n",
              "    </tr>\n",
              "    <tr>\n",
              "      <th>12747.0</th>\n",
              "      <td>1275</td>\n",
              "      <td>449.89</td>\n",
              "      <td>0</td>\n",
              "    </tr>\n",
              "    <tr>\n",
              "      <th>12748.0</th>\n",
              "      <td>25747</td>\n",
              "      <td>12205.60</td>\n",
              "      <td>9</td>\n",
              "    </tr>\n",
              "    <tr>\n",
              "      <th>12749.0</th>\n",
              "      <td>1471</td>\n",
              "      <td>994.99</td>\n",
              "      <td>0</td>\n",
              "    </tr>\n",
              "    <tr>\n",
              "      <th>12820.0</th>\n",
              "      <td>722</td>\n",
              "      <td>112.38</td>\n",
              "      <td>3</td>\n",
              "    </tr>\n",
              "  </tbody>\n",
              "</table>\n",
              "</div>"
            ],
            "text/plain": [
              "            Quantity  UnitPrice  Clustering\n",
              "CustomerID                                 \n",
              "12346.0        74215       1.04           7\n",
              "12747.0         1275     449.89           0\n",
              "12748.0        25747   12205.60           9\n",
              "12749.0         1471     994.99           0\n",
              "12820.0          722     112.38           3"
            ]
          },
          "metadata": {
            "tags": []
          },
          "execution_count": 245
        }
      ]
    },
    {
      "cell_type": "code",
      "metadata": {
        "colab": {
          "base_uri": "https://localhost:8080/"
        },
        "id": "6c38xU_b1Ya4",
        "outputId": "5bd3f476-def0-43f9-e2b6-8c05c1a5bbe1"
      },
      "source": [
        "from sklearn.metrics import silhouette_samples\r\n",
        "\r\n",
        "silhouette_samples(DF1, DF1['Clustering'])"
      ],
      "execution_count": 246,
      "outputs": [
        {
          "output_type": "execute_result",
          "data": {
            "text/plain": [
              "array([0.6080873 , 0.4361024 , 0.36567924, ..., 0.83295802, 0.38348696,\n",
              "       0.51154956])"
            ]
          },
          "metadata": {
            "tags": []
          },
          "execution_count": 246
        }
      ]
    },
    {
      "cell_type": "code",
      "metadata": {
        "id": "khpSEwSK1loK"
      },
      "source": [
        "DF1['Silh_Coef'] = silhouette_samples(DF1, DF1['Clustering'])"
      ],
      "execution_count": 247,
      "outputs": []
    },
    {
      "cell_type": "code",
      "metadata": {
        "colab": {
          "base_uri": "https://localhost:8080/",
          "height": 235
        },
        "id": "Qd85llWP1re-",
        "outputId": "2688ef62-9579-4bad-f4a8-8315a41a3158"
      },
      "source": [
        "DF1.head()"
      ],
      "execution_count": 248,
      "outputs": [
        {
          "output_type": "execute_result",
          "data": {
            "text/html": [
              "<div>\n",
              "<style scoped>\n",
              "    .dataframe tbody tr th:only-of-type {\n",
              "        vertical-align: middle;\n",
              "    }\n",
              "\n",
              "    .dataframe tbody tr th {\n",
              "        vertical-align: top;\n",
              "    }\n",
              "\n",
              "    .dataframe thead th {\n",
              "        text-align: right;\n",
              "    }\n",
              "</style>\n",
              "<table border=\"1\" class=\"dataframe\">\n",
              "  <thead>\n",
              "    <tr style=\"text-align: right;\">\n",
              "      <th></th>\n",
              "      <th>Quantity</th>\n",
              "      <th>UnitPrice</th>\n",
              "      <th>Clustering</th>\n",
              "      <th>Silh_Coef</th>\n",
              "    </tr>\n",
              "    <tr>\n",
              "      <th>CustomerID</th>\n",
              "      <th></th>\n",
              "      <th></th>\n",
              "      <th></th>\n",
              "      <th></th>\n",
              "    </tr>\n",
              "  </thead>\n",
              "  <tbody>\n",
              "    <tr>\n",
              "      <th>12346.0</th>\n",
              "      <td>74215</td>\n",
              "      <td>1.04</td>\n",
              "      <td>7</td>\n",
              "      <td>0.608087</td>\n",
              "    </tr>\n",
              "    <tr>\n",
              "      <th>12747.0</th>\n",
              "      <td>1275</td>\n",
              "      <td>449.89</td>\n",
              "      <td>0</td>\n",
              "      <td>0.436102</td>\n",
              "    </tr>\n",
              "    <tr>\n",
              "      <th>12748.0</th>\n",
              "      <td>25747</td>\n",
              "      <td>12205.60</td>\n",
              "      <td>9</td>\n",
              "      <td>0.365679</td>\n",
              "    </tr>\n",
              "    <tr>\n",
              "      <th>12749.0</th>\n",
              "      <td>1471</td>\n",
              "      <td>994.99</td>\n",
              "      <td>0</td>\n",
              "      <td>0.463695</td>\n",
              "    </tr>\n",
              "    <tr>\n",
              "      <th>12820.0</th>\n",
              "      <td>722</td>\n",
              "      <td>112.38</td>\n",
              "      <td>3</td>\n",
              "      <td>0.541038</td>\n",
              "    </tr>\n",
              "  </tbody>\n",
              "</table>\n",
              "</div>"
            ],
            "text/plain": [
              "            Quantity  UnitPrice  Clustering  Silh_Coef\n",
              "CustomerID                                            \n",
              "12346.0        74215       1.04           7   0.608087\n",
              "12747.0         1275     449.89           0   0.436102\n",
              "12748.0        25747   12205.60           9   0.365679\n",
              "12749.0         1471     994.99           0   0.463695\n",
              "12820.0          722     112.38           3   0.541038"
            ]
          },
          "metadata": {
            "tags": []
          },
          "execution_count": 248
        }
      ]
    },
    {
      "cell_type": "code",
      "metadata": {
        "colab": {
          "base_uri": "https://localhost:8080/"
        },
        "id": "fJSkrK-d1uYK",
        "outputId": "876f367c-1982-454f-8e86-98231fc7bdc4"
      },
      "source": [
        "from sklearn.metrics import silhouette_score\r\n",
        "\r\n",
        "silhouette_score(DF1, DF1['Clustering'])"
      ],
      "execution_count": 249,
      "outputs": [
        {
          "output_type": "execute_result",
          "data": {
            "text/plain": [
              "0.6520786665221937"
            ]
          },
          "metadata": {
            "tags": []
          },
          "execution_count": 249
        }
      ]
    },
    {
      "cell_type": "markdown",
      "metadata": {
        "id": "ak3t_LUs4b1n"
      },
      "source": [
        "## Mean Shift"
      ]
    },
    {
      "cell_type": "code",
      "metadata": {
        "colab": {
          "base_uri": "https://localhost:8080/"
        },
        "id": "WU8NCHVg2beN",
        "outputId": "241318f4-213c-4088-9544-109f030ac7a9"
      },
      "source": [
        "from sklearn.cluster import MeanShift\r\n",
        "\r\n",
        "meanshift = MeanShift(bandwidth=900)\r\n",
        "meanshift.fit_predict(DF1)"
      ],
      "execution_count": 250,
      "outputs": [
        {
          "output_type": "execute_result",
          "data": {
            "text/plain": [
              "array([14,  0, 26, ...,  0,  0,  0])"
            ]
          },
          "metadata": {
            "tags": []
          },
          "execution_count": 250
        }
      ]
    },
    {
      "cell_type": "code",
      "metadata": {
        "colab": {
          "base_uri": "https://localhost:8080/"
        },
        "id": "JrpUzWvq46MW",
        "outputId": "4c65ce9a-8ddb-4a3f-8ea9-95952725f4b6"
      },
      "source": [
        "from sklearn.cluster import estimate_bandwidth\r\n",
        "\r\n",
        "estimate_bandwidth(DF1)"
      ],
      "execution_count": 251,
      "outputs": [
        {
          "output_type": "execute_result",
          "data": {
            "text/plain": [
              "916.7749913604657"
            ]
          },
          "metadata": {
            "tags": []
          },
          "execution_count": 251
        }
      ]
    },
    {
      "cell_type": "markdown",
      "metadata": {
        "id": "mavpcPex-UZb"
      },
      "source": [
        "### Silhouette Analysis"
      ]
    },
    {
      "cell_type": "code",
      "metadata": {
        "id": "sKAalvhe5JQe"
      },
      "source": [
        "DF1['Clustering'] = meanshift.labels_"
      ],
      "execution_count": 252,
      "outputs": []
    },
    {
      "cell_type": "code",
      "metadata": {
        "colab": {
          "base_uri": "https://localhost:8080/",
          "height": 235
        },
        "id": "PPz98FP75JQf",
        "outputId": "51adbf97-c3d0-4c67-dd7b-44537eaeb866"
      },
      "source": [
        "DF1.head()"
      ],
      "execution_count": 253,
      "outputs": [
        {
          "output_type": "execute_result",
          "data": {
            "text/html": [
              "<div>\n",
              "<style scoped>\n",
              "    .dataframe tbody tr th:only-of-type {\n",
              "        vertical-align: middle;\n",
              "    }\n",
              "\n",
              "    .dataframe tbody tr th {\n",
              "        vertical-align: top;\n",
              "    }\n",
              "\n",
              "    .dataframe thead th {\n",
              "        text-align: right;\n",
              "    }\n",
              "</style>\n",
              "<table border=\"1\" class=\"dataframe\">\n",
              "  <thead>\n",
              "    <tr style=\"text-align: right;\">\n",
              "      <th></th>\n",
              "      <th>Quantity</th>\n",
              "      <th>UnitPrice</th>\n",
              "      <th>Clustering</th>\n",
              "      <th>Silh_Coef</th>\n",
              "    </tr>\n",
              "    <tr>\n",
              "      <th>CustomerID</th>\n",
              "      <th></th>\n",
              "      <th></th>\n",
              "      <th></th>\n",
              "      <th></th>\n",
              "    </tr>\n",
              "  </thead>\n",
              "  <tbody>\n",
              "    <tr>\n",
              "      <th>12346.0</th>\n",
              "      <td>74215</td>\n",
              "      <td>1.04</td>\n",
              "      <td>14</td>\n",
              "      <td>0.608087</td>\n",
              "    </tr>\n",
              "    <tr>\n",
              "      <th>12747.0</th>\n",
              "      <td>1275</td>\n",
              "      <td>449.89</td>\n",
              "      <td>0</td>\n",
              "      <td>0.436102</td>\n",
              "    </tr>\n",
              "    <tr>\n",
              "      <th>12748.0</th>\n",
              "      <td>25747</td>\n",
              "      <td>12205.60</td>\n",
              "      <td>26</td>\n",
              "      <td>0.365679</td>\n",
              "    </tr>\n",
              "    <tr>\n",
              "      <th>12749.0</th>\n",
              "      <td>1471</td>\n",
              "      <td>994.99</td>\n",
              "      <td>0</td>\n",
              "      <td>0.463695</td>\n",
              "    </tr>\n",
              "    <tr>\n",
              "      <th>12820.0</th>\n",
              "      <td>722</td>\n",
              "      <td>112.38</td>\n",
              "      <td>0</td>\n",
              "      <td>0.541038</td>\n",
              "    </tr>\n",
              "  </tbody>\n",
              "</table>\n",
              "</div>"
            ],
            "text/plain": [
              "            Quantity  UnitPrice  Clustering  Silh_Coef\n",
              "CustomerID                                            \n",
              "12346.0        74215       1.04          14   0.608087\n",
              "12747.0         1275     449.89           0   0.436102\n",
              "12748.0        25747   12205.60          26   0.365679\n",
              "12749.0         1471     994.99           0   0.463695\n",
              "12820.0          722     112.38           0   0.541038"
            ]
          },
          "metadata": {
            "tags": []
          },
          "execution_count": 253
        }
      ]
    },
    {
      "cell_type": "code",
      "metadata": {
        "colab": {
          "base_uri": "https://localhost:8080/"
        },
        "id": "rKAQdA_75JQh",
        "outputId": "7fed8295-841b-4155-d2b9-c76ec7707365"
      },
      "source": [
        "from sklearn.metrics import silhouette_samples\r\n",
        "\r\n",
        "silhouette_samples(DF1, DF1['Clustering'])"
      ],
      "execution_count": 254,
      "outputs": [
        {
          "output_type": "execute_result",
          "data": {
            "text/plain": [
              "array([0.        , 0.54866652, 0.        , ..., 0.79379171, 0.08562067,\n",
              "       0.45609166])"
            ]
          },
          "metadata": {
            "tags": []
          },
          "execution_count": 254
        }
      ]
    },
    {
      "cell_type": "code",
      "metadata": {
        "id": "c-QJRYKB5JQj"
      },
      "source": [
        "DF1['Silh_Coef'] = silhouette_samples(DF1, DF1['Clustering'])"
      ],
      "execution_count": 255,
      "outputs": []
    },
    {
      "cell_type": "code",
      "metadata": {
        "colab": {
          "base_uri": "https://localhost:8080/",
          "height": 235
        },
        "id": "nadMls0L5JQl",
        "outputId": "f6de723c-80f4-41bd-b2dd-5097774a8f64"
      },
      "source": [
        "DF1.head()"
      ],
      "execution_count": 256,
      "outputs": [
        {
          "output_type": "execute_result",
          "data": {
            "text/html": [
              "<div>\n",
              "<style scoped>\n",
              "    .dataframe tbody tr th:only-of-type {\n",
              "        vertical-align: middle;\n",
              "    }\n",
              "\n",
              "    .dataframe tbody tr th {\n",
              "        vertical-align: top;\n",
              "    }\n",
              "\n",
              "    .dataframe thead th {\n",
              "        text-align: right;\n",
              "    }\n",
              "</style>\n",
              "<table border=\"1\" class=\"dataframe\">\n",
              "  <thead>\n",
              "    <tr style=\"text-align: right;\">\n",
              "      <th></th>\n",
              "      <th>Quantity</th>\n",
              "      <th>UnitPrice</th>\n",
              "      <th>Clustering</th>\n",
              "      <th>Silh_Coef</th>\n",
              "    </tr>\n",
              "    <tr>\n",
              "      <th>CustomerID</th>\n",
              "      <th></th>\n",
              "      <th></th>\n",
              "      <th></th>\n",
              "      <th></th>\n",
              "    </tr>\n",
              "  </thead>\n",
              "  <tbody>\n",
              "    <tr>\n",
              "      <th>12346.0</th>\n",
              "      <td>74215</td>\n",
              "      <td>1.04</td>\n",
              "      <td>14</td>\n",
              "      <td>0.000000</td>\n",
              "    </tr>\n",
              "    <tr>\n",
              "      <th>12747.0</th>\n",
              "      <td>1275</td>\n",
              "      <td>449.89</td>\n",
              "      <td>0</td>\n",
              "      <td>0.548667</td>\n",
              "    </tr>\n",
              "    <tr>\n",
              "      <th>12748.0</th>\n",
              "      <td>25747</td>\n",
              "      <td>12205.60</td>\n",
              "      <td>26</td>\n",
              "      <td>0.000000</td>\n",
              "    </tr>\n",
              "    <tr>\n",
              "      <th>12749.0</th>\n",
              "      <td>1471</td>\n",
              "      <td>994.99</td>\n",
              "      <td>0</td>\n",
              "      <td>0.172422</td>\n",
              "    </tr>\n",
              "    <tr>\n",
              "      <th>12820.0</th>\n",
              "      <td>722</td>\n",
              "      <td>112.38</td>\n",
              "      <td>0</td>\n",
              "      <td>0.774385</td>\n",
              "    </tr>\n",
              "  </tbody>\n",
              "</table>\n",
              "</div>"
            ],
            "text/plain": [
              "            Quantity  UnitPrice  Clustering  Silh_Coef\n",
              "CustomerID                                            \n",
              "12346.0        74215       1.04          14   0.000000\n",
              "12747.0         1275     449.89           0   0.548667\n",
              "12748.0        25747   12205.60          26   0.000000\n",
              "12749.0         1471     994.99           0   0.172422\n",
              "12820.0          722     112.38           0   0.774385"
            ]
          },
          "metadata": {
            "tags": []
          },
          "execution_count": 256
        }
      ]
    },
    {
      "cell_type": "code",
      "metadata": {
        "colab": {
          "base_uri": "https://localhost:8080/"
        },
        "id": "rE0Hkyb15JQm",
        "outputId": "0bf9e4d0-f36c-4d7e-fb56-d00b024dfb7e"
      },
      "source": [
        "from sklearn.metrics import silhouette_score\r\n",
        "\r\n",
        "silhouette_score(DF1, DF1['Clustering'])"
      ],
      "execution_count": 257,
      "outputs": [
        {
          "output_type": "execute_result",
          "data": {
            "text/plain": [
              "0.6601328209205919"
            ]
          },
          "metadata": {
            "tags": []
          },
          "execution_count": 257
        }
      ]
    },
    {
      "cell_type": "markdown",
      "metadata": {
        "id": "7tKT2u_t65hL"
      },
      "source": [
        "## Result"
      ]
    },
    {
      "cell_type": "markdown",
      "metadata": {
        "id": "znqV5fS19LsW"
      },
      "source": [
        "* CustomerID로 groupby하고 Quantity, UnitPrice의 합계, k-means(n_clusters=10)\r\n",
        "\r\n",
        "  0.6520786665222102"
      ]
    },
    {
      "cell_type": "markdown",
      "metadata": {
        "id": "a4YgGDl_9np8"
      },
      "source": [
        "* CustomerID로 groupby하고 Quantity, UnitPrice의 합계, meanshift(bandwidth=900)\r\n",
        "\r\n",
        "  0.6601328209205919"
      ]
    }
  ]
}